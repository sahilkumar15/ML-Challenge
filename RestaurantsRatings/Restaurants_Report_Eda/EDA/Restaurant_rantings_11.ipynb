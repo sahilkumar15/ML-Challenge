{
 "cells": [
  {
   "cell_type": "markdown",
   "metadata": {},
   "source": [
    "# Final project: Restaurants Ratings Prediction\n",
    "<hr>\n",
    "\n",
    "# Objectives"
   ]
  },
  {
   "cell_type": "markdown",
   "metadata": {},
   "source": [
    "**Why there is a need of better rating?**<br>\n",
    "- Restaurants charges less commission for higher rating \n",
    "- Restaurants has filter options(rating 3.5+) which displays better rated restaurants in the search\n",
    "- Restaurant shows on top over the other insearch\n",
    "- Attracts more footfall to the Restaurants."
   ]
  },
  {
   "cell_type": "markdown",
   "metadata": {},
   "source": [
    "<a id='library'></a>\n",
    "# 1. Importing Librabries"
   ]
  },
  {
   "cell_type": "code",
   "execution_count": 1,
   "metadata": {},
   "outputs": [],
   "source": [
    "#importing all the libraries here\n",
    "#imorting numpty and pandas to handle dataframe\n",
    "import numpy as np\n",
    "import pandas as pd\n",
    "#import matplotlib to plot graphs\n",
    "import matplotlib.pyplot as plt\n",
    "\n",
    "#splting data into train and test data\n",
    "from sklearn.model_selection import train_test_split\n",
    "#importing simple imputer to deal with missing values\n",
    "from sklearn.impute import SimpleImputer\n",
    "#Used Minax Scalar for scaling values between [0,1]\n",
    "from sklearn.preprocessing import MinMaxScaler\n",
    "\n",
    "#bencahmarck model and evaluration metrics\n",
    "from sklearn.linear_model import LinearRegression\n",
    "from sklearn import metrics\n",
    "\n",
    "#Librabries for creating and training neural Networks\n",
    "import torch\n",
    "\n",
    "#helper function\n",
    "from helper import *\n",
    "\n",
    "#functions for exploratory visualizations\n",
    "import visuals as vs\n",
    "\n",
    "#functions for training,processing and predicitng\n",
    "import train as tr\n",
    "import predict as pr\n",
    "\n",
    "%matplotlib inline "
   ]
  },
  {
   "cell_type": "code",
   "execution_count": 2,
   "metadata": {},
   "outputs": [],
   "source": [
    "# explicitly require this experimental feature\n",
    "from sklearn.experimental import enable_iterative_imputer  # noqa\n",
    "# now you can import normally from sklearn.impute\n",
    "from sklearn.impute import IterativeImputer\n",
    "from sklearn.ensemble import ExtraTreesRegressor\n",
    "#from sklearn.neighbors import KNeighborsRegressor\n",
    "from sklearn.preprocessing import OrdinalEncoder\n",
    "from sklearn.impute import KNNImputer\n",
    "import seaborn as sns\n",
    "from scipy.stats import zscore"
   ]
  },
  {
   "cell_type": "code",
   "execution_count": 3,
   "metadata": {},
   "outputs": [],
   "source": [
    "from sklearn.experimental import enable_iterative_imputer  # noqa\n",
    "# now you can import normally from sklearn.impute\n",
    "from sklearn.impute import IterativeImputer\n",
    "from sklearn.ensemble import ExtraTreesRegressor\n",
    "from sklearn.linear_model import BayesianRidge\n",
    "from sklearn.impute import KNNImputer"
   ]
  },
  {
   "cell_type": "code",
   "execution_count": 4,
   "metadata": {},
   "outputs": [
    {
     "name": "stderr",
     "output_type": "stream",
     "text": [
      "Using TensorFlow backend.\n",
      "C:\\Users\\sahil.kumar\\.conda\\envs\\ml\\lib\\site-packages\\sklearn\\utils\\deprecation.py:144: FutureWarning: The sklearn.metrics.scorer module is  deprecated in version 0.22 and will be removed in version 0.24. The corresponding classes / functions should instead be imported from sklearn.metrics. Anything that cannot be imported from sklearn.metrics is now part of the private API.\n",
      "  warnings.warn(message, FutureWarning)\n",
      "C:\\Users\\sahil.kumar\\.conda\\envs\\ml\\lib\\site-packages\\sklearn\\utils\\deprecation.py:144: FutureWarning: The sklearn.feature_selection.base module is  deprecated in version 0.22 and will be removed in version 0.24. The corresponding classes / functions should instead be imported from sklearn.feature_selection. Anything that cannot be imported from sklearn.feature_selection is now part of the private API.\n",
      "  warnings.warn(message, FutureWarning)\n"
     ]
    }
   ],
   "source": [
    "import nltk, re\n",
    "# nltk.download('stopwords')\n",
    "from nltk.corpus import stopwords\n",
    "\n",
    "from xgboost import XGBClassifier\n",
    "from sklearn.svm import SVC\n",
    "from sklearn.ensemble import RandomForestClassifier\n",
    "from sklearn.linear_model import LogisticRegression\n",
    "from imblearn.ensemble import BalancedBaggingClassifier\n",
    "from sklearn.tree import DecisionTreeClassifier\n",
    "from sklearn.naive_bayes import GaussianNB\n",
    "\n",
    "import lightgbm as lgb\n",
    "import eli5\n",
    "import time\n",
    "from sklearn.model_selection import train_test_split,cross_val_predict,cross_val_score\n",
    "from sklearn.ensemble import RandomForestClassifier\n",
    "from pdpbox import pdp, get_dataset, info_plots\n",
    "from sklearn.model_selection import StratifiedKFold\n",
    "from sklearn.linear_model import LogisticRegression\n",
    "from sklearn.metrics import confusion_matrix,roc_auc_score,roc_curve,classification_report,roc_curve,auc\n",
    "from imblearn.over_sampling import SMOTE\n",
    "from sklearn.model_selection import KFold, train_test_split\n",
    "\n",
    "from sklearn.metrics import accuracy_score\n",
    "\n",
    "from sklearn.pipeline import Pipeline\n",
    "from sklearn.preprocessing import StandardScaler\n",
    "\n",
    "import lightgbm as lgb\n",
    "from bayes_opt import BayesianOptimization\n",
    "# import xgboost as xgb\n",
    "from xgboost import XGBClassifier\n",
    "from sklearn.metrics import r2_score\n",
    "import pickle\n",
    "random_state=42\n",
    "np.random.seed(random_state)\n",
    "import warnings\n",
    "warnings.filterwarnings('ignore')"
   ]
  },
  {
   "cell_type": "markdown",
   "metadata": {},
   "source": [
    " <a id='dataexploration'></a>\n",
    "# 2. Exploring Data"
   ]
  },
  {
   "cell_type": "code",
   "execution_count": 5,
   "metadata": {},
   "outputs": [],
   "source": [
    "#copying data in csv file to dataframe\n",
    "restaurant_df = pd.read_csv(\"TA_restaurants_curated.csv\", low_memory=False)"
   ]
  },
  {
   "cell_type": "code",
   "execution_count": 6,
   "metadata": {},
   "outputs": [
    {
     "data": {
      "text/html": [
       "<div>\n",
       "<style scoped>\n",
       "    .dataframe tbody tr th:only-of-type {\n",
       "        vertical-align: middle;\n",
       "    }\n",
       "\n",
       "    .dataframe tbody tr th {\n",
       "        vertical-align: top;\n",
       "    }\n",
       "\n",
       "    .dataframe thead th {\n",
       "        text-align: right;\n",
       "    }\n",
       "</style>\n",
       "<table border=\"1\" class=\"dataframe\">\n",
       "  <thead>\n",
       "    <tr style=\"text-align: right;\">\n",
       "      <th></th>\n",
       "      <th>0</th>\n",
       "      <th>1</th>\n",
       "      <th>2</th>\n",
       "      <th>3</th>\n",
       "      <th>4</th>\n",
       "    </tr>\n",
       "  </thead>\n",
       "  <tbody>\n",
       "    <tr>\n",
       "      <th>Unnamed: 0</th>\n",
       "      <td>0</td>\n",
       "      <td>1</td>\n",
       "      <td>2</td>\n",
       "      <td>3</td>\n",
       "      <td>4</td>\n",
       "    </tr>\n",
       "    <tr>\n",
       "      <th>Name</th>\n",
       "      <td>Martine of Martine's Table</td>\n",
       "      <td>De Silveren Spiegel</td>\n",
       "      <td>La Rive</td>\n",
       "      <td>Vinkeles</td>\n",
       "      <td>Librije's Zusje Amsterdam</td>\n",
       "    </tr>\n",
       "    <tr>\n",
       "      <th>City</th>\n",
       "      <td>Amsterdam</td>\n",
       "      <td>Amsterdam</td>\n",
       "      <td>Amsterdam</td>\n",
       "      <td>Amsterdam</td>\n",
       "      <td>Amsterdam</td>\n",
       "    </tr>\n",
       "    <tr>\n",
       "      <th>Cuisine Style</th>\n",
       "      <td>['French', 'Dutch', 'European']</td>\n",
       "      <td>['Dutch', 'European', 'Vegetarian Friendly', '...</td>\n",
       "      <td>['Mediterranean', 'French', 'International', '...</td>\n",
       "      <td>['French', 'European', 'International', 'Conte...</td>\n",
       "      <td>['Dutch', 'European', 'International', 'Vegeta...</td>\n",
       "    </tr>\n",
       "    <tr>\n",
       "      <th>Ranking</th>\n",
       "      <td>1</td>\n",
       "      <td>2</td>\n",
       "      <td>3</td>\n",
       "      <td>4</td>\n",
       "      <td>5</td>\n",
       "    </tr>\n",
       "    <tr>\n",
       "      <th>Rating</th>\n",
       "      <td>5</td>\n",
       "      <td>4.5</td>\n",
       "      <td>4.5</td>\n",
       "      <td>5</td>\n",
       "      <td>4.5</td>\n",
       "    </tr>\n",
       "    <tr>\n",
       "      <th>Price Range</th>\n",
       "      <td>$$ - $$$</td>\n",
       "      <td>$$$$</td>\n",
       "      <td>$$$$</td>\n",
       "      <td>$$$$</td>\n",
       "      <td>$$$$</td>\n",
       "    </tr>\n",
       "    <tr>\n",
       "      <th>Number of Reviews</th>\n",
       "      <td>136</td>\n",
       "      <td>812</td>\n",
       "      <td>567</td>\n",
       "      <td>564</td>\n",
       "      <td>316</td>\n",
       "    </tr>\n",
       "    <tr>\n",
       "      <th>Reviews</th>\n",
       "      <td>[['Just like home', 'A Warm Welcome to Wintry ...</td>\n",
       "      <td>[['Great food and staff', 'just perfect'], ['0...</td>\n",
       "      <td>[['Satisfaction', 'Delicious old school restau...</td>\n",
       "      <td>[['True five star dinner', 'A superb evening o...</td>\n",
       "      <td>[['Best meal.... EVER', 'super food experience...</td>\n",
       "    </tr>\n",
       "    <tr>\n",
       "      <th>URL_TA</th>\n",
       "      <td>/Restaurant_Review-g188590-d11752080-Reviews-M...</td>\n",
       "      <td>/Restaurant_Review-g188590-d693419-Reviews-De_...</td>\n",
       "      <td>/Restaurant_Review-g188590-d696959-Reviews-La_...</td>\n",
       "      <td>/Restaurant_Review-g188590-d1239229-Reviews-Vi...</td>\n",
       "      <td>/Restaurant_Review-g188590-d6864170-Reviews-Li...</td>\n",
       "    </tr>\n",
       "    <tr>\n",
       "      <th>ID_TA</th>\n",
       "      <td>d11752080</td>\n",
       "      <td>d693419</td>\n",
       "      <td>d696959</td>\n",
       "      <td>d1239229</td>\n",
       "      <td>d6864170</td>\n",
       "    </tr>\n",
       "  </tbody>\n",
       "</table>\n",
       "</div>"
      ],
      "text/plain": [
       "                                                                   0  \\\n",
       "Unnamed: 0                                                         0   \n",
       "Name                                      Martine of Martine's Table   \n",
       "City                                                       Amsterdam   \n",
       "Cuisine Style                        ['French', 'Dutch', 'European']   \n",
       "Ranking                                                            1   \n",
       "Rating                                                             5   \n",
       "Price Range                                                 $$ - $$$   \n",
       "Number of Reviews                                                136   \n",
       "Reviews            [['Just like home', 'A Warm Welcome to Wintry ...   \n",
       "URL_TA             /Restaurant_Review-g188590-d11752080-Reviews-M...   \n",
       "ID_TA                                                      d11752080   \n",
       "\n",
       "                                                                   1  \\\n",
       "Unnamed: 0                                                         1   \n",
       "Name                                             De Silveren Spiegel   \n",
       "City                                                       Amsterdam   \n",
       "Cuisine Style      ['Dutch', 'European', 'Vegetarian Friendly', '...   \n",
       "Ranking                                                            2   \n",
       "Rating                                                           4.5   \n",
       "Price Range                                                     $$$$   \n",
       "Number of Reviews                                                812   \n",
       "Reviews            [['Great food and staff', 'just perfect'], ['0...   \n",
       "URL_TA             /Restaurant_Review-g188590-d693419-Reviews-De_...   \n",
       "ID_TA                                                        d693419   \n",
       "\n",
       "                                                                   2  \\\n",
       "Unnamed: 0                                                         2   \n",
       "Name                                                         La Rive   \n",
       "City                                                       Amsterdam   \n",
       "Cuisine Style      ['Mediterranean', 'French', 'International', '...   \n",
       "Ranking                                                            3   \n",
       "Rating                                                           4.5   \n",
       "Price Range                                                     $$$$   \n",
       "Number of Reviews                                                567   \n",
       "Reviews            [['Satisfaction', 'Delicious old school restau...   \n",
       "URL_TA             /Restaurant_Review-g188590-d696959-Reviews-La_...   \n",
       "ID_TA                                                        d696959   \n",
       "\n",
       "                                                                   3  \\\n",
       "Unnamed: 0                                                         3   \n",
       "Name                                                        Vinkeles   \n",
       "City                                                       Amsterdam   \n",
       "Cuisine Style      ['French', 'European', 'International', 'Conte...   \n",
       "Ranking                                                            4   \n",
       "Rating                                                             5   \n",
       "Price Range                                                     $$$$   \n",
       "Number of Reviews                                                564   \n",
       "Reviews            [['True five star dinner', 'A superb evening o...   \n",
       "URL_TA             /Restaurant_Review-g188590-d1239229-Reviews-Vi...   \n",
       "ID_TA                                                       d1239229   \n",
       "\n",
       "                                                                   4  \n",
       "Unnamed: 0                                                         4  \n",
       "Name                                       Librije's Zusje Amsterdam  \n",
       "City                                                       Amsterdam  \n",
       "Cuisine Style      ['Dutch', 'European', 'International', 'Vegeta...  \n",
       "Ranking                                                            5  \n",
       "Rating                                                           4.5  \n",
       "Price Range                                                     $$$$  \n",
       "Number of Reviews                                                316  \n",
       "Reviews            [['Best meal.... EVER', 'super food experience...  \n",
       "URL_TA             /Restaurant_Review-g188590-d6864170-Reviews-Li...  \n",
       "ID_TA                                                       d6864170  "
      ]
     },
     "execution_count": 6,
     "metadata": {},
     "output_type": "execute_result"
    }
   ],
   "source": [
    "restaurant_df.head().T"
   ]
  },
  {
   "cell_type": "code",
   "execution_count": 7,
   "metadata": {},
   "outputs": [
    {
     "data": {
      "text/plain": [
       "(125527, 11)"
      ]
     },
     "execution_count": 7,
     "metadata": {},
     "output_type": "execute_result"
    }
   ],
   "source": [
    "restaurant_df.shape"
   ]
  },
  {
   "cell_type": "code",
   "execution_count": 8,
   "metadata": {},
   "outputs": [
    {
     "name": "stdout",
     "output_type": "stream",
     "text": [
      "<class 'pandas.core.frame.DataFrame'>\n",
      "RangeIndex: 125527 entries, 0 to 125526\n",
      "Data columns (total 11 columns):\n",
      "Unnamed: 0           125527 non-null int64\n",
      "Name                 125527 non-null object\n",
      "City                 125527 non-null object\n",
      "Cuisine Style        94176 non-null object\n",
      "Ranking              115876 non-null float64\n",
      "Rating               115897 non-null float64\n",
      "Price Range          77672 non-null object\n",
      "Number of Reviews    108183 non-null float64\n",
      "Reviews              115911 non-null object\n",
      "URL_TA               125527 non-null object\n",
      "ID_TA                125527 non-null object\n",
      "dtypes: float64(3), int64(1), object(7)\n",
      "memory usage: 10.5+ MB\n"
     ]
    }
   ],
   "source": [
    "#.info() function is used to get a concise summary of the dataframe\n",
    "restaurant_df.info()"
   ]
  },
  {
   "cell_type": "code",
   "execution_count": 9,
   "metadata": {},
   "outputs": [
    {
     "data": {
      "text/plain": [
       "Unnamed: 0               0\n",
       "Name                     0\n",
       "City                     0\n",
       "Cuisine Style        31351\n",
       "Ranking               9651\n",
       "Rating                9630\n",
       "Price Range          47855\n",
       "Number of Reviews    17344\n",
       "Reviews               9616\n",
       "URL_TA                   0\n",
       "ID_TA                    0\n",
       "dtype: int64"
      ]
     },
     "execution_count": 9,
     "metadata": {},
     "output_type": "execute_result"
    }
   ],
   "source": [
    "restaurant_df.isnull().sum()"
   ]
  },
  {
   "cell_type": "code",
   "execution_count": null,
   "metadata": {},
   "outputs": [],
   "source": []
  },
  {
   "cell_type": "markdown",
   "metadata": {},
   "source": [
    "### 2.1 Missing Data Analysis\n",
    "Surely, there is missing data. Let us now see how much of it is missing"
   ]
  },
  {
   "cell_type": "code",
   "execution_count": 10,
   "metadata": {},
   "outputs": [
    {
     "name": "stdout",
     "output_type": "stream",
     "text": [
      "Missing values in train data :  125447\n"
     ]
    },
    {
     "data": {
      "image/png": "[encoded data removed]",
      "text/plain": [
       "<Figure size 360x360 with 1 Axes>"
      ]
     },
     "metadata": {
      "needs_background": "light"
     },
     "output_type": "display_data"
    }
   ],
   "source": [
    "def check_missing_values(train_files):\n",
    "       \n",
    "        plt.figure(figsize=(5, 5))\n",
    "        train_files.isnull().mean(axis=0).plot.barh()\n",
    "        plt.title(\"Ratio of missing values per columns of \")\n",
    "        \n",
    "        train_missing=train_files.isnull().sum().sum()\n",
    "        print('Missing values in train data : ',train_missing)\n",
    "        \n",
    "check_missing_values(restaurant_df)"
   ]
  },
  {
   "cell_type": "markdown",
   "metadata": {},
   "source": [
    "#### Note:-\n",
    "- This says we have missing values in **Cuisine Style, Ranking, Rating, Price Range, Number of Reviews, Reviews**\n",
    "- **\"Unnamed: 0\"** which is int, **\"Ranking\", \"Rating\",** and **\"Number\"** of Reviews are float, so we can get stats only for this column as of now.\n",
    "- remaining all object type"
   ]
  },
  {
   "cell_type": "markdown",
   "metadata": {},
   "source": [
    "**Inference**\n",
    "- More than 38% of Price Range are missing\n",
    "- More than 25% of Cuisine Style are missing\n",
    "- More than 7% of Rating and Reviews is missing\n",
    "- close to 8% of rate are missing\n",
    "- close to 15% of Number of Reviews are missing"
   ]
  },
  {
   "cell_type": "code",
   "execution_count": 11,
   "metadata": {},
   "outputs": [
    {
     "data": {
      "text/plain": [
       "125447"
      ]
     },
     "execution_count": 11,
     "metadata": {},
     "output_type": "execute_result"
    }
   ],
   "source": [
    "restaurant_df.isnull().sum().sum()"
   ]
  },
  {
   "cell_type": "code",
   "execution_count": 12,
   "metadata": {},
   "outputs": [
    {
     "data": {
      "text/plain": [
       "Index(['Unnamed: 0', 'Name', 'City', 'Cuisine Style', 'Ranking', 'Rating',\n",
       "       'Price Range', 'Number of Reviews', 'Reviews', 'URL_TA', 'ID_TA'],\n",
       "      dtype='object')"
      ]
     },
     "execution_count": 12,
     "metadata": {},
     "output_type": "execute_result"
    }
   ],
   "source": [
    "restaurant_df.columns"
   ]
  },
  {
   "cell_type": "markdown",
   "metadata": {},
   "source": [
    "This shows the list of columns in the given dataset"
   ]
  },
  {
   "cell_type": "code",
   "execution_count": 13,
   "metadata": {},
   "outputs": [
    {
     "data": {
      "text/html": [
       "<div>\n",
       "<style scoped>\n",
       "    .dataframe tbody tr th:only-of-type {\n",
       "        vertical-align: middle;\n",
       "    }\n",
       "\n",
       "    .dataframe tbody tr th {\n",
       "        vertical-align: top;\n",
       "    }\n",
       "\n",
       "    .dataframe thead th {\n",
       "        text-align: right;\n",
       "    }\n",
       "</style>\n",
       "<table border=\"1\" class=\"dataframe\">\n",
       "  <thead>\n",
       "    <tr style=\"text-align: right;\">\n",
       "      <th></th>\n",
       "      <th>Unnamed: 0</th>\n",
       "      <th>Ranking</th>\n",
       "      <th>Rating</th>\n",
       "      <th>Number of Reviews</th>\n",
       "    </tr>\n",
       "  </thead>\n",
       "  <tbody>\n",
       "    <tr>\n",
       "      <th>count</th>\n",
       "      <td>125527.000000</td>\n",
       "      <td>115876.000000</td>\n",
       "      <td>115897.000000</td>\n",
       "      <td>108183.000000</td>\n",
       "    </tr>\n",
       "    <tr>\n",
       "      <th>mean</th>\n",
       "      <td>3974.686131</td>\n",
       "      <td>3657.463979</td>\n",
       "      <td>3.987441</td>\n",
       "      <td>125.184983</td>\n",
       "    </tr>\n",
       "    <tr>\n",
       "      <th>std</th>\n",
       "      <td>4057.687698</td>\n",
       "      <td>3706.255301</td>\n",
       "      <td>0.678814</td>\n",
       "      <td>310.833311</td>\n",
       "    </tr>\n",
       "    <tr>\n",
       "      <th>min</th>\n",
       "      <td>0.000000</td>\n",
       "      <td>1.000000</td>\n",
       "      <td>-1.000000</td>\n",
       "      <td>2.000000</td>\n",
       "    </tr>\n",
       "    <tr>\n",
       "      <th>25%</th>\n",
       "      <td>1042.000000</td>\n",
       "      <td>965.000000</td>\n",
       "      <td>3.500000</td>\n",
       "      <td>9.000000</td>\n",
       "    </tr>\n",
       "    <tr>\n",
       "      <th>50%</th>\n",
       "      <td>2445.000000</td>\n",
       "      <td>2256.000000</td>\n",
       "      <td>4.000000</td>\n",
       "      <td>32.000000</td>\n",
       "    </tr>\n",
       "    <tr>\n",
       "      <th>75%</th>\n",
       "      <td>5626.000000</td>\n",
       "      <td>5237.000000</td>\n",
       "      <td>4.500000</td>\n",
       "      <td>114.000000</td>\n",
       "    </tr>\n",
       "    <tr>\n",
       "      <th>max</th>\n",
       "      <td>18211.000000</td>\n",
       "      <td>16444.000000</td>\n",
       "      <td>5.000000</td>\n",
       "      <td>16478.000000</td>\n",
       "    </tr>\n",
       "  </tbody>\n",
       "</table>\n",
       "</div>"
      ],
      "text/plain": [
       "          Unnamed: 0        Ranking         Rating  Number of Reviews\n",
       "count  125527.000000  115876.000000  115897.000000      108183.000000\n",
       "mean     3974.686131    3657.463979       3.987441         125.184983\n",
       "std      4057.687698    3706.255301       0.678814         310.833311\n",
       "min         0.000000       1.000000      -1.000000           2.000000\n",
       "25%      1042.000000     965.000000       3.500000           9.000000\n",
       "50%      2445.000000    2256.000000       4.000000          32.000000\n",
       "75%      5626.000000    5237.000000       4.500000         114.000000\n",
       "max     18211.000000   16444.000000       5.000000       16478.000000"
      ]
     },
     "execution_count": 13,
     "metadata": {},
     "output_type": "execute_result"
    }
   ],
   "source": [
    "restaurant_df.describe()"
   ]
  },
  {
   "cell_type": "markdown",
   "metadata": {},
   "source": [
    "**Note**:-\n",
    "- as min value is -1, this means that we have restaurent with minimum  **Rating**.\n",
    "- we have a restaurent with highest rating is 5.\n",
    "<br>\n",
    "- as min value is 2, this means that we have restaurent with minimum  **Number of Reviews**.\n",
    "- we have a restaurent with highest Number of Reviews is 16478.\n",
    "<br>\n",
    "- as min value is 1, this means that we have restaurent with starting with **Ranking** 1.\n",
    "- we have a restaurent with maximum Ranking is 16444."
   ]
  },
  {
   "cell_type": "markdown",
   "metadata": {},
   "source": [
    "### 2.2 Checking Duplicates values and drop it."
   ]
  },
  {
   "cell_type": "code",
   "execution_count": 14,
   "metadata": {},
   "outputs": [
    {
     "name": "stdout",
     "output_type": "stream",
     "text": [
      "\n",
      "Dataset: \n",
      "Dupplicate entries: 0\n",
      "Dupplicate after applying: 0\n"
     ]
    }
   ],
   "source": [
    "def check_duplicate(train_files):\n",
    "    \n",
    "        print('\\nDataset: ')\n",
    "        print('Dupplicate entries: {}'.format(train_files.duplicated().sum()))\n",
    "        \n",
    "#       If duplicate entries drop the duplicates values\n",
    "        train_files.drop_duplicates(inplace = True) \n",
    "        print('Dupplicate after applying: {}'.format(train_files.duplicated().sum()))\n",
    "check_duplicate(restaurant_df)"
   ]
  },
  {
   "cell_type": "markdown",
   "metadata": {},
   "source": [
    "Here we can see that there is no duplicay in dataset"
   ]
  },
  {
   "cell_type": "markdown",
   "metadata": {},
   "source": [
    "**About Data set**\n",
    "- Dataset size: 125527 rows x 11 columns\n",
    "- All columns are of type \"object\" except for **\"Unnamed: 0\"** which is int, **\"Ranking\", \"Rating\",** and **\"Number\"** of Reviews are float.\n",
    "- 9630 ratings are missing in the rating column\n",
    "- 9651 Ranking are missing in the Ranking column\n",
    "- 47855 are mising Price Range \n",
    "- 17344 Number of Reviews are missing\n",
    "- 31351 Cuisine Style are missing\n",
    "- 9616 Reviews are missing\n",
    "- No duplicated row\n",
    "- Basic statistics is discussed after processing the data <a href=\"#stats\">click here for stats</a>"
   ]
  },
  {
   "cell_type": "markdown",
   "metadata": {},
   "source": [
    "**Columns details**"
   ]
  },
  {
   "cell_type": "markdown",
   "metadata": {},
   "source": [
    "o\t**Name**: name if the restaurant<br>\n",
    "o\t**City**: city location of the restaurant<br>\n",
    "o\t**Cuisine Style:** cuisine style(s) of the restaurant, in a Python list object (94 046 non-null)<br>\n",
    "o\t**Ranking:** rank of the restaurant among the total number of restaurants in the city as a float object (115 645 non-null)<br>\n",
    "o\t**Rating:** rate of the restaurant on a scale from 1 to 5, as a float object (115 658 non-null)(Target Column)<br>\n",
    "o\t**Price Range:** price range of the restaurant among 3 categories , as a categorical type (77 555 non-null)<br>\n",
    "o\t**Number of Reviews:** number of reviews that customers have let to the restaurant, as a float object (108 020 non-null)<br>\n",
    "o\t**Reviews:** 2 reviews that are displayed on the restaurants scrolling page of the city, as a list of list object where the first list contains the 2 reviews, and the second le dates when these reviews were written (115 673 non-null)<br>\n",
    "o\t**URL_TA:** part of the URL of the detailed restaurant page that comes after 'www.tripadvisor.com' as a string object (124 995 non-null)<br>\n",
    "o\t**ID_TA:** identification of the restaurant in the TA database constructed a one letter and a number (124 995 non-null)<br>\n"
   ]
  },
  {
   "cell_type": "markdown",
   "metadata": {},
   "source": [
    "### 2.3 Renaming dataset"
   ]
  },
  {
   "cell_type": "code",
   "execution_count": 15,
   "metadata": {},
   "outputs": [],
   "source": [
    "restaurant_df = restaurant_df.rename(columns={'Cuisine Style': 'cuisines', \n",
    "                                                    'Rating':'rate', \n",
    "                                                    'City': 'city',\n",
    "                                                    'Number of Reviews':'number_of_reviews',\n",
    "                                                    \"Price Range\": \"price_range\",\n",
    "                                                    \"Name\":'name',\n",
    "                                                    'Ranking':'ranking',\n",
    "                                                    'Reviews':'reviews',\n",
    "                                                    'Unnamed: 0':'unnamed'})"
   ]
  },
  {
   "cell_type": "code",
   "execution_count": 16,
   "metadata": {},
   "outputs": [
    {
     "data": {
      "text/plain": [
       "Index(['unnamed', 'name', 'city', 'cuisines', 'ranking', 'rate', 'price_range',\n",
       "       'number_of_reviews', 'reviews', 'URL_TA', 'ID_TA'],\n",
       "      dtype='object')"
      ]
     },
     "execution_count": 16,
     "metadata": {},
     "output_type": "execute_result"
    }
   ],
   "source": [
    "restaurant_df.columns"
   ]
  },
  {
   "cell_type": "code",
   "execution_count": 17,
   "metadata": {},
   "outputs": [
    {
     "data": {
      "text/html": [
       "<div>\n",
       "<style scoped>\n",
       "    .dataframe tbody tr th:only-of-type {\n",
       "        vertical-align: middle;\n",
       "    }\n",
       "\n",
       "    .dataframe tbody tr th {\n",
       "        vertical-align: top;\n",
       "    }\n",
       "\n",
       "    .dataframe thead th {\n",
       "        text-align: right;\n",
       "    }\n",
       "</style>\n",
       "<table border=\"1\" class=\"dataframe\">\n",
       "  <thead>\n",
       "    <tr style=\"text-align: right;\">\n",
       "      <th></th>\n",
       "      <th>unnamed</th>\n",
       "      <th>name</th>\n",
       "      <th>city</th>\n",
       "      <th>cuisines</th>\n",
       "      <th>ranking</th>\n",
       "      <th>rate</th>\n",
       "      <th>price_range</th>\n",
       "      <th>number_of_reviews</th>\n",
       "      <th>reviews</th>\n",
       "      <th>URL_TA</th>\n",
       "      <th>ID_TA</th>\n",
       "    </tr>\n",
       "  </thead>\n",
       "  <tbody>\n",
       "    <tr>\n",
       "      <th>0</th>\n",
       "      <td>0</td>\n",
       "      <td>Martine of Martine's Table</td>\n",
       "      <td>Amsterdam</td>\n",
       "      <td>['French', 'Dutch', 'European']</td>\n",
       "      <td>1.0</td>\n",
       "      <td>5.0</td>\n",
       "      <td>$$ - $$$</td>\n",
       "      <td>136.0</td>\n",
       "      <td>[['Just like home', 'A Warm Welcome to Wintry ...</td>\n",
       "      <td>/Restaurant_Review-g188590-d11752080-Reviews-M...</td>\n",
       "      <td>d11752080</td>\n",
       "    </tr>\n",
       "    <tr>\n",
       "      <th>1</th>\n",
       "      <td>1</td>\n",
       "      <td>De Silveren Spiegel</td>\n",
       "      <td>Amsterdam</td>\n",
       "      <td>['Dutch', 'European', 'Vegetarian Friendly', '...</td>\n",
       "      <td>2.0</td>\n",
       "      <td>4.5</td>\n",
       "      <td>$$$$</td>\n",
       "      <td>812.0</td>\n",
       "      <td>[['Great food and staff', 'just perfect'], ['0...</td>\n",
       "      <td>/Restaurant_Review-g188590-d693419-Reviews-De_...</td>\n",
       "      <td>d693419</td>\n",
       "    </tr>\n",
       "    <tr>\n",
       "      <th>2</th>\n",
       "      <td>2</td>\n",
       "      <td>La Rive</td>\n",
       "      <td>Amsterdam</td>\n",
       "      <td>['Mediterranean', 'French', 'International', '...</td>\n",
       "      <td>3.0</td>\n",
       "      <td>4.5</td>\n",
       "      <td>$$$$</td>\n",
       "      <td>567.0</td>\n",
       "      <td>[['Satisfaction', 'Delicious old school restau...</td>\n",
       "      <td>/Restaurant_Review-g188590-d696959-Reviews-La_...</td>\n",
       "      <td>d696959</td>\n",
       "    </tr>\n",
       "    <tr>\n",
       "      <th>3</th>\n",
       "      <td>3</td>\n",
       "      <td>Vinkeles</td>\n",
       "      <td>Amsterdam</td>\n",
       "      <td>['French', 'European', 'International', 'Conte...</td>\n",
       "      <td>4.0</td>\n",
       "      <td>5.0</td>\n",
       "      <td>$$$$</td>\n",
       "      <td>564.0</td>\n",
       "      <td>[['True five star dinner', 'A superb evening o...</td>\n",
       "      <td>/Restaurant_Review-g188590-d1239229-Reviews-Vi...</td>\n",
       "      <td>d1239229</td>\n",
       "    </tr>\n",
       "    <tr>\n",
       "      <th>4</th>\n",
       "      <td>4</td>\n",
       "      <td>Librije's Zusje Amsterdam</td>\n",
       "      <td>Amsterdam</td>\n",
       "      <td>['Dutch', 'European', 'International', 'Vegeta...</td>\n",
       "      <td>5.0</td>\n",
       "      <td>4.5</td>\n",
       "      <td>$$$$</td>\n",
       "      <td>316.0</td>\n",
       "      <td>[['Best meal.... EVER', 'super food experience...</td>\n",
       "      <td>/Restaurant_Review-g188590-d6864170-Reviews-Li...</td>\n",
       "      <td>d6864170</td>\n",
       "    </tr>\n",
       "  </tbody>\n",
       "</table>\n",
       "</div>"
      ],
      "text/plain": [
       "   unnamed                        name       city  \\\n",
       "0        0  Martine of Martine's Table  Amsterdam   \n",
       "1        1         De Silveren Spiegel  Amsterdam   \n",
       "2        2                     La Rive  Amsterdam   \n",
       "3        3                    Vinkeles  Amsterdam   \n",
       "4        4   Librije's Zusje Amsterdam  Amsterdam   \n",
       "\n",
       "                                            cuisines  ranking  rate  \\\n",
       "0                    ['French', 'Dutch', 'European']      1.0   5.0   \n",
       "1  ['Dutch', 'European', 'Vegetarian Friendly', '...      2.0   4.5   \n",
       "2  ['Mediterranean', 'French', 'International', '...      3.0   4.5   \n",
       "3  ['French', 'European', 'International', 'Conte...      4.0   5.0   \n",
       "4  ['Dutch', 'European', 'International', 'Vegeta...      5.0   4.5   \n",
       "\n",
       "  price_range  number_of_reviews  \\\n",
       "0    $$ - $$$              136.0   \n",
       "1        $$$$              812.0   \n",
       "2        $$$$              567.0   \n",
       "3        $$$$              564.0   \n",
       "4        $$$$              316.0   \n",
       "\n",
       "                                             reviews  \\\n",
       "0  [['Just like home', 'A Warm Welcome to Wintry ...   \n",
       "1  [['Great food and staff', 'just perfect'], ['0...   \n",
       "2  [['Satisfaction', 'Delicious old school restau...   \n",
       "3  [['True five star dinner', 'A superb evening o...   \n",
       "4  [['Best meal.... EVER', 'super food experience...   \n",
       "\n",
       "                                              URL_TA      ID_TA  \n",
       "0  /Restaurant_Review-g188590-d11752080-Reviews-M...  d11752080  \n",
       "1  /Restaurant_Review-g188590-d693419-Reviews-De_...    d693419  \n",
       "2  /Restaurant_Review-g188590-d696959-Reviews-La_...    d696959  \n",
       "3  /Restaurant_Review-g188590-d1239229-Reviews-Vi...   d1239229  \n",
       "4  /Restaurant_Review-g188590-d6864170-Reviews-Li...   d6864170  "
      ]
     },
     "execution_count": 17,
     "metadata": {},
     "output_type": "execute_result"
    }
   ],
   "source": [
    "restaurant_df.head()"
   ]
  },
  {
   "cell_type": "markdown",
   "metadata": {},
   "source": [
    "### 2.4 Dropping columns "
   ]
  },
  {
   "cell_type": "markdown",
   "metadata": {},
   "source": [
    "**Note**\n",
    "- After Studying the data we can clearly delete the following columns as the make are not useful for our analysis **\"URL_TA\", 'unnamed','ID_TA'**.\n"
   ]
  },
  {
   "cell_type": "code",
   "execution_count": 18,
   "metadata": {},
   "outputs": [],
   "source": [
    "# restaurant_df.drop(columns=[\"URL_TA\", 'unnamed','ID_TA','price_range'], inplace  =True)\n",
    "restaurant_df.drop(columns=[\"URL_TA\", 'unnamed', 'ID_TA'], inplace  =True)"
   ]
  },
  {
   "cell_type": "code",
   "execution_count": 19,
   "metadata": {},
   "outputs": [
    {
     "data": {
      "text/plain": [
       "name                     0\n",
       "city                     0\n",
       "cuisines             31351\n",
       "ranking               9651\n",
       "rate                  9630\n",
       "price_range          47855\n",
       "number_of_reviews    17344\n",
       "reviews               9616\n",
       "dtype: int64"
      ]
     },
     "execution_count": 19,
     "metadata": {},
     "output_type": "execute_result"
    }
   ],
   "source": [
    "restaurant_df.isna().sum()"
   ]
  },
  {
   "cell_type": "code",
   "execution_count": 20,
   "metadata": {},
   "outputs": [
    {
     "data": {
      "text/html": [
       "<div>\n",
       "<style scoped>\n",
       "    .dataframe tbody tr th:only-of-type {\n",
       "        vertical-align: middle;\n",
       "    }\n",
       "\n",
       "    .dataframe tbody tr th {\n",
       "        vertical-align: top;\n",
       "    }\n",
       "\n",
       "    .dataframe thead th {\n",
       "        text-align: right;\n",
       "    }\n",
       "</style>\n",
       "<table border=\"1\" class=\"dataframe\">\n",
       "  <thead>\n",
       "    <tr style=\"text-align: right;\">\n",
       "      <th></th>\n",
       "      <th>name</th>\n",
       "      <th>city</th>\n",
       "      <th>cuisines</th>\n",
       "      <th>ranking</th>\n",
       "      <th>rate</th>\n",
       "      <th>price_range</th>\n",
       "      <th>number_of_reviews</th>\n",
       "      <th>reviews</th>\n",
       "    </tr>\n",
       "  </thead>\n",
       "  <tbody>\n",
       "    <tr>\n",
       "      <th>125522</th>\n",
       "      <td>Konrad Kaffee- &amp; Cocktailbar</td>\n",
       "      <td>Zurich</td>\n",
       "      <td>NaN</td>\n",
       "      <td>NaN</td>\n",
       "      <td>NaN</td>\n",
       "      <td>NaN</td>\n",
       "      <td>NaN</td>\n",
       "      <td>NaN</td>\n",
       "    </tr>\n",
       "    <tr>\n",
       "      <th>125523</th>\n",
       "      <td>Blueberry American Bakery</td>\n",
       "      <td>Zurich</td>\n",
       "      <td>['Cafe']</td>\n",
       "      <td>NaN</td>\n",
       "      <td>NaN</td>\n",
       "      <td>NaN</td>\n",
       "      <td>NaN</td>\n",
       "      <td>NaN</td>\n",
       "    </tr>\n",
       "    <tr>\n",
       "      <th>125524</th>\n",
       "      <td>Restaurant Bahnhof</td>\n",
       "      <td>Zurich</td>\n",
       "      <td>NaN</td>\n",
       "      <td>NaN</td>\n",
       "      <td>NaN</td>\n",
       "      <td>NaN</td>\n",
       "      <td>NaN</td>\n",
       "      <td>NaN</td>\n",
       "    </tr>\n",
       "    <tr>\n",
       "      <th>125525</th>\n",
       "      <td>Yoyo Pizza</td>\n",
       "      <td>Zurich</td>\n",
       "      <td>['Fast Food']</td>\n",
       "      <td>NaN</td>\n",
       "      <td>NaN</td>\n",
       "      <td>NaN</td>\n",
       "      <td>NaN</td>\n",
       "      <td>NaN</td>\n",
       "    </tr>\n",
       "    <tr>\n",
       "      <th>125526</th>\n",
       "      <td>dieci</td>\n",
       "      <td>Zurich</td>\n",
       "      <td>['Italian', 'Pizza', 'Mediterranean', 'Diner']</td>\n",
       "      <td>NaN</td>\n",
       "      <td>NaN</td>\n",
       "      <td>$$ - $$$</td>\n",
       "      <td>NaN</td>\n",
       "      <td>NaN</td>\n",
       "    </tr>\n",
       "  </tbody>\n",
       "</table>\n",
       "</div>"
      ],
      "text/plain": [
       "                                name    city  \\\n",
       "125522  Konrad Kaffee- & Cocktailbar  Zurich   \n",
       "125523     Blueberry American Bakery  Zurich   \n",
       "125524            Restaurant Bahnhof  Zurich   \n",
       "125525                    Yoyo Pizza  Zurich   \n",
       "125526                         dieci  Zurich   \n",
       "\n",
       "                                              cuisines  ranking  rate  \\\n",
       "125522                                             NaN      NaN   NaN   \n",
       "125523                                        ['Cafe']      NaN   NaN   \n",
       "125524                                             NaN      NaN   NaN   \n",
       "125525                                   ['Fast Food']      NaN   NaN   \n",
       "125526  ['Italian', 'Pizza', 'Mediterranean', 'Diner']      NaN   NaN   \n",
       "\n",
       "       price_range  number_of_reviews reviews  \n",
       "125522         NaN                NaN     NaN  \n",
       "125523         NaN                NaN     NaN  \n",
       "125524         NaN                NaN     NaN  \n",
       "125525         NaN                NaN     NaN  \n",
       "125526    $$ - $$$                NaN     NaN  "
      ]
     },
     "execution_count": 20,
     "metadata": {},
     "output_type": "execute_result"
    }
   ],
   "source": [
    "restaurant_df.tail()"
   ]
  },
  {
   "cell_type": "markdown",
   "metadata": {},
   "source": [
    "<a id='visualization'></a>\n",
    "# 3.Data Preprocessing and Exploring visulization\n",
    "Visualizing columns using matplotlib and seaborn"
   ]
  },
  {
   "cell_type": "markdown",
   "metadata": {},
   "source": [
    "<a id='rating'></a>\n",
    "## 3.1 Rating bar plot\n",
    "\n",
    "### 3.1.1 Ratings Between -1-5 with interval 0.5"
   ]
  },
  {
   "cell_type": "markdown",
   "metadata": {},
   "source": [
    "In this section I have\n",
    "> - Visualized the ratings, normal curve formded by the count of unique ratings using bar graph<br>\n",
    "> -  Visualized the color bins for the ratings of the restaurant using bar graph\n",
    "\n",
    "The ratings are in the form of string '3.5' containing spaces in some and have few missing values in form of NaNs<br>\n",
    "The Ratngs are in the form:\n",
    "   - *'3.5'* -> rating out of 5\n",
    "   - *NaNs* -> missing ratings in the column"
   ]
  },
  {
   "cell_type": "code",
   "execution_count": 21,
   "metadata": {},
   "outputs": [],
   "source": [
    "def rating_curve(df):\n",
    "    '''\n",
    "    plots bar graph for counts of unique values in rate column\n",
    "    \n",
    "    '''\n",
    "    \n",
    "    #return the numerical value of ratings from string\n",
    "    rate = df.apply(lambda x: x.rate.replace(\" \",\"\") if type(x.rate) == str else x.rate, axis=1).value_counts().sort_index()\n",
    "    #Ratio of the ratings, total number of ratios = total number rows - sum of missing values)\n",
    "    rate = rate/(df.shape[0] - df['rate'].isnull().sum())\n",
    "    \n",
    "    #x,y position of the text(ratio) for the bar graph\n",
    "    y = rate.get_values().tolist()\n",
    "    x = [x for x in range(len(y))]\n",
    "    zip_x_y_str = zip(x,[y1 + .0008 for y1 in y] ,y)\n",
    "    \n",
    "    colors_list = ['grey'] + ['orangered'] + ['gold']*5  + ['yellow']*5 + ['yellowgreen']*5 + ['limegreen']*5 + ['green']*5 + ['darkgreen']*5 +['grey']\n",
    "    \n",
    "    fig, ax = plt.subplots(figsize=(20, 10))\n",
    "    ax = rate.plot(kind='bar', color=colors_list, grid=True, title='Distribution of Ratings' )\n",
    "    ax.set_xlabel('Ratings') \n",
    "    ax.set_ylabel('Percentage')\n",
    "    #text on bar plots\n",
    "    for x,y,s in zip_x_y_str:\n",
    "        #print(x,y,s)\n",
    "        s = round(s,3)\n",
    "        ax.text(x,y,str(s), horizontalalignment='center',verticalalignment='center')\n",
    "        "
   ]
  },
  {
   "cell_type": "code",
   "execution_count": 22,
   "metadata": {},
   "outputs": [
    {
     "data": {
      "image/png": "[encoded data removed]",
      "text/plain": [
       "<Figure size 1440x720 with 1 Axes>"
      ]
     },
     "metadata": {
      "needs_background": "light"
     },
     "output_type": "display_data"
    }
   ],
   "source": [
    "rating_curve(restaurant_df)"
   ]
  },
  {
   "cell_type": "markdown",
   "metadata": {},
   "source": [
    "> **Interpretation:** The rating count is fitted inside a normal curve centered around 4 rating. .2% of ratings are not goven yet to the restauants. "
   ]
  },
  {
   "cell_type": "markdown",
   "metadata": {},
   "source": [
    "### 3.1.2 Ratings Color bins\n",
    "\n",
    "Restaurant has 8 colored bins with dark green containing the highest top  ratings 4.0 and red containing the lowest rating 1,visualizing the ratios for each bin.<br> There are two more bins marked as \n",
    "\n",
    "> **For this project, the model is trained to predict these colored bins**"
   ]
  },
  {
   "cell_type": "code",
   "execution_count": null,
   "metadata": {},
   "outputs": [],
   "source": []
  },
  {
   "cell_type": "code",
   "execution_count": 23,
   "metadata": {},
   "outputs": [],
   "source": [
    "def color_bins(df):\n",
    "    '''\n",
    "    plots bar graph for different rating bins\n",
    "    \n",
    "    '''\n",
    "    \n",
    "    #ratios for the color bins\n",
    "    #rates_to_color_code function returns the color of the rating\n",
    "    rate_colors = df.apply(lambda x: rates_to_color_code(x.rate), axis=1).value_counts().sort_index()\n",
    "    rate_colors = rate_colors/df.shape[0]\n",
    "    \n",
    "    #x,y and string(ratio)\n",
    "    y = np.round(rate_colors.get_values(),4).tolist()\n",
    "    x = [x for x in range(len(y))]\n",
    "    zip_x_y_str = zip(x,[y1 + .008 for y1 in y] ,y)\n",
    "    \n",
    "    colors_list = ['grey','orangered','gold','yellow','yellowgreen','limegreen','green','darkgreen','grey']\n",
    "    fig, ax = plt.subplots(figsize=(10, 6))\n",
    "    ax = rate_colors.plot(kind='bar', color=colors_list, grid=True, title='Rating Color Category Bins' )\n",
    "    ax.set_xlabel('Rating Bins and color Category') \n",
    "    ax.set_ylabel('Percentage')\n",
    "    for x,y,s in zip_x_y_str:\n",
    "        #print(x,y,s)\n",
    "        s = round(s,4)\n",
    "        ax.text(x,y,str(s), horizontalalignment='center',verticalalignment='center')\n",
    "        "
   ]
  },
  {
   "cell_type": "code",
   "execution_count": 24,
   "metadata": {},
   "outputs": [
    {
     "data": {
      "image/png": "[encoded data removed]",
      "text/plain": [
       "<Figure size 720x432 with 1 Axes>"
      ]
     },
     "metadata": {
      "needs_background": "light"
     },
     "output_type": "display_data"
    }
   ],
   "source": [
    "vs.color_bins(restaurant_df)"
   ]
  },
  {
   "cell_type": "markdown",
   "metadata": {},
   "source": [
    "**Ratios of the Restaurants**\n",
    "- 31.74% of the restaurants have ratings 4.0. \n",
    "- 24.96% of the restaurants have ratings 4.5.\n",
    "- Only 8.97% of the restaurants have ratings 5.\n",
    "- Only 33.97% of the restaurant falls on the right of the curve"
   ]
  },
  {
   "cell_type": "code",
   "execution_count": 25,
   "metadata": {},
   "outputs": [],
   "source": [
    "def column_nan_ratios(data):\n",
    "    ''' \n",
    "    Function takes in DataFrame and displays bar graph of percentage of NaNs per column\n",
    "    \n",
    "    Args:\n",
    "    -----\n",
    "    DataFrame \n",
    "    '''\n",
    "    nan_per_col_percentage=[]\n",
    "    nan_per_col_percentage = data.isnull().sum().values/data.shape[0]\n",
    "    col_names = data.columns\n",
    "    df = pd.DataFrame({'Percentage missing': nan_per_col_percentage}, index=col_names)\n",
    "    ax = df.plot.bar(rot=0,figsize=(20,4))\n",
    "    plt.xticks(rotation=90)\n",
    "    plt.title('Percentage missing in each column')\n",
    "    plt.xlabel('Column Name')\n",
    "    plt.ylabel('Percentage')\n",
    "    plt.grid(color='g', linestyle='-', linewidth=.5)\n",
    "    plt.show()"
   ]
  },
  {
   "cell_type": "markdown",
   "metadata": {},
   "source": [
    "### 3.1.3 Missing value analyse for rate"
   ]
  },
  {
   "cell_type": "code",
   "execution_count": 26,
   "metadata": {},
   "outputs": [
    {
     "data": {
      "image/png": "[encoded data removed]",
      "text/plain": [
       "<Figure size 1440x288 with 1 Axes>"
      ]
     },
     "metadata": {
      "needs_background": "light"
     },
     "output_type": "display_data"
    }
   ],
   "source": [
    "column_nan_ratios(restaurant_df)"
   ]
  },
  {
   "cell_type": "code",
   "execution_count": 27,
   "metadata": {},
   "outputs": [
    {
     "data": {
      "text/plain": [
       "(125527, 8)"
      ]
     },
     "execution_count": 27,
     "metadata": {},
     "output_type": "execute_result"
    }
   ],
   "source": [
    "restaurant_df.shape"
   ]
  },
  {
   "cell_type": "code",
   "execution_count": 28,
   "metadata": {},
   "outputs": [
    {
     "data": {
      "text/plain": [
       "name                     0\n",
       "city                     0\n",
       "cuisines             31351\n",
       "ranking               9651\n",
       "rate                  9630\n",
       "price_range          47855\n",
       "number_of_reviews    17344\n",
       "reviews               9616\n",
       "dtype: int64"
      ]
     },
     "execution_count": 28,
     "metadata": {},
     "output_type": "execute_result"
    }
   ],
   "source": [
    "restaurant_df.isnull().sum()"
   ]
  },
  {
   "cell_type": "markdown",
   "metadata": {},
   "source": [
    "**Inference**\n",
    "- More than 25% of cuisines are missing\n",
    "- More than 7% of ranking and reviews is missing\n",
    "- close to 8% of rate are missing\n",
    "- 14% of number_of_reviews are missing"
   ]
  },
  {
   "cell_type": "markdown",
   "metadata": {},
   "source": [
    "<a id='assessingrow'></a>\n",
    "## 3.2 Assessing Rows for target column (rate)"
   ]
  },
  {
   "cell_type": "code",
   "execution_count": 29,
   "metadata": {},
   "outputs": [
    {
     "data": {
      "text/plain": [
       "7.671656297051631"
      ]
     },
     "execution_count": 29,
     "metadata": {},
     "output_type": "execute_result"
    }
   ],
   "source": [
    "(restaurant_df['rate'].isnull().sum()/restaurant_df['rate'].shape[0])*100"
   ]
  },
  {
   "cell_type": "markdown",
   "metadata": {},
   "source": [
    ">7.67 percent of target values are missing, droping Rows with missing ratings as these rows cannot be used to train the model.<br>\n"
   ]
  },
  {
   "cell_type": "code",
   "execution_count": 30,
   "metadata": {},
   "outputs": [
    {
     "data": {
      "text/plain": [
       "array([ 5. ,  4.5,  4. ,  3.5,  3. ,  2.5,  2. ,  1.5,  1. , -1. ,  nan])"
      ]
     },
     "execution_count": 30,
     "metadata": {},
     "output_type": "execute_result"
    }
   ],
   "source": [
    "# Checking unique values for rate\n",
    "restaurant_df.rate.unique()"
   ]
  },
  {
   "cell_type": "code",
   "execution_count": 31,
   "metadata": {},
   "outputs": [
    {
     "data": {
      "text/plain": [
       " 4.0    39843\n",
       " 4.5    31326\n",
       " 3.5    19745\n",
       " 5.0    11257\n",
       " NaN     9630\n",
       " 3.0     8524\n",
       " 2.5     2720\n",
       " 2.0     1437\n",
       " 1.0      620\n",
       " 1.5      384\n",
       "-1.0       41\n",
       "Name: rate, dtype: int64"
      ]
     },
     "execution_count": 31,
     "metadata": {},
     "output_type": "execute_result"
    }
   ],
   "source": [
    "# Checking unique values count for rate\n",
    "restaurant_df.rate.value_counts(dropna=False)"
   ]
  },
  {
   "cell_type": "markdown",
   "metadata": {},
   "source": [
    "### 3.2.1 Droping the value which have NaN missing data in rate"
   ]
  },
  {
   "cell_type": "code",
   "execution_count": 32,
   "metadata": {},
   "outputs": [],
   "source": [
    "restaurant_df.dropna(subset=['rate'], inplace = True)"
   ]
  },
  {
   "cell_type": "code",
   "execution_count": 33,
   "metadata": {},
   "outputs": [
    {
     "data": {
      "image/png": "[encoded data removed]",
      "text/plain": [
       "<Figure size 1440x288 with 1 Axes>"
      ]
     },
     "metadata": {
      "needs_background": "light"
     },
     "output_type": "display_data"
    }
   ],
   "source": [
    "column_nan_ratios(restaurant_df)"
   ]
  },
  {
   "cell_type": "code",
   "execution_count": 34,
   "metadata": {},
   "outputs": [
    {
     "data": {
      "text/plain": [
       "name                     0\n",
       "city                     0\n",
       "cuisines             26848\n",
       "ranking                146\n",
       "rate                     0\n",
       "price_range          40421\n",
       "number_of_reviews     7714\n",
       "reviews                  5\n",
       "dtype: int64"
      ]
     },
     "execution_count": 34,
     "metadata": {},
     "output_type": "execute_result"
    }
   ],
   "source": [
    "restaurant_df.isnull().sum()"
   ]
  },
  {
   "cell_type": "code",
   "execution_count": 35,
   "metadata": {},
   "outputs": [
    {
     "data": {
      "text/plain": [
       "(115897, 8)"
      ]
     },
     "execution_count": 35,
     "metadata": {},
     "output_type": "execute_result"
    }
   ],
   "source": [
    "restaurant_df.shape"
   ]
  },
  {
   "cell_type": "markdown",
   "metadata": {},
   "source": [
    "**The Rate column has zero missing values now**"
   ]
  },
  {
   "cell_type": "code",
   "execution_count": 36,
   "metadata": {},
   "outputs": [
    {
     "data": {
      "image/png": "[encoded data removed]",
      "text/plain": [
       "<Figure size 720x432 with 1 Axes>"
      ]
     },
     "metadata": {
      "needs_background": "light"
     },
     "output_type": "display_data"
    }
   ],
   "source": [
    "vs.color_bins(restaurant_df)"
   ]
  },
  {
   "cell_type": "markdown",
   "metadata": {},
   "source": [
    "**Ratios of the Restaurants after dropping rate**\n",
    "- 34.38% of the restaurants have ratings 4.0 has increased from before dropping rate by 2.64%. \n",
    "- 27.03% of the restaurants have ratings 4.5 has increased from before dropping rate by 2.07%.\n",
    "- Only 9.71% of the restaurants have ratings 5 has increased from before dropping rate by 0.74%..\n",
    "- This time Only 34.74% of the restaurant falls on the right of the curve."
   ]
  },
  {
   "cell_type": "code",
   "execution_count": 37,
   "metadata": {},
   "outputs": [
    {
     "data": {
      "text/plain": [
       " 4.0    39843\n",
       " 4.5    31326\n",
       " 3.5    19745\n",
       " 5.0    11257\n",
       " 3.0     8524\n",
       " 2.5     2720\n",
       " 2.0     1437\n",
       " 1.0      620\n",
       " 1.5      384\n",
       "-1.0       41\n",
       "Name: rate, dtype: int64"
      ]
     },
     "execution_count": 37,
     "metadata": {},
     "output_type": "execute_result"
    }
   ],
   "source": [
    "# Checking unique values count for rate after dropping rate\n",
    "restaurant_df.rate.value_counts(dropna=False)"
   ]
  },
  {
   "cell_type": "code",
   "execution_count": 38,
   "metadata": {},
   "outputs": [
    {
     "name": "stdout",
     "output_type": "stream",
     "text": [
      "3.9874414350673444\n"
     ]
    },
    {
     "data": {
      "image/png": "[encoded data removed]",
      "text/plain": [
       "<Figure size 432x288 with 1 Axes>"
      ]
     },
     "metadata": {
      "needs_background": "light"
     },
     "output_type": "display_data"
    }
   ],
   "source": [
    "restaurant_df.rate.hist(color='grey')\n",
    "plt.axvline(x= restaurant_df.rate.mean(),ls='--',color='yellow')\n",
    "plt.title('Average Rating for Bangalore Restaurants',weight='bold')\n",
    "plt.xlabel('Rating')\n",
    "plt.ylabel('No of Restaurants')\n",
    "print(restaurant_df.rate.mean())"
   ]
  },
  {
   "cell_type": "markdown",
   "metadata": {},
   "source": [
    "#### The Average rating per restaurant in Banglore is found to be very close to **4**."
   ]
  },
  {
   "cell_type": "code",
   "execution_count": 39,
   "metadata": {},
   "outputs": [
    {
     "data": {
      "text/html": [
       "<div>\n",
       "<style scoped>\n",
       "    .dataframe tbody tr th:only-of-type {\n",
       "        vertical-align: middle;\n",
       "    }\n",
       "\n",
       "    .dataframe tbody tr th {\n",
       "        vertical-align: top;\n",
       "    }\n",
       "\n",
       "    .dataframe thead th {\n",
       "        text-align: right;\n",
       "    }\n",
       "</style>\n",
       "<table border=\"1\" class=\"dataframe\">\n",
       "  <thead>\n",
       "    <tr style=\"text-align: right;\">\n",
       "      <th></th>\n",
       "      <th>name</th>\n",
       "      <th>city</th>\n",
       "      <th>cuisines</th>\n",
       "      <th>ranking</th>\n",
       "      <th>rate</th>\n",
       "      <th>price_range</th>\n",
       "      <th>number_of_reviews</th>\n",
       "      <th>reviews</th>\n",
       "    </tr>\n",
       "  </thead>\n",
       "  <tbody>\n",
       "    <tr>\n",
       "      <th>0</th>\n",
       "      <td>Martine of Martine's Table</td>\n",
       "      <td>Amsterdam</td>\n",
       "      <td>['French', 'Dutch', 'European']</td>\n",
       "      <td>1.0</td>\n",
       "      <td>5.0</td>\n",
       "      <td>$$ - $$$</td>\n",
       "      <td>136.0</td>\n",
       "      <td>[['Just like home', 'A Warm Welcome to Wintry ...</td>\n",
       "    </tr>\n",
       "    <tr>\n",
       "      <th>1</th>\n",
       "      <td>De Silveren Spiegel</td>\n",
       "      <td>Amsterdam</td>\n",
       "      <td>['Dutch', 'European', 'Vegetarian Friendly', '...</td>\n",
       "      <td>2.0</td>\n",
       "      <td>4.5</td>\n",
       "      <td>$$$$</td>\n",
       "      <td>812.0</td>\n",
       "      <td>[['Great food and staff', 'just perfect'], ['0...</td>\n",
       "    </tr>\n",
       "    <tr>\n",
       "      <th>2</th>\n",
       "      <td>La Rive</td>\n",
       "      <td>Amsterdam</td>\n",
       "      <td>['Mediterranean', 'French', 'International', '...</td>\n",
       "      <td>3.0</td>\n",
       "      <td>4.5</td>\n",
       "      <td>$$$$</td>\n",
       "      <td>567.0</td>\n",
       "      <td>[['Satisfaction', 'Delicious old school restau...</td>\n",
       "    </tr>\n",
       "    <tr>\n",
       "      <th>3</th>\n",
       "      <td>Vinkeles</td>\n",
       "      <td>Amsterdam</td>\n",
       "      <td>['French', 'European', 'International', 'Conte...</td>\n",
       "      <td>4.0</td>\n",
       "      <td>5.0</td>\n",
       "      <td>$$$$</td>\n",
       "      <td>564.0</td>\n",
       "      <td>[['True five star dinner', 'A superb evening o...</td>\n",
       "    </tr>\n",
       "    <tr>\n",
       "      <th>4</th>\n",
       "      <td>Librije's Zusje Amsterdam</td>\n",
       "      <td>Amsterdam</td>\n",
       "      <td>['Dutch', 'European', 'International', 'Vegeta...</td>\n",
       "      <td>5.0</td>\n",
       "      <td>4.5</td>\n",
       "      <td>$$$$</td>\n",
       "      <td>316.0</td>\n",
       "      <td>[['Best meal.... EVER', 'super food experience...</td>\n",
       "    </tr>\n",
       "  </tbody>\n",
       "</table>\n",
       "</div>"
      ],
      "text/plain": [
       "                         name       city  \\\n",
       "0  Martine of Martine's Table  Amsterdam   \n",
       "1         De Silveren Spiegel  Amsterdam   \n",
       "2                     La Rive  Amsterdam   \n",
       "3                    Vinkeles  Amsterdam   \n",
       "4   Librije's Zusje Amsterdam  Amsterdam   \n",
       "\n",
       "                                            cuisines  ranking  rate  \\\n",
       "0                    ['French', 'Dutch', 'European']      1.0   5.0   \n",
       "1  ['Dutch', 'European', 'Vegetarian Friendly', '...      2.0   4.5   \n",
       "2  ['Mediterranean', 'French', 'International', '...      3.0   4.5   \n",
       "3  ['French', 'European', 'International', 'Conte...      4.0   5.0   \n",
       "4  ['Dutch', 'European', 'International', 'Vegeta...      5.0   4.5   \n",
       "\n",
       "  price_range  number_of_reviews  \\\n",
       "0    $$ - $$$              136.0   \n",
       "1        $$$$              812.0   \n",
       "2        $$$$              567.0   \n",
       "3        $$$$              564.0   \n",
       "4        $$$$              316.0   \n",
       "\n",
       "                                             reviews  \n",
       "0  [['Just like home', 'A Warm Welcome to Wintry ...  \n",
       "1  [['Great food and staff', 'just perfect'], ['0...  \n",
       "2  [['Satisfaction', 'Delicious old school restau...  \n",
       "3  [['True five star dinner', 'A superb evening o...  \n",
       "4  [['Best meal.... EVER', 'super food experience...  "
      ]
     },
     "execution_count": 39,
     "metadata": {},
     "output_type": "execute_result"
    }
   ],
   "source": [
    "restaurant_df.head()"
   ]
  },
  {
   "cell_type": "code",
   "execution_count": null,
   "metadata": {},
   "outputs": [],
   "source": []
  },
  {
   "cell_type": "code",
   "execution_count": null,
   "metadata": {},
   "outputs": [],
   "source": []
  },
  {
   "cell_type": "code",
   "execution_count": null,
   "metadata": {},
   "outputs": [],
   "source": []
  },
  {
   "cell_type": "markdown",
   "metadata": {},
   "source": [
    "## 3.3 Threshold for missing in rows"
   ]
  },
  {
   "cell_type": "markdown",
   "metadata": {},
   "source": [
    "For this project I am dropping rows with more than 1 missing values"
   ]
  },
  {
   "cell_type": "code",
   "execution_count": 40,
   "metadata": {},
   "outputs": [
    {
     "data": {
      "text/plain": [
       "name                     0\n",
       "city                     0\n",
       "cuisines             26848\n",
       "ranking                146\n",
       "rate                     0\n",
       "price_range          40421\n",
       "number_of_reviews     7714\n",
       "reviews                  5\n",
       "dtype: int64"
      ]
     },
     "execution_count": 40,
     "metadata": {},
     "output_type": "execute_result"
    }
   ],
   "source": [
    "restaurant_df.isnull().sum()"
   ]
  },
  {
   "cell_type": "code",
   "execution_count": 41,
   "metadata": {},
   "outputs": [
    {
     "data": {
      "text/html": [
       "<div>\n",
       "<style scoped>\n",
       "    .dataframe tbody tr th:only-of-type {\n",
       "        vertical-align: middle;\n",
       "    }\n",
       "\n",
       "    .dataframe tbody tr th {\n",
       "        vertical-align: top;\n",
       "    }\n",
       "\n",
       "    .dataframe thead th {\n",
       "        text-align: right;\n",
       "    }\n",
       "</style>\n",
       "<table border=\"1\" class=\"dataframe\">\n",
       "  <thead>\n",
       "    <tr style=\"text-align: right;\">\n",
       "      <th></th>\n",
       "      <th>name</th>\n",
       "      <th>city</th>\n",
       "      <th>cuisines</th>\n",
       "      <th>ranking</th>\n",
       "      <th>rate</th>\n",
       "      <th>price_range</th>\n",
       "      <th>number_of_reviews</th>\n",
       "      <th>reviews</th>\n",
       "    </tr>\n",
       "  </thead>\n",
       "  <tbody>\n",
       "    <tr>\n",
       "      <th>0</th>\n",
       "      <td>Martine of Martine's Table</td>\n",
       "      <td>Amsterdam</td>\n",
       "      <td>['French', 'Dutch', 'European']</td>\n",
       "      <td>1.0</td>\n",
       "      <td>5.0</td>\n",
       "      <td>$$ - $$$</td>\n",
       "      <td>136.0</td>\n",
       "      <td>[['Just like home', 'A Warm Welcome to Wintry ...</td>\n",
       "    </tr>\n",
       "    <tr>\n",
       "      <th>1</th>\n",
       "      <td>De Silveren Spiegel</td>\n",
       "      <td>Amsterdam</td>\n",
       "      <td>['Dutch', 'European', 'Vegetarian Friendly', '...</td>\n",
       "      <td>2.0</td>\n",
       "      <td>4.5</td>\n",
       "      <td>$$$$</td>\n",
       "      <td>812.0</td>\n",
       "      <td>[['Great food and staff', 'just perfect'], ['0...</td>\n",
       "    </tr>\n",
       "    <tr>\n",
       "      <th>2</th>\n",
       "      <td>La Rive</td>\n",
       "      <td>Amsterdam</td>\n",
       "      <td>['Mediterranean', 'French', 'International', '...</td>\n",
       "      <td>3.0</td>\n",
       "      <td>4.5</td>\n",
       "      <td>$$$$</td>\n",
       "      <td>567.0</td>\n",
       "      <td>[['Satisfaction', 'Delicious old school restau...</td>\n",
       "    </tr>\n",
       "    <tr>\n",
       "      <th>3</th>\n",
       "      <td>Vinkeles</td>\n",
       "      <td>Amsterdam</td>\n",
       "      <td>['French', 'European', 'International', 'Conte...</td>\n",
       "      <td>4.0</td>\n",
       "      <td>5.0</td>\n",
       "      <td>$$$$</td>\n",
       "      <td>564.0</td>\n",
       "      <td>[['True five star dinner', 'A superb evening o...</td>\n",
       "    </tr>\n",
       "    <tr>\n",
       "      <th>4</th>\n",
       "      <td>Librije's Zusje Amsterdam</td>\n",
       "      <td>Amsterdam</td>\n",
       "      <td>['Dutch', 'European', 'International', 'Vegeta...</td>\n",
       "      <td>5.0</td>\n",
       "      <td>4.5</td>\n",
       "      <td>$$$$</td>\n",
       "      <td>316.0</td>\n",
       "      <td>[['Best meal.... EVER', 'super food experience...</td>\n",
       "    </tr>\n",
       "    <tr>\n",
       "      <th>...</th>\n",
       "      <td>...</td>\n",
       "      <td>...</td>\n",
       "      <td>...</td>\n",
       "      <td>...</td>\n",
       "      <td>...</td>\n",
       "      <td>...</td>\n",
       "      <td>...</td>\n",
       "      <td>...</td>\n",
       "    </tr>\n",
       "    <tr>\n",
       "      <th>125450</th>\n",
       "      <td>not guilty Bellevue</td>\n",
       "      <td>Zurich</td>\n",
       "      <td>['International', 'European', 'Contemporary', ...</td>\n",
       "      <td>1596.0</td>\n",
       "      <td>1.0</td>\n",
       "      <td>$$ - $$$</td>\n",
       "      <td>NaN</td>\n",
       "      <td>[[], []]</td>\n",
       "    </tr>\n",
       "    <tr>\n",
       "      <th>125451</th>\n",
       "      <td>Ly's Take Away</td>\n",
       "      <td>Zurich</td>\n",
       "      <td>NaN</td>\n",
       "      <td>1597.0</td>\n",
       "      <td>1.0</td>\n",
       "      <td>NaN</td>\n",
       "      <td>2.0</td>\n",
       "      <td>[['Poor quality, small portions, miserable st....</td>\n",
       "    </tr>\n",
       "    <tr>\n",
       "      <th>125452</th>\n",
       "      <td>Restaurant Gasthof Hirschen</td>\n",
       "      <td>Zurich</td>\n",
       "      <td>['German', 'Swiss', 'European', 'Central Europ...</td>\n",
       "      <td>1598.0</td>\n",
       "      <td>1.0</td>\n",
       "      <td>NaN</td>\n",
       "      <td>2.0</td>\n",
       "      <td>[[], []]</td>\n",
       "    </tr>\n",
       "    <tr>\n",
       "      <th>125453</th>\n",
       "      <td>Hukka Restaurant &amp; Hookah Lounge</td>\n",
       "      <td>Zurich</td>\n",
       "      <td>['German', 'Belgian', 'Mediterranean', 'Europe...</td>\n",
       "      <td>1601.0</td>\n",
       "      <td>1.0</td>\n",
       "      <td>$$$$</td>\n",
       "      <td>NaN</td>\n",
       "      <td>[[], []]</td>\n",
       "    </tr>\n",
       "    <tr>\n",
       "      <th>125454</th>\n",
       "      <td>Burger King</td>\n",
       "      <td>Zurich</td>\n",
       "      <td>NaN</td>\n",
       "      <td>NaN</td>\n",
       "      <td>3.0</td>\n",
       "      <td>NaN</td>\n",
       "      <td>NaN</td>\n",
       "      <td>[[], []]</td>\n",
       "    </tr>\n",
       "  </tbody>\n",
       "</table>\n",
       "<p>115897 rows × 8 columns</p>\n",
       "</div>"
      ],
      "text/plain": [
       "                                    name       city  \\\n",
       "0             Martine of Martine's Table  Amsterdam   \n",
       "1                    De Silveren Spiegel  Amsterdam   \n",
       "2                                La Rive  Amsterdam   \n",
       "3                               Vinkeles  Amsterdam   \n",
       "4              Librije's Zusje Amsterdam  Amsterdam   \n",
       "...                                  ...        ...   \n",
       "125450               not guilty Bellevue     Zurich   \n",
       "125451                    Ly's Take Away     Zurich   \n",
       "125452       Restaurant Gasthof Hirschen     Zurich   \n",
       "125453  Hukka Restaurant & Hookah Lounge     Zurich   \n",
       "125454                       Burger King     Zurich   \n",
       "\n",
       "                                                 cuisines  ranking  rate  \\\n",
       "0                         ['French', 'Dutch', 'European']      1.0   5.0   \n",
       "1       ['Dutch', 'European', 'Vegetarian Friendly', '...      2.0   4.5   \n",
       "2       ['Mediterranean', 'French', 'International', '...      3.0   4.5   \n",
       "3       ['French', 'European', 'International', 'Conte...      4.0   5.0   \n",
       "4       ['Dutch', 'European', 'International', 'Vegeta...      5.0   4.5   \n",
       "...                                                   ...      ...   ...   \n",
       "125450  ['International', 'European', 'Contemporary', ...   1596.0   1.0   \n",
       "125451                                                NaN   1597.0   1.0   \n",
       "125452  ['German', 'Swiss', 'European', 'Central Europ...   1598.0   1.0   \n",
       "125453  ['German', 'Belgian', 'Mediterranean', 'Europe...   1601.0   1.0   \n",
       "125454                                                NaN      NaN   3.0   \n",
       "\n",
       "       price_range  number_of_reviews  \\\n",
       "0         $$ - $$$              136.0   \n",
       "1             $$$$              812.0   \n",
       "2             $$$$              567.0   \n",
       "3             $$$$              564.0   \n",
       "4             $$$$              316.0   \n",
       "...            ...                ...   \n",
       "125450    $$ - $$$                NaN   \n",
       "125451         NaN                2.0   \n",
       "125452         NaN                2.0   \n",
       "125453        $$$$                NaN   \n",
       "125454         NaN                NaN   \n",
       "\n",
       "                                                  reviews  \n",
       "0       [['Just like home', 'A Warm Welcome to Wintry ...  \n",
       "1       [['Great food and staff', 'just perfect'], ['0...  \n",
       "2       [['Satisfaction', 'Delicious old school restau...  \n",
       "3       [['True five star dinner', 'A superb evening o...  \n",
       "4       [['Best meal.... EVER', 'super food experience...  \n",
       "...                                                   ...  \n",
       "125450                                           [[], []]  \n",
       "125451  [['Poor quality, small portions, miserable st....  \n",
       "125452                                           [[], []]  \n",
       "125453                                           [[], []]  \n",
       "125454                                           [[], []]  \n",
       "\n",
       "[115897 rows x 8 columns]"
      ]
     },
     "execution_count": 41,
     "metadata": {},
     "output_type": "execute_result"
    }
   ],
   "source": [
    "restaurant_df"
   ]
  },
  {
   "cell_type": "code",
   "execution_count": 42,
   "metadata": {},
   "outputs": [
    {
     "data": {
      "text/plain": [
       "(115897, 8)"
      ]
     },
     "execution_count": 42,
     "metadata": {},
     "output_type": "execute_result"
    }
   ],
   "source": [
    "restaurant_df.shape"
   ]
  },
  {
   "cell_type": "code",
   "execution_count": 43,
   "metadata": {},
   "outputs": [
    {
     "data": {
      "image/png": "[encoded data removed]",
      "text/plain": [
       "<Figure size 1440x288 with 1 Axes>"
      ]
     },
     "metadata": {
      "needs_background": "light"
     },
     "output_type": "display_data"
    }
   ],
   "source": [
    "column_nan_ratios(restaurant_df)"
   ]
  },
  {
   "cell_type": "code",
   "execution_count": 44,
   "metadata": {},
   "outputs": [],
   "source": [
    "threshold = 1\n",
    "ls_threshold = restaurant_df.loc[((restaurant_df.isnull().sum(axis = 1)) <= threshold) & ((restaurant_df.isnull().sum(axis = 1)) != 0) ]\n",
    "#Rows count for NaNs count more than threshold\n",
    "gr_threshold = restaurant_df.loc[(restaurant_df.isnull().sum(axis = 1)) > threshold]"
   ]
  },
  {
   "cell_type": "code",
   "execution_count": 45,
   "metadata": {},
   "outputs": [
    {
     "name": "stdout",
     "output_type": "stream",
     "text": [
      "Number of Restaurants before dropping rows having missing valuemore than 1: 115897\n",
      "12479\n",
      "29193\n"
     ]
    }
   ],
   "source": [
    "print(\"Number of Restaurants before dropping rows having missing valuemore than 1:\",restaurant_df.shape[0])\n",
    "print(ls_threshold.shape[0])\n",
    "print(gr_threshold.shape[0])\n"
   ]
  },
  {
   "cell_type": "code",
   "execution_count": 46,
   "metadata": {},
   "outputs": [
    {
     "name": "stdout",
     "output_type": "stream",
     "text": [
      "Number of Restaurants after dropping rows having missing valuemore than 1: 86704\n"
     ]
    }
   ],
   "source": [
    "restaurant_df.dropna(thresh = len(restaurant_df.columns)-threshold,inplace = True)\n",
    "print(\"Number of Restaurants after dropping rows having missing valuemore than 1:\",restaurant_df.shape[0])"
   ]
  },
  {
   "cell_type": "code",
   "execution_count": 47,
   "metadata": {},
   "outputs": [
    {
     "data": {
      "text/html": [
       "<div>\n",
       "<style scoped>\n",
       "    .dataframe tbody tr th:only-of-type {\n",
       "        vertical-align: middle;\n",
       "    }\n",
       "\n",
       "    .dataframe tbody tr th {\n",
       "        vertical-align: top;\n",
       "    }\n",
       "\n",
       "    .dataframe thead th {\n",
       "        text-align: right;\n",
       "    }\n",
       "</style>\n",
       "<table border=\"1\" class=\"dataframe\">\n",
       "  <thead>\n",
       "    <tr style=\"text-align: right;\">\n",
       "      <th></th>\n",
       "      <th>name</th>\n",
       "      <th>city</th>\n",
       "      <th>cuisines</th>\n",
       "      <th>ranking</th>\n",
       "      <th>rate</th>\n",
       "      <th>price_range</th>\n",
       "      <th>number_of_reviews</th>\n",
       "      <th>reviews</th>\n",
       "    </tr>\n",
       "  </thead>\n",
       "  <tbody>\n",
       "    <tr>\n",
       "      <th>0</th>\n",
       "      <td>Martine of Martine's Table</td>\n",
       "      <td>Amsterdam</td>\n",
       "      <td>['French', 'Dutch', 'European']</td>\n",
       "      <td>1.0</td>\n",
       "      <td>5.0</td>\n",
       "      <td>$$ - $$$</td>\n",
       "      <td>136.0</td>\n",
       "      <td>[['Just like home', 'A Warm Welcome to Wintry ...</td>\n",
       "    </tr>\n",
       "    <tr>\n",
       "      <th>1</th>\n",
       "      <td>De Silveren Spiegel</td>\n",
       "      <td>Amsterdam</td>\n",
       "      <td>['Dutch', 'European', 'Vegetarian Friendly', '...</td>\n",
       "      <td>2.0</td>\n",
       "      <td>4.5</td>\n",
       "      <td>$$$$</td>\n",
       "      <td>812.0</td>\n",
       "      <td>[['Great food and staff', 'just perfect'], ['0...</td>\n",
       "    </tr>\n",
       "    <tr>\n",
       "      <th>2</th>\n",
       "      <td>La Rive</td>\n",
       "      <td>Amsterdam</td>\n",
       "      <td>['Mediterranean', 'French', 'International', '...</td>\n",
       "      <td>3.0</td>\n",
       "      <td>4.5</td>\n",
       "      <td>$$$$</td>\n",
       "      <td>567.0</td>\n",
       "      <td>[['Satisfaction', 'Delicious old school restau...</td>\n",
       "    </tr>\n",
       "    <tr>\n",
       "      <th>3</th>\n",
       "      <td>Vinkeles</td>\n",
       "      <td>Amsterdam</td>\n",
       "      <td>['French', 'European', 'International', 'Conte...</td>\n",
       "      <td>4.0</td>\n",
       "      <td>5.0</td>\n",
       "      <td>$$$$</td>\n",
       "      <td>564.0</td>\n",
       "      <td>[['True five star dinner', 'A superb evening o...</td>\n",
       "    </tr>\n",
       "    <tr>\n",
       "      <th>4</th>\n",
       "      <td>Librije's Zusje Amsterdam</td>\n",
       "      <td>Amsterdam</td>\n",
       "      <td>['Dutch', 'European', 'International', 'Vegeta...</td>\n",
       "      <td>5.0</td>\n",
       "      <td>4.5</td>\n",
       "      <td>$$$$</td>\n",
       "      <td>316.0</td>\n",
       "      <td>[['Best meal.... EVER', 'super food experience...</td>\n",
       "    </tr>\n",
       "    <tr>\n",
       "      <th>...</th>\n",
       "      <td>...</td>\n",
       "      <td>...</td>\n",
       "      <td>...</td>\n",
       "      <td>...</td>\n",
       "      <td>...</td>\n",
       "      <td>...</td>\n",
       "      <td>...</td>\n",
       "      <td>...</td>\n",
       "    </tr>\n",
       "    <tr>\n",
       "      <th>125445</th>\n",
       "      <td>Ristorante La Taverna</td>\n",
       "      <td>Zurich</td>\n",
       "      <td>['Italian', 'Vegetarian Friendly']</td>\n",
       "      <td>1591.0</td>\n",
       "      <td>4.5</td>\n",
       "      <td>$$ - $$$</td>\n",
       "      <td>16.0</td>\n",
       "      <td>[['Super local eatery', 'Small and charming pl...</td>\n",
       "    </tr>\n",
       "    <tr>\n",
       "      <th>125448</th>\n",
       "      <td>Pizza Blitz Zurich</td>\n",
       "      <td>Zurich</td>\n",
       "      <td>['Pizza']</td>\n",
       "      <td>1594.0</td>\n",
       "      <td>2.0</td>\n",
       "      <td>NaN</td>\n",
       "      <td>5.0</td>\n",
       "      <td>[[\"Don't waste your time, go somewhere else!\",...</td>\n",
       "    </tr>\n",
       "    <tr>\n",
       "      <th>125450</th>\n",
       "      <td>not guilty Bellevue</td>\n",
       "      <td>Zurich</td>\n",
       "      <td>['International', 'European', 'Contemporary', ...</td>\n",
       "      <td>1596.0</td>\n",
       "      <td>1.0</td>\n",
       "      <td>$$ - $$$</td>\n",
       "      <td>NaN</td>\n",
       "      <td>[[], []]</td>\n",
       "    </tr>\n",
       "    <tr>\n",
       "      <th>125452</th>\n",
       "      <td>Restaurant Gasthof Hirschen</td>\n",
       "      <td>Zurich</td>\n",
       "      <td>['German', 'Swiss', 'European', 'Central Europ...</td>\n",
       "      <td>1598.0</td>\n",
       "      <td>1.0</td>\n",
       "      <td>NaN</td>\n",
       "      <td>2.0</td>\n",
       "      <td>[[], []]</td>\n",
       "    </tr>\n",
       "    <tr>\n",
       "      <th>125453</th>\n",
       "      <td>Hukka Restaurant &amp; Hookah Lounge</td>\n",
       "      <td>Zurich</td>\n",
       "      <td>['German', 'Belgian', 'Mediterranean', 'Europe...</td>\n",
       "      <td>1601.0</td>\n",
       "      <td>1.0</td>\n",
       "      <td>$$$$</td>\n",
       "      <td>NaN</td>\n",
       "      <td>[[], []]</td>\n",
       "    </tr>\n",
       "  </tbody>\n",
       "</table>\n",
       "<p>86704 rows × 8 columns</p>\n",
       "</div>"
      ],
      "text/plain": [
       "                                    name       city  \\\n",
       "0             Martine of Martine's Table  Amsterdam   \n",
       "1                    De Silveren Spiegel  Amsterdam   \n",
       "2                                La Rive  Amsterdam   \n",
       "3                               Vinkeles  Amsterdam   \n",
       "4              Librije's Zusje Amsterdam  Amsterdam   \n",
       "...                                  ...        ...   \n",
       "125445             Ristorante La Taverna     Zurich   \n",
       "125448                Pizza Blitz Zurich     Zurich   \n",
       "125450               not guilty Bellevue     Zurich   \n",
       "125452       Restaurant Gasthof Hirschen     Zurich   \n",
       "125453  Hukka Restaurant & Hookah Lounge     Zurich   \n",
       "\n",
       "                                                 cuisines  ranking  rate  \\\n",
       "0                         ['French', 'Dutch', 'European']      1.0   5.0   \n",
       "1       ['Dutch', 'European', 'Vegetarian Friendly', '...      2.0   4.5   \n",
       "2       ['Mediterranean', 'French', 'International', '...      3.0   4.5   \n",
       "3       ['French', 'European', 'International', 'Conte...      4.0   5.0   \n",
       "4       ['Dutch', 'European', 'International', 'Vegeta...      5.0   4.5   \n",
       "...                                                   ...      ...   ...   \n",
       "125445                 ['Italian', 'Vegetarian Friendly']   1591.0   4.5   \n",
       "125448                                          ['Pizza']   1594.0   2.0   \n",
       "125450  ['International', 'European', 'Contemporary', ...   1596.0   1.0   \n",
       "125452  ['German', 'Swiss', 'European', 'Central Europ...   1598.0   1.0   \n",
       "125453  ['German', 'Belgian', 'Mediterranean', 'Europe...   1601.0   1.0   \n",
       "\n",
       "       price_range  number_of_reviews  \\\n",
       "0         $$ - $$$              136.0   \n",
       "1             $$$$              812.0   \n",
       "2             $$$$              567.0   \n",
       "3             $$$$              564.0   \n",
       "4             $$$$              316.0   \n",
       "...            ...                ...   \n",
       "125445    $$ - $$$               16.0   \n",
       "125448         NaN                5.0   \n",
       "125450    $$ - $$$                NaN   \n",
       "125452         NaN                2.0   \n",
       "125453        $$$$                NaN   \n",
       "\n",
       "                                                  reviews  \n",
       "0       [['Just like home', 'A Warm Welcome to Wintry ...  \n",
       "1       [['Great food and staff', 'just perfect'], ['0...  \n",
       "2       [['Satisfaction', 'Delicious old school restau...  \n",
       "3       [['True five star dinner', 'A superb evening o...  \n",
       "4       [['Best meal.... EVER', 'super food experience...  \n",
       "...                                                   ...  \n",
       "125445  [['Super local eatery', 'Small and charming pl...  \n",
       "125448  [[\"Don't waste your time, go somewhere else!\",...  \n",
       "125450                                           [[], []]  \n",
       "125452                                           [[], []]  \n",
       "125453                                           [[], []]  \n",
       "\n",
       "[86704 rows x 8 columns]"
      ]
     },
     "execution_count": 47,
     "metadata": {},
     "output_type": "execute_result"
    }
   ],
   "source": [
    "restaurant_df"
   ]
  },
  {
   "cell_type": "code",
   "execution_count": 48,
   "metadata": {},
   "outputs": [
    {
     "data": {
      "text/plain": [
       "name                     0\n",
       "city                     0\n",
       "cuisines                 0\n",
       "ranking                 14\n",
       "rate                     0\n",
       "price_range          11261\n",
       "number_of_reviews     1204\n",
       "reviews                  0\n",
       "dtype: int64"
      ]
     },
     "execution_count": 48,
     "metadata": {},
     "output_type": "execute_result"
    }
   ],
   "source": [
    "restaurant_df.isnull().sum()"
   ]
  },
  {
   "cell_type": "code",
   "execution_count": 49,
   "metadata": {},
   "outputs": [
    {
     "data": {
      "image/png": "[encoded data removed]",
      "text/plain": [
       "<Figure size 1440x288 with 1 Axes>"
      ]
     },
     "metadata": {
      "needs_background": "light"
     },
     "output_type": "display_data"
    }
   ],
   "source": [
    "column_nan_ratios(restaurant_df)"
   ]
  },
  {
   "cell_type": "markdown",
   "metadata": {},
   "source": [
    "**Inference**<br>\n",
    "- Removed the row which has more than 1 missing value.\n",
    "- Before removing the row we have the row as 115897 and missing value for \n",
    "        name                     0\n",
    "        city                     0\n",
    "        cuisines             26848\n",
    "        ranking                146\n",
    "        rate                     0\n",
    "        price_range          40421\n",
    "        number_of_reviews     7714\n",
    "        reviews                  5\n",
    "        \n",
    "- After removing the row we have the row as 86704 and missing value become now are\n",
    "        name                     0\n",
    "        city                     0\n",
    "        cuisines                 0\n",
    "        ranking                 14\n",
    "        rate                     0\n",
    "        price_range          11261\n",
    "        number_of_reviews     1204\n",
    "        reviews                  0\n",
    "        \n",
    "- From the above threshold drop we can see the the missing value for <br>\n",
    "    **cuisines** tend to 0 means all cuisines missng values becomes 0 from 26848(i.e. 24%).<br>\n",
    "    **ranking** drop from 146 to 14 which is less missing number now.<br>\n",
    "    **price_range** heavy drop from 40421 to 11261 (i.e. from 38% -> 14%) but still large amount of missing value still there.<br>\n",
    "    **number_of_reviews** drop from 7714 to 1204 which is still more number of missing value now.<br>\n",
    "    **reviews** tend to 0 means all reviews missng values becomes 0 from 5(i.e. 0.02%)<br>\n"
   ]
  },
  {
   "cell_type": "markdown",
   "metadata": {},
   "source": [
    "**Note-**\n",
    "Finally we had left the missing value with **ranking**, **price_range**, and **number_of_reviews**. That is deal in further section."
   ]
  },
  {
   "cell_type": "code",
   "execution_count": null,
   "metadata": {},
   "outputs": [],
   "source": []
  },
  {
   "cell_type": "code",
   "execution_count": null,
   "metadata": {},
   "outputs": [],
   "source": []
  },
  {
   "cell_type": "code",
   "execution_count": null,
   "metadata": {},
   "outputs": [],
   "source": []
  },
  {
   "cell_type": "markdown",
   "metadata": {},
   "source": [
    "<a id='location'></a>\n",
    "## 3.4 City "
   ]
  },
  {
   "cell_type": "code",
   "execution_count": 50,
   "metadata": {},
   "outputs": [
    {
     "data": {
      "text/plain": [
       "London       13243\n",
       "Paris        10731\n",
       "Barcelona     5884\n",
       "Madrid        5863\n",
       "Rome          5168\n",
       "Milan         4567\n",
       "Berlin        4157\n",
       "Prague        3221\n",
       "Lisbon        2721\n",
       "Amsterdam     2696\n",
       "Vienna        2443\n",
       "Brussels      2282\n",
       "Budapest      1897\n",
       "Munich        1883\n",
       "Lyon          1730\n",
       "Stockholm     1653\n",
       "Dublin        1633\n",
       "Edinburgh     1534\n",
       "Warsaw        1507\n",
       "Hamburg       1501\n",
       "Name: city, dtype: int64"
      ]
     },
     "execution_count": 50,
     "metadata": {},
     "output_type": "execute_result"
    }
   ],
   "source": [
    "restaurant_df['city'].value_counts()[:20]"
   ]
  },
  {
   "cell_type": "markdown",
   "metadata": {},
   "source": [
    "The locations are stored in \"city\" columns. the visualization will show the locations and the counts of restaurants present there.<br>\n"
   ]
  },
  {
   "cell_type": "code",
   "execution_count": 51,
   "metadata": {},
   "outputs": [],
   "source": [
    "def location(df):\n",
    "    '''\n",
    "    plots bar graph for counts with unique values in location column\n",
    "    \n",
    "    '''\n",
    "    \n",
    "    location_count = df['city'].value_counts()\n",
    "    print(\"Total City:\",df['city'].value_counts().shape[0],\"\\nCity:\",df['city'].value_counts().keys())\n",
    "    print(\"\\n Top 30 City with restaurant Counts\")\n",
    "    fig, ax = plt.subplots(figsize=(12, 5))\n",
    "    ax.bar(location_count.keys()[0:32],location_count.values[0:32]) \n",
    "    ax.grid(color='g', linestyle='-', linewidth=.5)\n",
    "    ax.set_xlabel('City') \n",
    "    ax.set_ylabel('Count')\n",
    "    plt.title('Top 30 City with highest number of Restaurants')\n",
    "    plt.xticks(rotation=90)\n",
    "    plt.show()\n",
    "    \n",
    "    return "
   ]
  },
  {
   "cell_type": "code",
   "execution_count": 52,
   "metadata": {},
   "outputs": [
    {
     "name": "stdout",
     "output_type": "stream",
     "text": [
      "Total City: 31 \n",
      "City: Index(['London', 'Paris', 'Barcelona', 'Madrid', 'Rome', 'Milan', 'Berlin',\n",
      "       'Prague', 'Lisbon', 'Amsterdam', 'Vienna', 'Brussels', 'Budapest',\n",
      "       'Munich', 'Lyon', 'Stockholm', 'Dublin', 'Edinburgh', 'Warsaw',\n",
      "       'Hamburg', 'Copenhagen', 'Athens', 'Zurich', 'Oporto', 'Geneva',\n",
      "       'Krakow', 'Helsinki', 'Oslo', 'Bratislava', 'Luxembourg', 'Ljubljana'],\n",
      "      dtype='object')\n",
      "\n",
      " Top 30 City with restaurant Counts\n"
     ]
    },
    {
     "data": {
      "image/png": "[encoded data removed]",
      "text/plain": [
       "<Figure size 864x360 with 1 Axes>"
      ]
     },
     "metadata": {
      "needs_background": "light"
     },
     "output_type": "display_data"
    }
   ],
   "source": [
    "location(restaurant_df)"
   ]
  },
  {
   "cell_type": "code",
   "execution_count": 160,
   "metadata": {},
   "outputs": [
    {
     "data": {
      "text/plain": [
       "Text(0.5, 1.0, 'Location wise count for restaurants')"
      ]
     },
     "execution_count": 160,
     "metadata": {},
     "output_type": "execute_result"
    },
    {
     "data": {
      "image/png": "[encoded data removed]",
      "text/plain": [
       "<Figure size 936x936 with 1 Axes>"
      ]
     },
     "metadata": {
      "needs_background": "light"
     },
     "output_type": "display_data"
    }
   ],
   "source": [
    "sns.countplot(restaurant_df['city'])\n",
    "sns.countplot(restaurant_df['city']).set_xticklabels(sns.countplot(restaurant_df['city']).get_xticklabels(), rotation=90, ha=\"right\")\n",
    "fig = plt.gcf()\n",
    "fig.set_size_inches(13,13)\n",
    "plt.title('Location wise count for restaurants')"
   ]
  },
  {
   "cell_type": "markdown",
   "metadata": {},
   "source": [
    "## 3.4.1 City and Rating"
   ]
  },
  {
   "cell_type": "code",
   "execution_count": 162,
   "metadata": {},
   "outputs": [
    {
     "data": {
      "text/plain": [
       "<matplotlib.legend.Legend at 0x1f50fba50c8>"
      ]
     },
     "execution_count": 162,
     "metadata": {},
     "output_type": "execute_result"
    },
    {
     "data": {
      "image/png": "[encoded data removed]",
      "text/plain": [
       "<Figure size 432x288 with 1 Axes>"
      ]
     },
     "metadata": {
      "needs_background": "light"
     },
     "output_type": "display_data"
    }
   ],
   "source": [
    "loc_plt=pd.crosstab(restaurant_df['rate'],restaurant_df['city'])\n",
    "loc_plt.plot(kind='bar',stacked=True);\n",
    "plt.title('Locationwise Rating',fontsize=15,fontweight='bold')\n",
    "plt.ylabel('Location',fontsize=10,fontweight='bold')\n",
    "plt.xlabel('Rating',fontsize=10,fontweight='bold')\n",
    "plt.xticks(fontsize=10,fontweight='bold')\n",
    "plt.yticks(fontsize=10,fontweight='bold');\n",
    "plt.legend()"
   ]
  },
  {
   "cell_type": "markdown",
   "metadata": {},
   "source": [
    "## 3.3 No. of Restaurants in a Location"
   ]
  },
  {
   "cell_type": "code",
   "execution_count": 163,
   "metadata": {},
   "outputs": [
    {
     "data": {
      "text/plain": [
       "Text(0.5, 1.0, 'NO. of restaurants in a Location')"
      ]
     },
     "execution_count": 163,
     "metadata": {},
     "output_type": "execute_result"
    },
    {
     "data": {
      "image/png": "[encoded data removed]",
      "text/plain": [
       "<Figure size 1440x504 with 1 Axes>"
      ]
     },
     "metadata": {
      "needs_background": "light"
     },
     "output_type": "display_data"
    }
   ],
   "source": [
    "fig = plt.figure(figsize=(20,7))\n",
    "loc = sns.countplot(x=\"city\",data=restaurant_df, palette = \"Set1\")\n",
    "loc.set_xticklabels(loc.get_xticklabels(), rotation=90, ha=\"right\")\n",
    "plt.ylabel(\"Frequency\",size=15)\n",
    "plt.xlabel(\"Location\",size=18)\n",
    "loc\n",
    "plt.title('NO. of restaurants in a Location',size = 20,pad=20)"
   ]
  },
  {
   "cell_type": "code",
   "execution_count": 53,
   "metadata": {},
   "outputs": [
    {
     "data": {
      "image/png": "[encoded data removed]",
      "text/plain": [
       "<Figure size 864x432 with 1 Axes>"
      ]
     },
     "metadata": {},
     "output_type": "display_data"
    }
   ],
   "source": [
    "plt.figure(figsize = (12,6))\n",
    "names = restaurant_df['city'].value_counts()[:20].index\n",
    "values = restaurant_df['city'].value_counts()[:20].values\n",
    "colors = ['gold', 'red', 'lightcoral', 'lightskyblue','blue','green','silver']\n",
    "explode = (0.1, 0, 0, 0,0,0,0,0,0,0, 0, 0, 0,0,0,0,0,0,0, 0)  # explode 1st slice\n",
    "\n",
    "plt.pie(values, explode=explode, labels=names, colors=colors,autopct='%1.1f%%', shadow=True, startangle=140)\n",
    "plt.axis('equal')\n",
    "plt.title(\"Percentage of restaurants present in that City\", weight = 'bold')\n",
    "plt.show()"
   ]
  },
  {
   "cell_type": "markdown",
   "metadata": {},
   "source": [
    "There are about 31 city which gives restaurant counts.\n",
    "- **London** has **maximum** number of restaurants where as **Ljubljana** has **minimum** number of restaurants"
   ]
  },
  {
   "cell_type": "markdown",
   "metadata": {},
   "source": [
    "<a id='cuisines'></a>\n",
    "## 3.5 Cuisines"
   ]
  },
  {
   "cell_type": "markdown",
   "metadata": {},
   "source": [
    "Cuisines is a mixed categorical column eg. 'French', 'Dutch', 'European'. A restaurant can have upto 8 cuisines mentioned, which are comma separated.\n",
    "Some restaurants have more than one cusines. <br>Number of cuisines: restaurant counts. \n"
   ]
  },
  {
   "cell_type": "code",
   "execution_count": 54,
   "metadata": {},
   "outputs": [
    {
     "data": {
      "text/plain": [
       "\"['French', 'Dutch', 'European']\""
      ]
     },
     "execution_count": 54,
     "metadata": {},
     "output_type": "execute_result"
    }
   ],
   "source": [
    "restaurant_df.loc[0]['cuisines']"
   ]
  },
  {
   "cell_type": "code",
   "execution_count": 55,
   "metadata": {},
   "outputs": [
    {
     "data": {
      "image/png": "[encoded data removed]",
      "text/plain": [
       "<Figure size 1440x288 with 1 Axes>"
      ]
     },
     "metadata": {
      "needs_background": "light"
     },
     "output_type": "display_data"
    }
   ],
   "source": [
    "column_nan_ratios(restaurant_df)"
   ]
  },
  {
   "cell_type": "markdown",
   "metadata": {},
   "source": [
    "We already seen that there is no missing value for cuisines"
   ]
  },
  {
   "cell_type": "code",
   "execution_count": 56,
   "metadata": {},
   "outputs": [
    {
     "data": {
      "text/plain": [
       "(86704, 8)"
      ]
     },
     "execution_count": 56,
     "metadata": {},
     "output_type": "execute_result"
    }
   ],
   "source": [
    "restaurant_df.shape"
   ]
  },
  {
   "cell_type": "code",
   "execution_count": 57,
   "metadata": {},
   "outputs": [],
   "source": [
    "data = restaurant_df.copy()"
   ]
  },
  {
   "cell_type": "markdown",
   "metadata": {},
   "source": [
    "### 3.5.1 Droping the value which have NaN missing data in cuisines if in further cases to deal with missing value for cuisines"
   ]
  },
  {
   "cell_type": "code",
   "execution_count": 58,
   "metadata": {},
   "outputs": [],
   "source": [
    "data=data[data.cuisines.isna()==False]"
   ]
  },
  {
   "cell_type": "code",
   "execution_count": 59,
   "metadata": {},
   "outputs": [
    {
     "data": {
      "text/plain": [
       "name                     0\n",
       "city                     0\n",
       "cuisines                 0\n",
       "ranking                 14\n",
       "rate                     0\n",
       "price_range          11261\n",
       "number_of_reviews     1204\n",
       "reviews                  0\n",
       "dtype: int64"
      ]
     },
     "execution_count": 59,
     "metadata": {},
     "output_type": "execute_result"
    }
   ],
   "source": [
    "data.isna().sum()"
   ]
  },
  {
   "cell_type": "code",
   "execution_count": 60,
   "metadata": {},
   "outputs": [
    {
     "data": {
      "image/png": "[encoded data removed]",
      "text/plain": [
       "<Figure size 1440x288 with 1 Axes>"
      ]
     },
     "metadata": {
      "needs_background": "light"
     },
     "output_type": "display_data"
    }
   ],
   "source": [
    "column_nan_ratios(data)"
   ]
  },
  {
   "cell_type": "code",
   "execution_count": 61,
   "metadata": {},
   "outputs": [
    {
     "data": {
      "text/plain": [
       "name                     0\n",
       "city                     0\n",
       "cuisines                 0\n",
       "ranking                 14\n",
       "rate                     0\n",
       "price_range          11261\n",
       "number_of_reviews     1204\n",
       "reviews                  0\n",
       "dtype: int64"
      ]
     },
     "execution_count": 61,
     "metadata": {},
     "output_type": "execute_result"
    }
   ],
   "source": [
    "data.isna().sum()"
   ]
  },
  {
   "cell_type": "markdown",
   "metadata": {},
   "source": [
    "Now there are no missing value for Cuisines"
   ]
  },
  {
   "cell_type": "code",
   "execution_count": 62,
   "metadata": {},
   "outputs": [
    {
     "data": {
      "text/plain": [
       "(86704, 8)"
      ]
     },
     "execution_count": 62,
     "metadata": {},
     "output_type": "execute_result"
    }
   ],
   "source": [
    "data.shape"
   ]
  },
  {
   "cell_type": "code",
   "execution_count": 63,
   "metadata": {},
   "outputs": [
    {
     "data": {
      "text/html": [
       "<div>\n",
       "<style scoped>\n",
       "    .dataframe tbody tr th:only-of-type {\n",
       "        vertical-align: middle;\n",
       "    }\n",
       "\n",
       "    .dataframe tbody tr th {\n",
       "        vertical-align: top;\n",
       "    }\n",
       "\n",
       "    .dataframe thead th {\n",
       "        text-align: right;\n",
       "    }\n",
       "</style>\n",
       "<table border=\"1\" class=\"dataframe\">\n",
       "  <thead>\n",
       "    <tr style=\"text-align: right;\">\n",
       "      <th></th>\n",
       "      <th>name</th>\n",
       "      <th>city</th>\n",
       "      <th>cuisines</th>\n",
       "      <th>ranking</th>\n",
       "      <th>rate</th>\n",
       "      <th>price_range</th>\n",
       "      <th>number_of_reviews</th>\n",
       "      <th>reviews</th>\n",
       "    </tr>\n",
       "  </thead>\n",
       "  <tbody>\n",
       "    <tr>\n",
       "      <th>0</th>\n",
       "      <td>Martine of Martine's Table</td>\n",
       "      <td>Amsterdam</td>\n",
       "      <td>['French', 'Dutch', 'European']</td>\n",
       "      <td>1.0</td>\n",
       "      <td>5.0</td>\n",
       "      <td>$$ - $$$</td>\n",
       "      <td>136.0</td>\n",
       "      <td>[['Just like home', 'A Warm Welcome to Wintry ...</td>\n",
       "    </tr>\n",
       "    <tr>\n",
       "      <th>1</th>\n",
       "      <td>De Silveren Spiegel</td>\n",
       "      <td>Amsterdam</td>\n",
       "      <td>['Dutch', 'European', 'Vegetarian Friendly', '...</td>\n",
       "      <td>2.0</td>\n",
       "      <td>4.5</td>\n",
       "      <td>$$$$</td>\n",
       "      <td>812.0</td>\n",
       "      <td>[['Great food and staff', 'just perfect'], ['0...</td>\n",
       "    </tr>\n",
       "    <tr>\n",
       "      <th>2</th>\n",
       "      <td>La Rive</td>\n",
       "      <td>Amsterdam</td>\n",
       "      <td>['Mediterranean', 'French', 'International', '...</td>\n",
       "      <td>3.0</td>\n",
       "      <td>4.5</td>\n",
       "      <td>$$$$</td>\n",
       "      <td>567.0</td>\n",
       "      <td>[['Satisfaction', 'Delicious old school restau...</td>\n",
       "    </tr>\n",
       "    <tr>\n",
       "      <th>3</th>\n",
       "      <td>Vinkeles</td>\n",
       "      <td>Amsterdam</td>\n",
       "      <td>['French', 'European', 'International', 'Conte...</td>\n",
       "      <td>4.0</td>\n",
       "      <td>5.0</td>\n",
       "      <td>$$$$</td>\n",
       "      <td>564.0</td>\n",
       "      <td>[['True five star dinner', 'A superb evening o...</td>\n",
       "    </tr>\n",
       "    <tr>\n",
       "      <th>4</th>\n",
       "      <td>Librije's Zusje Amsterdam</td>\n",
       "      <td>Amsterdam</td>\n",
       "      <td>['Dutch', 'European', 'International', 'Vegeta...</td>\n",
       "      <td>5.0</td>\n",
       "      <td>4.5</td>\n",
       "      <td>$$$$</td>\n",
       "      <td>316.0</td>\n",
       "      <td>[['Best meal.... EVER', 'super food experience...</td>\n",
       "    </tr>\n",
       "  </tbody>\n",
       "</table>\n",
       "</div>"
      ],
      "text/plain": [
       "                         name       city  \\\n",
       "0  Martine of Martine's Table  Amsterdam   \n",
       "1         De Silveren Spiegel  Amsterdam   \n",
       "2                     La Rive  Amsterdam   \n",
       "3                    Vinkeles  Amsterdam   \n",
       "4   Librije's Zusje Amsterdam  Amsterdam   \n",
       "\n",
       "                                            cuisines  ranking  rate  \\\n",
       "0                    ['French', 'Dutch', 'European']      1.0   5.0   \n",
       "1  ['Dutch', 'European', 'Vegetarian Friendly', '...      2.0   4.5   \n",
       "2  ['Mediterranean', 'French', 'International', '...      3.0   4.5   \n",
       "3  ['French', 'European', 'International', 'Conte...      4.0   5.0   \n",
       "4  ['Dutch', 'European', 'International', 'Vegeta...      5.0   4.5   \n",
       "\n",
       "  price_range  number_of_reviews  \\\n",
       "0    $$ - $$$              136.0   \n",
       "1        $$$$              812.0   \n",
       "2        $$$$              567.0   \n",
       "3        $$$$              564.0   \n",
       "4        $$$$              316.0   \n",
       "\n",
       "                                             reviews  \n",
       "0  [['Just like home', 'A Warm Welcome to Wintry ...  \n",
       "1  [['Great food and staff', 'just perfect'], ['0...  \n",
       "2  [['Satisfaction', 'Delicious old school restau...  \n",
       "3  [['True five star dinner', 'A superb evening o...  \n",
       "4  [['Best meal.... EVER', 'super food experience...  "
      ]
     },
     "execution_count": 63,
     "metadata": {},
     "output_type": "execute_result"
    }
   ],
   "source": [
    "data.head()"
   ]
  },
  {
   "cell_type": "markdown",
   "metadata": {},
   "source": [
    "### 3.5.2 Data cleaning for cuisines"
   ]
  },
  {
   "cell_type": "code",
   "execution_count": 64,
   "metadata": {},
   "outputs": [],
   "source": [
    "# data['cuisines'] = data.apply(lambda x: lower_(x.cuisines), axis=1)\n",
    "\n",
    "data['cuisines'] = data.cuisines.astype(str).str.replace('\\[|\\]|\\'', '')\n",
    "data['cuisines'] = data.cuisines.apply(lambda x:x.lower().strip())\n",
    "data['cuisines'] = data['cuisines'].str.replace(' ' , '') \n",
    "data['cuisines'] = data['cuisines'].astype(str).apply(lambda x: ' '.join(sorted(x.split())))\n",
    "# data['cuisines'].value_counts().head()\n",
    "\n",
    "# data['cuisines'] = data[data.cuisines.notnull()]"
   ]
  },
  {
   "cell_type": "code",
   "execution_count": 65,
   "metadata": {},
   "outputs": [
    {
     "data": {
      "text/html": [
       "<div>\n",
       "<style scoped>\n",
       "    .dataframe tbody tr th:only-of-type {\n",
       "        vertical-align: middle;\n",
       "    }\n",
       "\n",
       "    .dataframe tbody tr th {\n",
       "        vertical-align: top;\n",
       "    }\n",
       "\n",
       "    .dataframe thead th {\n",
       "        text-align: right;\n",
       "    }\n",
       "</style>\n",
       "<table border=\"1\" class=\"dataframe\">\n",
       "  <thead>\n",
       "    <tr style=\"text-align: right;\">\n",
       "      <th></th>\n",
       "      <th>name</th>\n",
       "      <th>city</th>\n",
       "      <th>cuisines</th>\n",
       "      <th>ranking</th>\n",
       "      <th>rate</th>\n",
       "      <th>price_range</th>\n",
       "      <th>number_of_reviews</th>\n",
       "      <th>reviews</th>\n",
       "    </tr>\n",
       "  </thead>\n",
       "  <tbody>\n",
       "    <tr>\n",
       "      <th>125445</th>\n",
       "      <td>Ristorante La Taverna</td>\n",
       "      <td>Zurich</td>\n",
       "      <td>italian,vegetarianfriendly</td>\n",
       "      <td>1591.0</td>\n",
       "      <td>4.5</td>\n",
       "      <td>$$ - $$$</td>\n",
       "      <td>16.0</td>\n",
       "      <td>[['Super local eatery', 'Small and charming pl...</td>\n",
       "    </tr>\n",
       "    <tr>\n",
       "      <th>125448</th>\n",
       "      <td>Pizza Blitz Zurich</td>\n",
       "      <td>Zurich</td>\n",
       "      <td>pizza</td>\n",
       "      <td>1594.0</td>\n",
       "      <td>2.0</td>\n",
       "      <td>NaN</td>\n",
       "      <td>5.0</td>\n",
       "      <td>[[\"Don't waste your time, go somewhere else!\",...</td>\n",
       "    </tr>\n",
       "    <tr>\n",
       "      <th>125450</th>\n",
       "      <td>not guilty Bellevue</td>\n",
       "      <td>Zurich</td>\n",
       "      <td>international,european,contemporary,healthy</td>\n",
       "      <td>1596.0</td>\n",
       "      <td>1.0</td>\n",
       "      <td>$$ - $$$</td>\n",
       "      <td>NaN</td>\n",
       "      <td>[[], []]</td>\n",
       "    </tr>\n",
       "    <tr>\n",
       "      <th>125452</th>\n",
       "      <td>Restaurant Gasthof Hirschen</td>\n",
       "      <td>Zurich</td>\n",
       "      <td>german,swiss,european,centraleuropean</td>\n",
       "      <td>1598.0</td>\n",
       "      <td>1.0</td>\n",
       "      <td>NaN</td>\n",
       "      <td>2.0</td>\n",
       "      <td>[[], []]</td>\n",
       "    </tr>\n",
       "    <tr>\n",
       "      <th>125453</th>\n",
       "      <td>Hukka Restaurant &amp; Hookah Lounge</td>\n",
       "      <td>Zurich</td>\n",
       "      <td>german,belgian,mediterranean,european</td>\n",
       "      <td>1601.0</td>\n",
       "      <td>1.0</td>\n",
       "      <td>$$$$</td>\n",
       "      <td>NaN</td>\n",
       "      <td>[[], []]</td>\n",
       "    </tr>\n",
       "  </tbody>\n",
       "</table>\n",
       "</div>"
      ],
      "text/plain": [
       "                                    name    city  \\\n",
       "125445             Ristorante La Taverna  Zurich   \n",
       "125448                Pizza Blitz Zurich  Zurich   \n",
       "125450               not guilty Bellevue  Zurich   \n",
       "125452       Restaurant Gasthof Hirschen  Zurich   \n",
       "125453  Hukka Restaurant & Hookah Lounge  Zurich   \n",
       "\n",
       "                                           cuisines  ranking  rate  \\\n",
       "125445                   italian,vegetarianfriendly   1591.0   4.5   \n",
       "125448                                        pizza   1594.0   2.0   \n",
       "125450  international,european,contemporary,healthy   1596.0   1.0   \n",
       "125452        german,swiss,european,centraleuropean   1598.0   1.0   \n",
       "125453        german,belgian,mediterranean,european   1601.0   1.0   \n",
       "\n",
       "       price_range  number_of_reviews  \\\n",
       "125445    $$ - $$$               16.0   \n",
       "125448         NaN                5.0   \n",
       "125450    $$ - $$$                NaN   \n",
       "125452         NaN                2.0   \n",
       "125453        $$$$                NaN   \n",
       "\n",
       "                                                  reviews  \n",
       "125445  [['Super local eatery', 'Small and charming pl...  \n",
       "125448  [[\"Don't waste your time, go somewhere else!\",...  \n",
       "125450                                           [[], []]  \n",
       "125452                                           [[], []]  \n",
       "125453                                           [[], []]  "
      ]
     },
     "execution_count": 65,
     "metadata": {},
     "output_type": "execute_result"
    }
   ],
   "source": [
    "data.tail()"
   ]
  },
  {
   "cell_type": "code",
   "execution_count": 66,
   "metadata": {},
   "outputs": [
    {
     "data": {
      "text/plain": [
       "(86704, 8)"
      ]
     },
     "execution_count": 66,
     "metadata": {},
     "output_type": "execute_result"
    }
   ],
   "source": [
    "data.shape"
   ]
  },
  {
   "cell_type": "code",
   "execution_count": 67,
   "metadata": {},
   "outputs": [
    {
     "data": {
      "text/plain": [
       "20170"
      ]
     },
     "execution_count": 67,
     "metadata": {},
     "output_type": "execute_result"
    }
   ],
   "source": [
    "data.cuisines.nunique()"
   ]
  },
  {
   "cell_type": "markdown",
   "metadata": {},
   "source": [
    "### 3.5.3 Total number of cuisines count"
   ]
  },
  {
   "cell_type": "code",
   "execution_count": 68,
   "metadata": {},
   "outputs": [],
   "source": [
    "cuisines_count= []\n",
    "\n",
    "for i in data.cuisines:\n",
    "    for j in i.split(','):\n",
    "        j = j.strip()\n",
    "        cuisines_count.append(j)"
   ]
  },
  {
   "cell_type": "code",
   "execution_count": 69,
   "metadata": {},
   "outputs": [
    {
     "data": {
      "text/plain": [
       "272934"
      ]
     },
     "execution_count": 69,
     "metadata": {},
     "output_type": "execute_result"
    }
   ],
   "source": [
    "len(cuisines_count)"
   ]
  },
  {
   "cell_type": "code",
   "execution_count": 70,
   "metadata": {},
   "outputs": [],
   "source": [
    "#  using set it will remove the duplicacy of cuisines\n",
    "unique_cuisines = (set(cuisines_count))"
   ]
  },
  {
   "cell_type": "code",
   "execution_count": 71,
   "metadata": {},
   "outputs": [
    {
     "data": {
      "text/plain": [
       "126"
      ]
     },
     "execution_count": 71,
     "metadata": {},
     "output_type": "execute_result"
    }
   ],
   "source": [
    "len(unique_cuisines)"
   ]
  },
  {
   "cell_type": "code",
   "execution_count": 72,
   "metadata": {},
   "outputs": [
    {
     "data": {
      "text/plain": [
       "Text(0, 0.5, 'No of restaurants')"
      ]
     },
     "execution_count": 72,
     "metadata": {},
     "output_type": "execute_result"
    },
    {
     "data": {
      "image/png": "[encoded data removed]",
      "text/plain": [
       "<Figure size 864x432 with 1 Axes>"
      ]
     },
     "metadata": {
      "needs_background": "light"
     },
     "output_type": "display_data"
    }
   ],
   "source": [
    "plt.figure(figsize=(12,6)) \n",
    "pd.Series(cuisines_count).value_counts()[:30].plot(kind='bar',color= 'r')\n",
    "plt.title('Top 30 cuisines',weight='bold')\n",
    "plt.xlabel('cuisines type')\n",
    "plt.ylabel('No of restaurants')"
   ]
  },
  {
   "cell_type": "markdown",
   "metadata": {},
   "source": [
    "**Inference**<br>\n",
    "- There are more than 30,000 restaurants which servies **vegetarian friendly**, which makes it the top served cusine, followed by **european** and **mediterranean** Food.\n",
    "- **german, greek, fusion**, and many more cusines are the least served cuisines with only 500-600 places serving them while calculating top 30 cuisines."
   ]
  },
  {
   "cell_type": "code",
   "execution_count": 73,
   "metadata": {},
   "outputs": [
    {
     "data": {
      "text/html": [
       "<div>\n",
       "<style scoped>\n",
       "    .dataframe tbody tr th:only-of-type {\n",
       "        vertical-align: middle;\n",
       "    }\n",
       "\n",
       "    .dataframe tbody tr th {\n",
       "        vertical-align: top;\n",
       "    }\n",
       "\n",
       "    .dataframe thead th {\n",
       "        text-align: right;\n",
       "    }\n",
       "</style>\n",
       "<table border=\"1\" class=\"dataframe\">\n",
       "  <thead>\n",
       "    <tr style=\"text-align: right;\">\n",
       "      <th></th>\n",
       "      <th>name</th>\n",
       "      <th>city</th>\n",
       "      <th>cuisines</th>\n",
       "      <th>ranking</th>\n",
       "      <th>rate</th>\n",
       "      <th>price_range</th>\n",
       "      <th>number_of_reviews</th>\n",
       "      <th>reviews</th>\n",
       "    </tr>\n",
       "  </thead>\n",
       "  <tbody>\n",
       "    <tr>\n",
       "      <th>125438</th>\n",
       "      <td>Jade</td>\n",
       "      <td>Zurich</td>\n",
       "      <td>chinese,swiss,mediterranean,european</td>\n",
       "      <td>1584.0</td>\n",
       "      <td>3.0</td>\n",
       "      <td>$$$$</td>\n",
       "      <td>21.0</td>\n",
       "      <td>[['Horrible!', 'It was really horrible, I woul...</td>\n",
       "    </tr>\n",
       "    <tr>\n",
       "      <th>125440</th>\n",
       "      <td>Pizza-Blitz Zurich-Oerlikon</td>\n",
       "      <td>Zurich</td>\n",
       "      <td>italian,pizza</td>\n",
       "      <td>1586.0</td>\n",
       "      <td>2.5</td>\n",
       "      <td>NaN</td>\n",
       "      <td>16.0</td>\n",
       "      <td>[['Good service', '38 USD for a pizza!! HORRIB...</td>\n",
       "    </tr>\n",
       "    <tr>\n",
       "      <th>125441</th>\n",
       "      <td>Restaurant Wehrlischloss</td>\n",
       "      <td>Zurich</td>\n",
       "      <td>steakhouse,swiss,european</td>\n",
       "      <td>1587.0</td>\n",
       "      <td>2.0</td>\n",
       "      <td>NaN</td>\n",
       "      <td>8.0</td>\n",
       "      <td>[['Very basic'], ['05/11/2016']]</td>\n",
       "    </tr>\n",
       "    <tr>\n",
       "      <th>125443</th>\n",
       "      <td>Swiss Food Delivery</td>\n",
       "      <td>Zurich</td>\n",
       "      <td>italian,chinese,american,indian,thai</td>\n",
       "      <td>1589.0</td>\n",
       "      <td>2.5</td>\n",
       "      <td>NaN</td>\n",
       "      <td>3.0</td>\n",
       "      <td>[['Good Service'], ['12/15/2015']]</td>\n",
       "    </tr>\n",
       "    <tr>\n",
       "      <th>125444</th>\n",
       "      <td>Restaurant Moringa Teff</td>\n",
       "      <td>Zurich</td>\n",
       "      <td>italian,african,ethiopian</td>\n",
       "      <td>1590.0</td>\n",
       "      <td>5.0</td>\n",
       "      <td>$$ - $$$</td>\n",
       "      <td>NaN</td>\n",
       "      <td>[[], []]</td>\n",
       "    </tr>\n",
       "    <tr>\n",
       "      <th>125445</th>\n",
       "      <td>Ristorante La Taverna</td>\n",
       "      <td>Zurich</td>\n",
       "      <td>italian,vegetarianfriendly</td>\n",
       "      <td>1591.0</td>\n",
       "      <td>4.5</td>\n",
       "      <td>$$ - $$$</td>\n",
       "      <td>16.0</td>\n",
       "      <td>[['Super local eatery', 'Small and charming pl...</td>\n",
       "    </tr>\n",
       "    <tr>\n",
       "      <th>125448</th>\n",
       "      <td>Pizza Blitz Zurich</td>\n",
       "      <td>Zurich</td>\n",
       "      <td>pizza</td>\n",
       "      <td>1594.0</td>\n",
       "      <td>2.0</td>\n",
       "      <td>NaN</td>\n",
       "      <td>5.0</td>\n",
       "      <td>[[\"Don't waste your time, go somewhere else!\",...</td>\n",
       "    </tr>\n",
       "    <tr>\n",
       "      <th>125450</th>\n",
       "      <td>not guilty Bellevue</td>\n",
       "      <td>Zurich</td>\n",
       "      <td>international,european,contemporary,healthy</td>\n",
       "      <td>1596.0</td>\n",
       "      <td>1.0</td>\n",
       "      <td>$$ - $$$</td>\n",
       "      <td>NaN</td>\n",
       "      <td>[[], []]</td>\n",
       "    </tr>\n",
       "    <tr>\n",
       "      <th>125452</th>\n",
       "      <td>Restaurant Gasthof Hirschen</td>\n",
       "      <td>Zurich</td>\n",
       "      <td>german,swiss,european,centraleuropean</td>\n",
       "      <td>1598.0</td>\n",
       "      <td>1.0</td>\n",
       "      <td>NaN</td>\n",
       "      <td>2.0</td>\n",
       "      <td>[[], []]</td>\n",
       "    </tr>\n",
       "    <tr>\n",
       "      <th>125453</th>\n",
       "      <td>Hukka Restaurant &amp; Hookah Lounge</td>\n",
       "      <td>Zurich</td>\n",
       "      <td>german,belgian,mediterranean,european</td>\n",
       "      <td>1601.0</td>\n",
       "      <td>1.0</td>\n",
       "      <td>$$$$</td>\n",
       "      <td>NaN</td>\n",
       "      <td>[[], []]</td>\n",
       "    </tr>\n",
       "  </tbody>\n",
       "</table>\n",
       "</div>"
      ],
      "text/plain": [
       "                                    name    city  \\\n",
       "125438                              Jade  Zurich   \n",
       "125440       Pizza-Blitz Zurich-Oerlikon  Zurich   \n",
       "125441          Restaurant Wehrlischloss  Zurich   \n",
       "125443               Swiss Food Delivery  Zurich   \n",
       "125444           Restaurant Moringa Teff  Zurich   \n",
       "125445             Ristorante La Taverna  Zurich   \n",
       "125448                Pizza Blitz Zurich  Zurich   \n",
       "125450               not guilty Bellevue  Zurich   \n",
       "125452       Restaurant Gasthof Hirschen  Zurich   \n",
       "125453  Hukka Restaurant & Hookah Lounge  Zurich   \n",
       "\n",
       "                                           cuisines  ranking  rate  \\\n",
       "125438         chinese,swiss,mediterranean,european   1584.0   3.0   \n",
       "125440                                italian,pizza   1586.0   2.5   \n",
       "125441                    steakhouse,swiss,european   1587.0   2.0   \n",
       "125443         italian,chinese,american,indian,thai   1589.0   2.5   \n",
       "125444                    italian,african,ethiopian   1590.0   5.0   \n",
       "125445                   italian,vegetarianfriendly   1591.0   4.5   \n",
       "125448                                        pizza   1594.0   2.0   \n",
       "125450  international,european,contemporary,healthy   1596.0   1.0   \n",
       "125452        german,swiss,european,centraleuropean   1598.0   1.0   \n",
       "125453        german,belgian,mediterranean,european   1601.0   1.0   \n",
       "\n",
       "       price_range  number_of_reviews  \\\n",
       "125438        $$$$               21.0   \n",
       "125440         NaN               16.0   \n",
       "125441         NaN                8.0   \n",
       "125443         NaN                3.0   \n",
       "125444    $$ - $$$                NaN   \n",
       "125445    $$ - $$$               16.0   \n",
       "125448         NaN                5.0   \n",
       "125450    $$ - $$$                NaN   \n",
       "125452         NaN                2.0   \n",
       "125453        $$$$                NaN   \n",
       "\n",
       "                                                  reviews  \n",
       "125438  [['Horrible!', 'It was really horrible, I woul...  \n",
       "125440  [['Good service', '38 USD for a pizza!! HORRIB...  \n",
       "125441                   [['Very basic'], ['05/11/2016']]  \n",
       "125443                 [['Good Service'], ['12/15/2015']]  \n",
       "125444                                           [[], []]  \n",
       "125445  [['Super local eatery', 'Small and charming pl...  \n",
       "125448  [[\"Don't waste your time, go somewhere else!\",...  \n",
       "125450                                           [[], []]  \n",
       "125452                                           [[], []]  \n",
       "125453                                           [[], []]  "
      ]
     },
     "execution_count": 73,
     "metadata": {},
     "output_type": "execute_result"
    }
   ],
   "source": [
    "data.tail(10)"
   ]
  },
  {
   "cell_type": "code",
   "execution_count": 74,
   "metadata": {},
   "outputs": [],
   "source": [
    "data_2 = data.copy()"
   ]
  },
  {
   "cell_type": "code",
   "execution_count": 75,
   "metadata": {},
   "outputs": [],
   "source": [
    "restaurant_df = data_2.copy()"
   ]
  },
  {
   "cell_type": "code",
   "execution_count": 76,
   "metadata": {},
   "outputs": [
    {
     "data": {
      "text/plain": [
       "(86704, 8)"
      ]
     },
     "execution_count": 76,
     "metadata": {},
     "output_type": "execute_result"
    }
   ],
   "source": [
    "data_2.shape"
   ]
  },
  {
   "cell_type": "code",
   "execution_count": 77,
   "metadata": {},
   "outputs": [
    {
     "name": "stdout",
     "output_type": "stream",
     "text": [
      "<class 'pandas.core.frame.DataFrame'>\n",
      "Int64Index: 86704 entries, 0 to 125453\n",
      "Data columns (total 8 columns):\n",
      "name                 86704 non-null object\n",
      "city                 86704 non-null object\n",
      "cuisines             86704 non-null object\n",
      "ranking              86690 non-null float64\n",
      "rate                 86704 non-null float64\n",
      "price_range          75443 non-null object\n",
      "number_of_reviews    85500 non-null float64\n",
      "reviews              86704 non-null object\n",
      "dtypes: float64(3), object(5)\n",
      "memory usage: 6.0+ MB\n"
     ]
    }
   ],
   "source": [
    "data_2.info()"
   ]
  },
  {
   "cell_type": "markdown",
   "metadata": {},
   "source": [
    "<a id='precol'></a>\n",
    "## 3.6 Reencoding columns\n",
    "\n",
    "In this section the columns are preprossed from string values to integer/binary values. Some of the columns are of object type and needs to be converted. the remaining 8 columns are:\n",
    "- Numerical data in form of string\n",
    "- nominal categorical data\n",
    "- mixed nominal categorical data"
   ]
  },
  {
   "cell_type": "markdown",
   "metadata": {},
   "source": [
    "**About Columns:**\n",
    "    \n",
    "1. Numerical,float\n",
    "    - `rate` - 1, 1.5, 2.0, ...., 4.5, 5\n",
    "    - `ranking` - numbers provided\n",
    "    - `number_of_reviews` -  number provided\n",
    "\n",
    "\n",
    "\n",
    "2. Multi level categorical columns\n",
    "    - `city`  - location of the restaurant in the city eg. 'London', 'Paris', 'Barcelona' - 31 unique names\n",
    "    - `name`  - name of the restaurant in the city eg. 'Jade', 'Pizza Blitz Zurich', 'Restaurant Gasthof Hirschen' - 78775 unique names\n",
    "    - `price_range`  - price range of the restaurant among 3 categories.\n",
    "    - `reviews`  - 2 reviews that are displayed on the restaurants scrolling page of the city, as a list of list object where the first list contains the 2 reviews, and the second le dates.\n",
    "\n",
    "3. Mixed categorical columns\n",
    "    - `cuisines` - cuisines type as menstioned by the restaurant - restaurant may have cuisines type between some range.\n",
    "\n",
    "\n",
    "\n"
   ]
  },
  {
   "cell_type": "code",
   "execution_count": 105,
   "metadata": {},
   "outputs": [
    {
     "data": {
      "text/plain": [
       "78775"
      ]
     },
     "execution_count": 105,
     "metadata": {},
     "output_type": "execute_result"
    }
   ],
   "source": [
    "# total unique name for name\n",
    "data_2.name.nunique()"
   ]
  },
  {
   "cell_type": "code",
   "execution_count": 78,
   "metadata": {},
   "outputs": [
    {
     "data": {
      "text/plain": [
       "array(['$$ - $$$', '$$$$', '$', nan], dtype=object)"
      ]
     },
     "execution_count": 78,
     "metadata": {},
     "output_type": "execute_result"
    }
   ],
   "source": [
    "data_2.price_range.unique()"
   ]
  },
  {
   "cell_type": "markdown",
   "metadata": {},
   "source": [
    "### 3.6.1 Numerical,float"
   ]
  },
  {
   "cell_type": "markdown",
   "metadata": {},
   "source": [
    "- `rate` - 1, 1.5, 2.0, ...., 4.5, 5 which is in float that is good for prediction.\n",
    "- `ranking` - numbers provided in float to convert in integer as ranking always in integer format\n",
    "- `number_of_reviews` -  numbers provided in float to convert in integer as number_of_reviews always in whole number format"
   ]
  },
  {
   "cell_type": "code",
   "execution_count": 79,
   "metadata": {},
   "outputs": [
    {
     "name": "stdout",
     "output_type": "stream",
     "text": [
      "<class 'pandas.core.frame.DataFrame'>\n",
      "Int64Index: 86704 entries, 0 to 125453\n",
      "Data columns (total 8 columns):\n",
      "name                 86704 non-null object\n",
      "city                 86704 non-null object\n",
      "cuisines             86704 non-null object\n",
      "ranking              86690 non-null float64\n",
      "rate                 86704 non-null float64\n",
      "price_range          75443 non-null object\n",
      "number_of_reviews    85500 non-null float64\n",
      "reviews              86704 non-null object\n",
      "dtypes: float64(3), object(5)\n",
      "memory usage: 6.0+ MB\n"
     ]
    }
   ],
   "source": [
    "data_2.info()"
   ]
  },
  {
   "cell_type": "code",
   "execution_count": 81,
   "metadata": {},
   "outputs": [],
   "source": [
    "# data_2.ranking = data_2.apply(lambda x: float_to_int(x.ranking), axis=1)"
   ]
  },
  {
   "cell_type": "code",
   "execution_count": 82,
   "metadata": {},
   "outputs": [],
   "source": [
    "data_2.ranking = data_2.ranking.astype('Int64')"
   ]
  },
  {
   "cell_type": "code",
   "execution_count": 83,
   "metadata": {},
   "outputs": [],
   "source": [
    "data_2.number_of_reviews = data_2.number_of_reviews.astype('Int64')"
   ]
  },
  {
   "cell_type": "code",
   "execution_count": 84,
   "metadata": {},
   "outputs": [
    {
     "name": "stdout",
     "output_type": "stream",
     "text": [
      "<class 'pandas.core.frame.DataFrame'>\n",
      "Int64Index: 86704 entries, 0 to 125453\n",
      "Data columns (total 8 columns):\n",
      "name                 86704 non-null object\n",
      "city                 86704 non-null object\n",
      "cuisines             86704 non-null object\n",
      "ranking              86690 non-null Int64\n",
      "rate                 86704 non-null float64\n",
      "price_range          75443 non-null object\n",
      "number_of_reviews    85500 non-null Int64\n",
      "reviews              86704 non-null object\n",
      "dtypes: Int64(2), float64(1), object(5)\n",
      "memory usage: 6.1+ MB\n"
     ]
    }
   ],
   "source": [
    "data_2.info()"
   ]
  },
  {
   "cell_type": "code",
   "execution_count": 85,
   "metadata": {},
   "outputs": [
    {
     "data": {
      "text/html": [
       "<div>\n",
       "<style scoped>\n",
       "    .dataframe tbody tr th:only-of-type {\n",
       "        vertical-align: middle;\n",
       "    }\n",
       "\n",
       "    .dataframe tbody tr th {\n",
       "        vertical-align: top;\n",
       "    }\n",
       "\n",
       "    .dataframe thead th {\n",
       "        text-align: right;\n",
       "    }\n",
       "</style>\n",
       "<table border=\"1\" class=\"dataframe\">\n",
       "  <thead>\n",
       "    <tr style=\"text-align: right;\">\n",
       "      <th></th>\n",
       "      <th>name</th>\n",
       "      <th>city</th>\n",
       "      <th>cuisines</th>\n",
       "      <th>ranking</th>\n",
       "      <th>rate</th>\n",
       "      <th>price_range</th>\n",
       "      <th>number_of_reviews</th>\n",
       "      <th>reviews</th>\n",
       "    </tr>\n",
       "  </thead>\n",
       "  <tbody>\n",
       "    <tr>\n",
       "      <th>125445</th>\n",
       "      <td>Ristorante La Taverna</td>\n",
       "      <td>Zurich</td>\n",
       "      <td>italian,vegetarianfriendly</td>\n",
       "      <td>1591</td>\n",
       "      <td>4.5</td>\n",
       "      <td>$$ - $$$</td>\n",
       "      <td>16</td>\n",
       "      <td>[['Super local eatery', 'Small and charming pl...</td>\n",
       "    </tr>\n",
       "    <tr>\n",
       "      <th>125448</th>\n",
       "      <td>Pizza Blitz Zurich</td>\n",
       "      <td>Zurich</td>\n",
       "      <td>pizza</td>\n",
       "      <td>1594</td>\n",
       "      <td>2.0</td>\n",
       "      <td>NaN</td>\n",
       "      <td>5</td>\n",
       "      <td>[[\"Don't waste your time, go somewhere else!\",...</td>\n",
       "    </tr>\n",
       "    <tr>\n",
       "      <th>125450</th>\n",
       "      <td>not guilty Bellevue</td>\n",
       "      <td>Zurich</td>\n",
       "      <td>international,european,contemporary,healthy</td>\n",
       "      <td>1596</td>\n",
       "      <td>1.0</td>\n",
       "      <td>$$ - $$$</td>\n",
       "      <td>NaN</td>\n",
       "      <td>[[], []]</td>\n",
       "    </tr>\n",
       "    <tr>\n",
       "      <th>125452</th>\n",
       "      <td>Restaurant Gasthof Hirschen</td>\n",
       "      <td>Zurich</td>\n",
       "      <td>german,swiss,european,centraleuropean</td>\n",
       "      <td>1598</td>\n",
       "      <td>1.0</td>\n",
       "      <td>NaN</td>\n",
       "      <td>2</td>\n",
       "      <td>[[], []]</td>\n",
       "    </tr>\n",
       "    <tr>\n",
       "      <th>125453</th>\n",
       "      <td>Hukka Restaurant &amp; Hookah Lounge</td>\n",
       "      <td>Zurich</td>\n",
       "      <td>german,belgian,mediterranean,european</td>\n",
       "      <td>1601</td>\n",
       "      <td>1.0</td>\n",
       "      <td>$$$$</td>\n",
       "      <td>NaN</td>\n",
       "      <td>[[], []]</td>\n",
       "    </tr>\n",
       "  </tbody>\n",
       "</table>\n",
       "</div>"
      ],
      "text/plain": [
       "                                    name    city  \\\n",
       "125445             Ristorante La Taverna  Zurich   \n",
       "125448                Pizza Blitz Zurich  Zurich   \n",
       "125450               not guilty Bellevue  Zurich   \n",
       "125452       Restaurant Gasthof Hirschen  Zurich   \n",
       "125453  Hukka Restaurant & Hookah Lounge  Zurich   \n",
       "\n",
       "                                           cuisines  ranking  rate  \\\n",
       "125445                   italian,vegetarianfriendly     1591   4.5   \n",
       "125448                                        pizza     1594   2.0   \n",
       "125450  international,european,contemporary,healthy     1596   1.0   \n",
       "125452        german,swiss,european,centraleuropean     1598   1.0   \n",
       "125453        german,belgian,mediterranean,european     1601   1.0   \n",
       "\n",
       "       price_range  number_of_reviews  \\\n",
       "125445    $$ - $$$                 16   \n",
       "125448         NaN                  5   \n",
       "125450    $$ - $$$                NaN   \n",
       "125452         NaN                  2   \n",
       "125453        $$$$                NaN   \n",
       "\n",
       "                                                  reviews  \n",
       "125445  [['Super local eatery', 'Small and charming pl...  \n",
       "125448  [[\"Don't waste your time, go somewhere else!\",...  \n",
       "125450                                           [[], []]  \n",
       "125452                                           [[], []]  \n",
       "125453                                           [[], []]  "
      ]
     },
     "execution_count": 85,
     "metadata": {},
     "output_type": "execute_result"
    }
   ],
   "source": [
    "data_2.tail()"
   ]
  },
  {
   "cell_type": "markdown",
   "metadata": {},
   "source": [
    "**Inference:**\n",
    "- Now ranking and number_of_reviews are in integer from float."
   ]
  },
  {
   "cell_type": "code",
   "execution_count": 86,
   "metadata": {},
   "outputs": [
    {
     "data": {
      "text/html": [
       "<div>\n",
       "<style scoped>\n",
       "    .dataframe tbody tr th:only-of-type {\n",
       "        vertical-align: middle;\n",
       "    }\n",
       "\n",
       "    .dataframe tbody tr th {\n",
       "        vertical-align: top;\n",
       "    }\n",
       "\n",
       "    .dataframe thead th {\n",
       "        text-align: right;\n",
       "    }\n",
       "</style>\n",
       "<table border=\"1\" class=\"dataframe\">\n",
       "  <thead>\n",
       "    <tr style=\"text-align: right;\">\n",
       "      <th></th>\n",
       "      <th>ranking</th>\n",
       "      <th>rate</th>\n",
       "      <th>number_of_reviews</th>\n",
       "    </tr>\n",
       "  </thead>\n",
       "  <tbody>\n",
       "    <tr>\n",
       "      <th>ranking</th>\n",
       "      <td>1.000000</td>\n",
       "      <td>-0.390605</td>\n",
       "      <td>-0.218121</td>\n",
       "    </tr>\n",
       "    <tr>\n",
       "      <th>rate</th>\n",
       "      <td>-0.390605</td>\n",
       "      <td>1.000000</td>\n",
       "      <td>0.031851</td>\n",
       "    </tr>\n",
       "    <tr>\n",
       "      <th>number_of_reviews</th>\n",
       "      <td>-0.218121</td>\n",
       "      <td>0.031851</td>\n",
       "      <td>1.000000</td>\n",
       "    </tr>\n",
       "  </tbody>\n",
       "</table>\n",
       "</div>"
      ],
      "text/plain": [
       "                    ranking      rate  number_of_reviews\n",
       "ranking            1.000000 -0.390605          -0.218121\n",
       "rate              -0.390605  1.000000           0.031851\n",
       "number_of_reviews -0.218121  0.031851           1.000000"
      ]
     },
     "execution_count": 86,
     "metadata": {},
     "output_type": "execute_result"
    }
   ],
   "source": [
    "data_2.corr()"
   ]
  },
  {
   "cell_type": "markdown",
   "metadata": {},
   "source": [
    "**Inference:**<br>\n",
    "- small negative correlation can be seen between rates and ranking which was expected\n",
    "- a negative correlation can be seen between number_of_reviews and rates."
   ]
  },
  {
   "cell_type": "code",
   "execution_count": 87,
   "metadata": {},
   "outputs": [
    {
     "data": {
      "text/plain": [
       "Index(['name', 'city', 'cuisines', 'ranking', 'rate', 'price_range',\n",
       "       'number_of_reviews', 'reviews'],\n",
       "      dtype='object')"
      ]
     },
     "execution_count": 87,
     "metadata": {},
     "output_type": "execute_result"
    }
   ],
   "source": [
    "data_2.columns"
   ]
  },
  {
   "cell_type": "markdown",
   "metadata": {},
   "source": [
    "### 3.6.2 Multi level categorical columns"
   ]
  },
  {
   "cell_type": "markdown",
   "metadata": {},
   "source": [
    "#### 1. Methods to deal with multi level categorical values\n",
    "\n",
    "The city columns is nominal as the name there are total 31 distinct city for Restaurants.\n",
    "- Creating dummy values\n",
    "- creating new levels based on frequency\n",
    "- Converting to numeric values - label encoding\n",
    "- Hashing\n",
    "there are other complicated encoders such as Hermet, sum, backward, polynomial encoders\n",
    ">For my project **I used creating dummy variables** because it saves all the information in form of binary input. Giving labels to more than 30 values will takeout all the information but it will be difficult to process the data for prediction for single prediction as well."
   ]
  },
  {
   "cell_type": "code",
   "execution_count": 99,
   "metadata": {},
   "outputs": [],
   "source": [
    "data_2['city'] = data.city.apply(lambda x:x.lower().strip())"
   ]
  },
  {
   "cell_type": "markdown",
   "metadata": {},
   "source": [
    "## Name"
   ]
  },
  {
   "cell_type": "code",
   "execution_count": 106,
   "metadata": {},
   "outputs": [],
   "source": [
    "data_2['name'] = data.name.apply(lambda x:x.lower().strip())"
   ]
  },
  {
   "cell_type": "markdown",
   "metadata": {},
   "source": [
    "### Most famous Restaurant chains"
   ]
  },
  {
   "cell_type": "code",
   "execution_count": 164,
   "metadata": {},
   "outputs": [
    {
     "data": {
      "text/plain": [
       "Text(0.5, 0, 'Number of outlets')"
      ]
     },
     "execution_count": 164,
     "metadata": {},
     "output_type": "execute_result"
    },
    {
     "data": {
      "image/png": "[encoded data removed]",
      "text/plain": [
       "<Figure size 1080x504 with 1 Axes>"
      ]
     },
     "metadata": {
      "needs_background": "light"
     },
     "output_type": "display_data"
    }
   ],
   "source": [
    "plt.figure(figsize=(15,7))\n",
    "chains=data_2['name'].value_counts()[:20]\n",
    "sns.barplot(x=chains,y=chains.index,palette='Set1')\n",
    "plt.title(\"Most famous restaurant chains\",size=20,pad=20)\n",
    "plt.xlabel(\"Number of outlets\",size=15)"
   ]
  },
  {
   "cell_type": "markdown",
   "metadata": {},
   "source": [
    "#### 2. price_range"
   ]
  },
  {
   "cell_type": "code",
   "execution_count": 107,
   "metadata": {},
   "outputs": [],
   "source": [
    "restaurant_df = data_2.copy()"
   ]
  },
  {
   "cell_type": "code",
   "execution_count": 108,
   "metadata": {},
   "outputs": [
    {
     "data": {
      "text/plain": [
       "$$ - $$$    53169\n",
       "$           18121\n",
       "NaN         11261\n",
       "$$$$         4153\n",
       "Name: price_range, dtype: int64"
      ]
     },
     "execution_count": 108,
     "metadata": {},
     "output_type": "execute_result"
    }
   ],
   "source": [
    "#  to count value for each category occurence\n",
    "restaurant_df['price_range'].value_counts(dropna=False)"
   ]
  },
  {
   "cell_type": "markdown",
   "metadata": {},
   "source": [
    "- price range have NaN value will deal this NaN in further section\n",
    "- categorise this 3 names as low, medium and high"
   ]
  },
  {
   "cell_type": "code",
   "execution_count": 109,
   "metadata": {},
   "outputs": [],
   "source": [
    "restaurant_df = restaurant_df.replace({'price_range' : { '$$ - $$$' : 'low', '$' : 'medium', '$$$$' : 'high' }})"
   ]
  },
  {
   "cell_type": "code",
   "execution_count": 110,
   "metadata": {},
   "outputs": [
    {
     "data": {
      "text/html": [
       "<div>\n",
       "<style scoped>\n",
       "    .dataframe tbody tr th:only-of-type {\n",
       "        vertical-align: middle;\n",
       "    }\n",
       "\n",
       "    .dataframe tbody tr th {\n",
       "        vertical-align: top;\n",
       "    }\n",
       "\n",
       "    .dataframe thead th {\n",
       "        text-align: right;\n",
       "    }\n",
       "</style>\n",
       "<table border=\"1\" class=\"dataframe\">\n",
       "  <thead>\n",
       "    <tr style=\"text-align: right;\">\n",
       "      <th></th>\n",
       "      <th>name</th>\n",
       "      <th>city</th>\n",
       "      <th>cuisines</th>\n",
       "      <th>ranking</th>\n",
       "      <th>rate</th>\n",
       "      <th>price_range</th>\n",
       "      <th>number_of_reviews</th>\n",
       "      <th>reviews</th>\n",
       "    </tr>\n",
       "  </thead>\n",
       "  <tbody>\n",
       "    <tr>\n",
       "      <th>125420</th>\n",
       "      <td>libanesisches essen</td>\n",
       "      <td>zurich</td>\n",
       "      <td>middleeastern</td>\n",
       "      <td>1566</td>\n",
       "      <td>3.5</td>\n",
       "      <td>NaN</td>\n",
       "      <td>12</td>\n",
       "      <td>[['These people are rude!', 'Avoid'], ['05/30/...</td>\n",
       "    </tr>\n",
       "    <tr>\n",
       "      <th>125421</th>\n",
       "      <td>ta ty asian restaurant</td>\n",
       "      <td>zurich</td>\n",
       "      <td>asian</td>\n",
       "      <td>1567</td>\n",
       "      <td>2.5</td>\n",
       "      <td>NaN</td>\n",
       "      <td>3</td>\n",
       "      <td>[[], []]</td>\n",
       "    </tr>\n",
       "    <tr>\n",
       "      <th>125422</th>\n",
       "      <td>bistro lochergut</td>\n",
       "      <td>zurich</td>\n",
       "      <td>italian</td>\n",
       "      <td>1568</td>\n",
       "      <td>3.0</td>\n",
       "      <td>NaN</td>\n",
       "      <td>2</td>\n",
       "      <td>[[], []]</td>\n",
       "    </tr>\n",
       "    <tr>\n",
       "      <th>125423</th>\n",
       "      <td>taj palace</td>\n",
       "      <td>zurich</td>\n",
       "      <td>indian,asian,vegetarianfriendly,halal</td>\n",
       "      <td>1569</td>\n",
       "      <td>2.5</td>\n",
       "      <td>low</td>\n",
       "      <td>53</td>\n",
       "      <td>[['Good food and nice experience', 'Disappoint...</td>\n",
       "    </tr>\n",
       "    <tr>\n",
       "      <th>125424</th>\n",
       "      <td>tasteria</td>\n",
       "      <td>zurich</td>\n",
       "      <td>international</td>\n",
       "      <td>1570</td>\n",
       "      <td>4.0</td>\n",
       "      <td>NaN</td>\n",
       "      <td>2</td>\n",
       "      <td>[[], []]</td>\n",
       "    </tr>\n",
       "    <tr>\n",
       "      <th>125425</th>\n",
       "      <td>milchbar-am-bellevue</td>\n",
       "      <td>zurich</td>\n",
       "      <td>european</td>\n",
       "      <td>1571</td>\n",
       "      <td>2.5</td>\n",
       "      <td>NaN</td>\n",
       "      <td>11</td>\n",
       "      <td>[['Babyccino - Babies delight', 'Nice little p...</td>\n",
       "    </tr>\n",
       "    <tr>\n",
       "      <th>125433</th>\n",
       "      <td>cocoa beach zurich</td>\n",
       "      <td>zurich</td>\n",
       "      <td>bar,pub</td>\n",
       "      <td>1579</td>\n",
       "      <td>2.0</td>\n",
       "      <td>NaN</td>\n",
       "      <td>10</td>\n",
       "      <td>[['Wannabes', 'Terrible service but good conce...</td>\n",
       "    </tr>\n",
       "    <tr>\n",
       "      <th>125434</th>\n",
       "      <td>forum</td>\n",
       "      <td>zurich</td>\n",
       "      <td>mediterranean,european,centraleuropean,bar,veg...</td>\n",
       "      <td>1580</td>\n",
       "      <td>3.5</td>\n",
       "      <td>low</td>\n",
       "      <td>104</td>\n",
       "      <td>[['Good service', 'nice atmoshphere'], ['06/27...</td>\n",
       "    </tr>\n",
       "    <tr>\n",
       "      <th>125435</th>\n",
       "      <td>purpur</td>\n",
       "      <td>zurich</td>\n",
       "      <td>bar</td>\n",
       "      <td>1581</td>\n",
       "      <td>2.0</td>\n",
       "      <td>low</td>\n",
       "      <td>150</td>\n",
       "      <td>[['Worst New Year’s Eve experience', 'HORRIBLE...</td>\n",
       "    </tr>\n",
       "    <tr>\n",
       "      <th>125436</th>\n",
       "      <td>windegg</td>\n",
       "      <td>zurich</td>\n",
       "      <td>swiss,european,centraleuropean</td>\n",
       "      <td>1582</td>\n",
       "      <td>3.0</td>\n",
       "      <td>NaN</td>\n",
       "      <td>3</td>\n",
       "      <td>[['Not just a restaurant but maybe it should.....</td>\n",
       "    </tr>\n",
       "    <tr>\n",
       "      <th>125438</th>\n",
       "      <td>jade</td>\n",
       "      <td>zurich</td>\n",
       "      <td>chinese,swiss,mediterranean,european</td>\n",
       "      <td>1584</td>\n",
       "      <td>3.0</td>\n",
       "      <td>high</td>\n",
       "      <td>21</td>\n",
       "      <td>[['Horrible!', 'It was really horrible, I woul...</td>\n",
       "    </tr>\n",
       "    <tr>\n",
       "      <th>125440</th>\n",
       "      <td>pizza-blitz zurich-oerlikon</td>\n",
       "      <td>zurich</td>\n",
       "      <td>italian,pizza</td>\n",
       "      <td>1586</td>\n",
       "      <td>2.5</td>\n",
       "      <td>NaN</td>\n",
       "      <td>16</td>\n",
       "      <td>[['Good service', '38 USD for a pizza!! HORRIB...</td>\n",
       "    </tr>\n",
       "    <tr>\n",
       "      <th>125441</th>\n",
       "      <td>restaurant wehrlischloss</td>\n",
       "      <td>zurich</td>\n",
       "      <td>steakhouse,swiss,european</td>\n",
       "      <td>1587</td>\n",
       "      <td>2.0</td>\n",
       "      <td>NaN</td>\n",
       "      <td>8</td>\n",
       "      <td>[['Very basic'], ['05/11/2016']]</td>\n",
       "    </tr>\n",
       "    <tr>\n",
       "      <th>125443</th>\n",
       "      <td>swiss food delivery</td>\n",
       "      <td>zurich</td>\n",
       "      <td>italian,chinese,american,indian,thai</td>\n",
       "      <td>1589</td>\n",
       "      <td>2.5</td>\n",
       "      <td>NaN</td>\n",
       "      <td>3</td>\n",
       "      <td>[['Good Service'], ['12/15/2015']]</td>\n",
       "    </tr>\n",
       "    <tr>\n",
       "      <th>125444</th>\n",
       "      <td>restaurant moringa teff</td>\n",
       "      <td>zurich</td>\n",
       "      <td>italian,african,ethiopian</td>\n",
       "      <td>1590</td>\n",
       "      <td>5.0</td>\n",
       "      <td>low</td>\n",
       "      <td>NaN</td>\n",
       "      <td>[[], []]</td>\n",
       "    </tr>\n",
       "    <tr>\n",
       "      <th>125445</th>\n",
       "      <td>ristorante la taverna</td>\n",
       "      <td>zurich</td>\n",
       "      <td>italian,vegetarianfriendly</td>\n",
       "      <td>1591</td>\n",
       "      <td>4.5</td>\n",
       "      <td>low</td>\n",
       "      <td>16</td>\n",
       "      <td>[['Super local eatery', 'Small and charming pl...</td>\n",
       "    </tr>\n",
       "    <tr>\n",
       "      <th>125448</th>\n",
       "      <td>pizza blitz zurich</td>\n",
       "      <td>zurich</td>\n",
       "      <td>pizza</td>\n",
       "      <td>1594</td>\n",
       "      <td>2.0</td>\n",
       "      <td>NaN</td>\n",
       "      <td>5</td>\n",
       "      <td>[[\"Don't waste your time, go somewhere else!\",...</td>\n",
       "    </tr>\n",
       "    <tr>\n",
       "      <th>125450</th>\n",
       "      <td>not guilty bellevue</td>\n",
       "      <td>zurich</td>\n",
       "      <td>international,european,contemporary,healthy</td>\n",
       "      <td>1596</td>\n",
       "      <td>1.0</td>\n",
       "      <td>low</td>\n",
       "      <td>NaN</td>\n",
       "      <td>[[], []]</td>\n",
       "    </tr>\n",
       "    <tr>\n",
       "      <th>125452</th>\n",
       "      <td>restaurant gasthof hirschen</td>\n",
       "      <td>zurich</td>\n",
       "      <td>german,swiss,european,centraleuropean</td>\n",
       "      <td>1598</td>\n",
       "      <td>1.0</td>\n",
       "      <td>NaN</td>\n",
       "      <td>2</td>\n",
       "      <td>[[], []]</td>\n",
       "    </tr>\n",
       "    <tr>\n",
       "      <th>125453</th>\n",
       "      <td>hukka restaurant &amp; hookah lounge</td>\n",
       "      <td>zurich</td>\n",
       "      <td>german,belgian,mediterranean,european</td>\n",
       "      <td>1601</td>\n",
       "      <td>1.0</td>\n",
       "      <td>high</td>\n",
       "      <td>NaN</td>\n",
       "      <td>[[], []]</td>\n",
       "    </tr>\n",
       "  </tbody>\n",
       "</table>\n",
       "</div>"
      ],
      "text/plain": [
       "                                    name    city  \\\n",
       "125420               libanesisches essen  zurich   \n",
       "125421            ta ty asian restaurant  zurich   \n",
       "125422                  bistro lochergut  zurich   \n",
       "125423                        taj palace  zurich   \n",
       "125424                          tasteria  zurich   \n",
       "125425              milchbar-am-bellevue  zurich   \n",
       "125433                cocoa beach zurich  zurich   \n",
       "125434                             forum  zurich   \n",
       "125435                            purpur  zurich   \n",
       "125436                           windegg  zurich   \n",
       "125438                              jade  zurich   \n",
       "125440       pizza-blitz zurich-oerlikon  zurich   \n",
       "125441          restaurant wehrlischloss  zurich   \n",
       "125443               swiss food delivery  zurich   \n",
       "125444           restaurant moringa teff  zurich   \n",
       "125445             ristorante la taverna  zurich   \n",
       "125448                pizza blitz zurich  zurich   \n",
       "125450               not guilty bellevue  zurich   \n",
       "125452       restaurant gasthof hirschen  zurich   \n",
       "125453  hukka restaurant & hookah lounge  zurich   \n",
       "\n",
       "                                                 cuisines  ranking  rate  \\\n",
       "125420                                      middleeastern     1566   3.5   \n",
       "125421                                              asian     1567   2.5   \n",
       "125422                                            italian     1568   3.0   \n",
       "125423              indian,asian,vegetarianfriendly,halal     1569   2.5   \n",
       "125424                                      international     1570   4.0   \n",
       "125425                                           european     1571   2.5   \n",
       "125433                                            bar,pub     1579   2.0   \n",
       "125434  mediterranean,european,centraleuropean,bar,veg...     1580   3.5   \n",
       "125435                                                bar     1581   2.0   \n",
       "125436                     swiss,european,centraleuropean     1582   3.0   \n",
       "125438               chinese,swiss,mediterranean,european     1584   3.0   \n",
       "125440                                      italian,pizza     1586   2.5   \n",
       "125441                          steakhouse,swiss,european     1587   2.0   \n",
       "125443               italian,chinese,american,indian,thai     1589   2.5   \n",
       "125444                          italian,african,ethiopian     1590   5.0   \n",
       "125445                         italian,vegetarianfriendly     1591   4.5   \n",
       "125448                                              pizza     1594   2.0   \n",
       "125450        international,european,contemporary,healthy     1596   1.0   \n",
       "125452              german,swiss,european,centraleuropean     1598   1.0   \n",
       "125453              german,belgian,mediterranean,european     1601   1.0   \n",
       "\n",
       "       price_range  number_of_reviews  \\\n",
       "125420         NaN                 12   \n",
       "125421         NaN                  3   \n",
       "125422         NaN                  2   \n",
       "125423         low                 53   \n",
       "125424         NaN                  2   \n",
       "125425         NaN                 11   \n",
       "125433         NaN                 10   \n",
       "125434         low                104   \n",
       "125435         low                150   \n",
       "125436         NaN                  3   \n",
       "125438        high                 21   \n",
       "125440         NaN                 16   \n",
       "125441         NaN                  8   \n",
       "125443         NaN                  3   \n",
       "125444         low                NaN   \n",
       "125445         low                 16   \n",
       "125448         NaN                  5   \n",
       "125450         low                NaN   \n",
       "125452         NaN                  2   \n",
       "125453        high                NaN   \n",
       "\n",
       "                                                  reviews  \n",
       "125420  [['These people are rude!', 'Avoid'], ['05/30/...  \n",
       "125421                                           [[], []]  \n",
       "125422                                           [[], []]  \n",
       "125423  [['Good food and nice experience', 'Disappoint...  \n",
       "125424                                           [[], []]  \n",
       "125425  [['Babyccino - Babies delight', 'Nice little p...  \n",
       "125433  [['Wannabes', 'Terrible service but good conce...  \n",
       "125434  [['Good service', 'nice atmoshphere'], ['06/27...  \n",
       "125435  [['Worst New Year’s Eve experience', 'HORRIBLE...  \n",
       "125436  [['Not just a restaurant but maybe it should.....  \n",
       "125438  [['Horrible!', 'It was really horrible, I woul...  \n",
       "125440  [['Good service', '38 USD for a pizza!! HORRIB...  \n",
       "125441                   [['Very basic'], ['05/11/2016']]  \n",
       "125443                 [['Good Service'], ['12/15/2015']]  \n",
       "125444                                           [[], []]  \n",
       "125445  [['Super local eatery', 'Small and charming pl...  \n",
       "125448  [[\"Don't waste your time, go somewhere else!\",...  \n",
       "125450                                           [[], []]  \n",
       "125452                                           [[], []]  \n",
       "125453                                           [[], []]  "
      ]
     },
     "execution_count": 110,
     "metadata": {},
     "output_type": "execute_result"
    }
   ],
   "source": [
    "restaurant_df.tail(20)"
   ]
  },
  {
   "cell_type": "code",
   "execution_count": 111,
   "metadata": {},
   "outputs": [
    {
     "data": {
      "text/plain": [
       "low       53169\n",
       "medium    18121\n",
       "NaN       11261\n",
       "high       4153\n",
       "Name: price_range, dtype: int64"
      ]
     },
     "execution_count": 111,
     "metadata": {},
     "output_type": "execute_result"
    }
   ],
   "source": [
    "#  to count value for each category occurence\n",
    "restaurant_df['price_range'].value_counts(dropna=False)"
   ]
  },
  {
   "cell_type": "code",
   "execution_count": 112,
   "metadata": {},
   "outputs": [
    {
     "data": {
      "text/plain": [
       "0    low\n",
       "dtype: object"
      ]
     },
     "execution_count": 112,
     "metadata": {},
     "output_type": "execute_result"
    }
   ],
   "source": [
    "restaurant_df['price_range'].mode()"
   ]
  },
  {
   "cell_type": "markdown",
   "metadata": {},
   "source": [
    "### 2.1 To deal missing value for price_range will Assigning An Unique Category\n"
   ]
  },
  {
   "cell_type": "markdown",
   "metadata": {},
   "source": [
    "- A categorical feature will have a definite number of possibilities, such as gender, for example. Since they have a definite number of classes, we can assign another class for the missing values. Here, the features **price_range** have missing values which can be replaced with a new category, say, U for ‘unknown’. This strategy will add more information into the dataset which will result in the change of variance. Since they are categorical, we need to find one hot encoding to convert it to a numeric form for the algorithm to understand it and this is my aprroach."
   ]
  },
  {
   "cell_type": "code",
   "execution_count": 113,
   "metadata": {},
   "outputs": [
    {
     "data": {
      "text/html": [
       "<div>\n",
       "<style scoped>\n",
       "    .dataframe tbody tr th:only-of-type {\n",
       "        vertical-align: middle;\n",
       "    }\n",
       "\n",
       "    .dataframe tbody tr th {\n",
       "        vertical-align: top;\n",
       "    }\n",
       "\n",
       "    .dataframe thead th {\n",
       "        text-align: right;\n",
       "    }\n",
       "</style>\n",
       "<table border=\"1\" class=\"dataframe\">\n",
       "  <thead>\n",
       "    <tr style=\"text-align: right;\">\n",
       "      <th></th>\n",
       "      <th>name</th>\n",
       "      <th>city</th>\n",
       "      <th>cuisines</th>\n",
       "      <th>ranking</th>\n",
       "      <th>rate</th>\n",
       "      <th>price_range</th>\n",
       "      <th>number_of_reviews</th>\n",
       "      <th>reviews</th>\n",
       "    </tr>\n",
       "  </thead>\n",
       "  <tbody>\n",
       "    <tr>\n",
       "      <th>125445</th>\n",
       "      <td>ristorante la taverna</td>\n",
       "      <td>zurich</td>\n",
       "      <td>italian,vegetarianfriendly</td>\n",
       "      <td>1591</td>\n",
       "      <td>4.5</td>\n",
       "      <td>low</td>\n",
       "      <td>16</td>\n",
       "      <td>[['Super local eatery', 'Small and charming pl...</td>\n",
       "    </tr>\n",
       "    <tr>\n",
       "      <th>125448</th>\n",
       "      <td>pizza blitz zurich</td>\n",
       "      <td>zurich</td>\n",
       "      <td>pizza</td>\n",
       "      <td>1594</td>\n",
       "      <td>2.0</td>\n",
       "      <td>NaN</td>\n",
       "      <td>5</td>\n",
       "      <td>[[\"Don't waste your time, go somewhere else!\",...</td>\n",
       "    </tr>\n",
       "    <tr>\n",
       "      <th>125450</th>\n",
       "      <td>not guilty bellevue</td>\n",
       "      <td>zurich</td>\n",
       "      <td>international,european,contemporary,healthy</td>\n",
       "      <td>1596</td>\n",
       "      <td>1.0</td>\n",
       "      <td>low</td>\n",
       "      <td>NaN</td>\n",
       "      <td>[[], []]</td>\n",
       "    </tr>\n",
       "    <tr>\n",
       "      <th>125452</th>\n",
       "      <td>restaurant gasthof hirschen</td>\n",
       "      <td>zurich</td>\n",
       "      <td>german,swiss,european,centraleuropean</td>\n",
       "      <td>1598</td>\n",
       "      <td>1.0</td>\n",
       "      <td>NaN</td>\n",
       "      <td>2</td>\n",
       "      <td>[[], []]</td>\n",
       "    </tr>\n",
       "    <tr>\n",
       "      <th>125453</th>\n",
       "      <td>hukka restaurant &amp; hookah lounge</td>\n",
       "      <td>zurich</td>\n",
       "      <td>german,belgian,mediterranean,european</td>\n",
       "      <td>1601</td>\n",
       "      <td>1.0</td>\n",
       "      <td>high</td>\n",
       "      <td>NaN</td>\n",
       "      <td>[[], []]</td>\n",
       "    </tr>\n",
       "  </tbody>\n",
       "</table>\n",
       "</div>"
      ],
      "text/plain": [
       "                                    name    city  \\\n",
       "125445             ristorante la taverna  zurich   \n",
       "125448                pizza blitz zurich  zurich   \n",
       "125450               not guilty bellevue  zurich   \n",
       "125452       restaurant gasthof hirschen  zurich   \n",
       "125453  hukka restaurant & hookah lounge  zurich   \n",
       "\n",
       "                                           cuisines  ranking  rate  \\\n",
       "125445                   italian,vegetarianfriendly     1591   4.5   \n",
       "125448                                        pizza     1594   2.0   \n",
       "125450  international,european,contemporary,healthy     1596   1.0   \n",
       "125452        german,swiss,european,centraleuropean     1598   1.0   \n",
       "125453        german,belgian,mediterranean,european     1601   1.0   \n",
       "\n",
       "       price_range  number_of_reviews  \\\n",
       "125445         low                 16   \n",
       "125448         NaN                  5   \n",
       "125450         low                NaN   \n",
       "125452         NaN                  2   \n",
       "125453        high                NaN   \n",
       "\n",
       "                                                  reviews  \n",
       "125445  [['Super local eatery', 'Small and charming pl...  \n",
       "125448  [[\"Don't waste your time, go somewhere else!\",...  \n",
       "125450                                           [[], []]  \n",
       "125452                                           [[], []]  \n",
       "125453                                           [[], []]  "
      ]
     },
     "execution_count": 113,
     "metadata": {},
     "output_type": "execute_result"
    }
   ],
   "source": [
    "restaurant_df.tail()"
   ]
  },
  {
   "cell_type": "code",
   "execution_count": 114,
   "metadata": {},
   "outputs": [],
   "source": [
    "restaurant_df['price_range'].fillna('U', inplace = True)"
   ]
  },
  {
   "cell_type": "code",
   "execution_count": 115,
   "metadata": {},
   "outputs": [
    {
     "data": {
      "text/html": [
       "<div>\n",
       "<style scoped>\n",
       "    .dataframe tbody tr th:only-of-type {\n",
       "        vertical-align: middle;\n",
       "    }\n",
       "\n",
       "    .dataframe tbody tr th {\n",
       "        vertical-align: top;\n",
       "    }\n",
       "\n",
       "    .dataframe thead th {\n",
       "        text-align: right;\n",
       "    }\n",
       "</style>\n",
       "<table border=\"1\" class=\"dataframe\">\n",
       "  <thead>\n",
       "    <tr style=\"text-align: right;\">\n",
       "      <th></th>\n",
       "      <th>name</th>\n",
       "      <th>city</th>\n",
       "      <th>cuisines</th>\n",
       "      <th>ranking</th>\n",
       "      <th>rate</th>\n",
       "      <th>price_range</th>\n",
       "      <th>number_of_reviews</th>\n",
       "      <th>reviews</th>\n",
       "    </tr>\n",
       "  </thead>\n",
       "  <tbody>\n",
       "    <tr>\n",
       "      <th>125445</th>\n",
       "      <td>ristorante la taverna</td>\n",
       "      <td>zurich</td>\n",
       "      <td>italian,vegetarianfriendly</td>\n",
       "      <td>1591</td>\n",
       "      <td>4.5</td>\n",
       "      <td>low</td>\n",
       "      <td>16</td>\n",
       "      <td>[['Super local eatery', 'Small and charming pl...</td>\n",
       "    </tr>\n",
       "    <tr>\n",
       "      <th>125448</th>\n",
       "      <td>pizza blitz zurich</td>\n",
       "      <td>zurich</td>\n",
       "      <td>pizza</td>\n",
       "      <td>1594</td>\n",
       "      <td>2.0</td>\n",
       "      <td>U</td>\n",
       "      <td>5</td>\n",
       "      <td>[[\"Don't waste your time, go somewhere else!\",...</td>\n",
       "    </tr>\n",
       "    <tr>\n",
       "      <th>125450</th>\n",
       "      <td>not guilty bellevue</td>\n",
       "      <td>zurich</td>\n",
       "      <td>international,european,contemporary,healthy</td>\n",
       "      <td>1596</td>\n",
       "      <td>1.0</td>\n",
       "      <td>low</td>\n",
       "      <td>NaN</td>\n",
       "      <td>[[], []]</td>\n",
       "    </tr>\n",
       "    <tr>\n",
       "      <th>125452</th>\n",
       "      <td>restaurant gasthof hirschen</td>\n",
       "      <td>zurich</td>\n",
       "      <td>german,swiss,european,centraleuropean</td>\n",
       "      <td>1598</td>\n",
       "      <td>1.0</td>\n",
       "      <td>U</td>\n",
       "      <td>2</td>\n",
       "      <td>[[], []]</td>\n",
       "    </tr>\n",
       "    <tr>\n",
       "      <th>125453</th>\n",
       "      <td>hukka restaurant &amp; hookah lounge</td>\n",
       "      <td>zurich</td>\n",
       "      <td>german,belgian,mediterranean,european</td>\n",
       "      <td>1601</td>\n",
       "      <td>1.0</td>\n",
       "      <td>high</td>\n",
       "      <td>NaN</td>\n",
       "      <td>[[], []]</td>\n",
       "    </tr>\n",
       "  </tbody>\n",
       "</table>\n",
       "</div>"
      ],
      "text/plain": [
       "                                    name    city  \\\n",
       "125445             ristorante la taverna  zurich   \n",
       "125448                pizza blitz zurich  zurich   \n",
       "125450               not guilty bellevue  zurich   \n",
       "125452       restaurant gasthof hirschen  zurich   \n",
       "125453  hukka restaurant & hookah lounge  zurich   \n",
       "\n",
       "                                           cuisines  ranking  rate  \\\n",
       "125445                   italian,vegetarianfriendly     1591   4.5   \n",
       "125448                                        pizza     1594   2.0   \n",
       "125450  international,european,contemporary,healthy     1596   1.0   \n",
       "125452        german,swiss,european,centraleuropean     1598   1.0   \n",
       "125453        german,belgian,mediterranean,european     1601   1.0   \n",
       "\n",
       "       price_range  number_of_reviews  \\\n",
       "125445         low                 16   \n",
       "125448           U                  5   \n",
       "125450         low                NaN   \n",
       "125452           U                  2   \n",
       "125453        high                NaN   \n",
       "\n",
       "                                                  reviews  \n",
       "125445  [['Super local eatery', 'Small and charming pl...  \n",
       "125448  [[\"Don't waste your time, go somewhere else!\",...  \n",
       "125450                                           [[], []]  \n",
       "125452                                           [[], []]  \n",
       "125453                                           [[], []]  "
      ]
     },
     "execution_count": 115,
     "metadata": {},
     "output_type": "execute_result"
    }
   ],
   "source": [
    "restaurant_df.tail()"
   ]
  },
  {
   "cell_type": "markdown",
   "metadata": {},
   "source": [
    "#### Pros and Cons for assigning unique category.\n",
    "**Pros:**<br>\n",
    " - Less possibilities with one extra category, resulting in low variance after one hot encoding — since it is categorical.\n",
    " - Negates the loss of data by adding an unique category.\n",
    "<br>\n",
    "\n",
    "**Cons:**<br>\n",
    "- Adds less variance\n",
    "- Adds another feature to the model while encoding, which may result in poor performance"
   ]
  },
  {
   "cell_type": "code",
   "execution_count": 116,
   "metadata": {},
   "outputs": [
    {
     "data": {
      "text/plain": [
       "low       53169\n",
       "medium    18121\n",
       "U         11261\n",
       "high       4153\n",
       "Name: price_range, dtype: int64"
      ]
     },
     "execution_count": 116,
     "metadata": {},
     "output_type": "execute_result"
    }
   ],
   "source": [
    "#  to count value for each category occurence\n",
    "restaurant_df['price_range'].value_counts(dropna=False)"
   ]
  },
  {
   "cell_type": "code",
   "execution_count": null,
   "metadata": {},
   "outputs": [],
   "source": []
  },
  {
   "cell_type": "code",
   "execution_count": 97,
   "metadata": {},
   "outputs": [
    {
     "data": {
      "text/plain": [
       "name                    0\n",
       "city                    0\n",
       "cuisines                0\n",
       "ranking                14\n",
       "rate                    0\n",
       "price_range             0\n",
       "number_of_reviews    1204\n",
       "reviews                 0\n",
       "dtype: int64"
      ]
     },
     "execution_count": 97,
     "metadata": {},
     "output_type": "execute_result"
    }
   ],
   "source": [
    "restaurant_df.isna().sum()"
   ]
  },
  {
   "cell_type": "code",
   "execution_count": 98,
   "metadata": {},
   "outputs": [
    {
     "name": "stdout",
     "output_type": "stream",
     "text": [
      "<class 'pandas.core.frame.DataFrame'>\n",
      "Int64Index: 86704 entries, 0 to 125453\n",
      "Data columns (total 8 columns):\n",
      "name                 86704 non-null object\n",
      "city                 86704 non-null object\n",
      "cuisines             86704 non-null object\n",
      "ranking              86690 non-null Int64\n",
      "rate                 86704 non-null float64\n",
      "price_range          86704 non-null object\n",
      "number_of_reviews    85500 non-null Int64\n",
      "reviews              86704 non-null object\n",
      "dtypes: Int64(2), float64(1), object(5)\n",
      "memory usage: 6.1+ MB\n"
     ]
    }
   ],
   "source": [
    "restaurant_df.info()"
   ]
  },
  {
   "cell_type": "code",
   "execution_count": null,
   "metadata": {},
   "outputs": [],
   "source": []
  },
  {
   "cell_type": "markdown",
   "metadata": {},
   "source": [
    "#### 3. reviews"
   ]
  },
  {
   "cell_type": "code",
   "execution_count": 117,
   "metadata": {},
   "outputs": [],
   "source": [
    "# restaurant_df = data_2.copy()"
   ]
  },
  {
   "cell_type": "code",
   "execution_count": 118,
   "metadata": {},
   "outputs": [],
   "source": [
    "restaurant_df['new_reviews'] = restaurant_df.reviews.str[1:-1].str.split(',').tolist()"
   ]
  },
  {
   "cell_type": "code",
   "execution_count": 119,
   "metadata": {},
   "outputs": [
    {
     "data": {
      "text/plain": [
       "[\"['Great food and staff'\",\n",
       " \" 'just perfect']\",\n",
       " \" ['01/06/2018'\",\n",
       " \" '01/04/2018']\"]"
      ]
     },
     "execution_count": 119,
     "metadata": {},
     "output_type": "execute_result"
    }
   ],
   "source": [
    "restaurant_df['new_reviews'][1]"
   ]
  },
  {
   "cell_type": "code",
   "execution_count": 120,
   "metadata": {},
   "outputs": [],
   "source": [
    "# restaurant_df['res']\n",
    "restaurant_df[\"new_reviews\"] = restaurant_df[\"new_reviews\"].str[0:2]"
   ]
  },
  {
   "cell_type": "code",
   "execution_count": 121,
   "metadata": {},
   "outputs": [
    {
     "data": {
      "text/plain": [
       "[\"['Great food and staff'\", \" 'just perfect']\"]"
      ]
     },
     "execution_count": 121,
     "metadata": {},
     "output_type": "execute_result"
    }
   ],
   "source": [
    "restaurant_df['new_reviews'][1]"
   ]
  },
  {
   "cell_type": "code",
   "execution_count": 122,
   "metadata": {},
   "outputs": [],
   "source": [
    "restaurant_df[\"new_reviews\"] =restaurant_df['new_reviews'].astype(str).str.replace('\\[|\\]|\\'', '')"
   ]
  },
  {
   "cell_type": "code",
   "execution_count": 123,
   "metadata": {},
   "outputs": [
    {
     "data": {
      "text/plain": [
       "'\"Great food and staff\", \" just perfect\"'"
      ]
     },
     "execution_count": 123,
     "metadata": {},
     "output_type": "execute_result"
    }
   ],
   "source": [
    "restaurant_df['new_reviews'][1]"
   ]
  },
  {
   "cell_type": "code",
   "execution_count": 124,
   "metadata": {},
   "outputs": [],
   "source": [
    "REPLACE_BY_SPACE_RE = re.compile('[/(){}\\[\\]\\|@,;]')\n",
    "BAD_SYMBOLS_RE = re.compile('[^0-9a-z #+_]')\n",
    "STOPWORDS = list((stopwords.words('english')))\n",
    "def text_prepare(text,join_sumbol):\n",
    "    \"\"\"\n",
    "        text: a string\n",
    "        \n",
    "        return: modified initial string\n",
    "    \"\"\"\n",
    "    \n",
    "    # lowercase text\n",
    "    text = text.lower()\n",
    "    # replace REPLACE_BY_SPACE_RE symbols by space in text\n",
    "    text = re.sub(REPLACE_BY_SPACE_RE,\" \",text,)\n",
    "    text = re.sub('[0-9]',\" \",text,)\n",
    "    # delete symbols which are in BAD_SYMBOLS_RE from text\n",
    "    text = re.sub(BAD_SYMBOLS_RE,\" \",text)\n",
    "    text = re.sub(r'\\s+',\" \",text)\n",
    "    # delete stopwords from text\n",
    "    text = f'{join_sumbol}'.join([i for i in text.split() if i not in STOPWORDS])\n",
    "    \n",
    "    return text"
   ]
  },
  {
   "cell_type": "code",
   "execution_count": 125,
   "metadata": {},
   "outputs": [],
   "source": [
    "restaurant_df[\"new_reviews\"] = restaurant_df[\"new_reviews\"].apply(lambda x : text_prepare(x, \" \"))"
   ]
  },
  {
   "cell_type": "code",
   "execution_count": 126,
   "metadata": {},
   "outputs": [
    {
     "data": {
      "text/plain": [
       "'great food staff perfect'"
      ]
     },
     "execution_count": 126,
     "metadata": {},
     "output_type": "execute_result"
    }
   ],
   "source": [
    "restaurant_df[\"new_reviews\"][1]"
   ]
  },
  {
   "cell_type": "code",
   "execution_count": 127,
   "metadata": {},
   "outputs": [
    {
     "data": {
      "text/html": [
       "<div>\n",
       "<style scoped>\n",
       "    .dataframe tbody tr th:only-of-type {\n",
       "        vertical-align: middle;\n",
       "    }\n",
       "\n",
       "    .dataframe tbody tr th {\n",
       "        vertical-align: top;\n",
       "    }\n",
       "\n",
       "    .dataframe thead th {\n",
       "        text-align: right;\n",
       "    }\n",
       "</style>\n",
       "<table border=\"1\" class=\"dataframe\">\n",
       "  <thead>\n",
       "    <tr style=\"text-align: right;\">\n",
       "      <th></th>\n",
       "      <th>name</th>\n",
       "      <th>city</th>\n",
       "      <th>cuisines</th>\n",
       "      <th>ranking</th>\n",
       "      <th>rate</th>\n",
       "      <th>price_range</th>\n",
       "      <th>number_of_reviews</th>\n",
       "      <th>reviews</th>\n",
       "      <th>new_reviews</th>\n",
       "    </tr>\n",
       "  </thead>\n",
       "  <tbody>\n",
       "    <tr>\n",
       "      <th>125445</th>\n",
       "      <td>ristorante la taverna</td>\n",
       "      <td>zurich</td>\n",
       "      <td>italian,vegetarianfriendly</td>\n",
       "      <td>1591</td>\n",
       "      <td>4.5</td>\n",
       "      <td>low</td>\n",
       "      <td>16</td>\n",
       "      <td>[['Super local eatery', 'Small and charming pl...</td>\n",
       "      <td>super local eatery small charming place</td>\n",
       "    </tr>\n",
       "    <tr>\n",
       "      <th>125448</th>\n",
       "      <td>pizza blitz zurich</td>\n",
       "      <td>zurich</td>\n",
       "      <td>pizza</td>\n",
       "      <td>1594</td>\n",
       "      <td>2.0</td>\n",
       "      <td>U</td>\n",
       "      <td>5</td>\n",
       "      <td>[[\"Don't waste your time, go somewhere else!\",...</td>\n",
       "      <td>waste time go somewhere else</td>\n",
       "    </tr>\n",
       "    <tr>\n",
       "      <th>125450</th>\n",
       "      <td>not guilty bellevue</td>\n",
       "      <td>zurich</td>\n",
       "      <td>international,european,contemporary,healthy</td>\n",
       "      <td>1596</td>\n",
       "      <td>1.0</td>\n",
       "      <td>low</td>\n",
       "      <td>NaN</td>\n",
       "      <td>[[], []]</td>\n",
       "      <td></td>\n",
       "    </tr>\n",
       "    <tr>\n",
       "      <th>125452</th>\n",
       "      <td>restaurant gasthof hirschen</td>\n",
       "      <td>zurich</td>\n",
       "      <td>german,swiss,european,centraleuropean</td>\n",
       "      <td>1598</td>\n",
       "      <td>1.0</td>\n",
       "      <td>U</td>\n",
       "      <td>2</td>\n",
       "      <td>[[], []]</td>\n",
       "      <td></td>\n",
       "    </tr>\n",
       "    <tr>\n",
       "      <th>125453</th>\n",
       "      <td>hukka restaurant &amp; hookah lounge</td>\n",
       "      <td>zurich</td>\n",
       "      <td>german,belgian,mediterranean,european</td>\n",
       "      <td>1601</td>\n",
       "      <td>1.0</td>\n",
       "      <td>high</td>\n",
       "      <td>NaN</td>\n",
       "      <td>[[], []]</td>\n",
       "      <td></td>\n",
       "    </tr>\n",
       "  </tbody>\n",
       "</table>\n",
       "</div>"
      ],
      "text/plain": [
       "                                    name    city  \\\n",
       "125445             ristorante la taverna  zurich   \n",
       "125448                pizza blitz zurich  zurich   \n",
       "125450               not guilty bellevue  zurich   \n",
       "125452       restaurant gasthof hirschen  zurich   \n",
       "125453  hukka restaurant & hookah lounge  zurich   \n",
       "\n",
       "                                           cuisines  ranking  rate  \\\n",
       "125445                   italian,vegetarianfriendly     1591   4.5   \n",
       "125448                                        pizza     1594   2.0   \n",
       "125450  international,european,contemporary,healthy     1596   1.0   \n",
       "125452        german,swiss,european,centraleuropean     1598   1.0   \n",
       "125453        german,belgian,mediterranean,european     1601   1.0   \n",
       "\n",
       "       price_range  number_of_reviews  \\\n",
       "125445         low                 16   \n",
       "125448           U                  5   \n",
       "125450         low                NaN   \n",
       "125452           U                  2   \n",
       "125453        high                NaN   \n",
       "\n",
       "                                                  reviews  \\\n",
       "125445  [['Super local eatery', 'Small and charming pl...   \n",
       "125448  [[\"Don't waste your time, go somewhere else!\",...   \n",
       "125450                                           [[], []]   \n",
       "125452                                           [[], []]   \n",
       "125453                                           [[], []]   \n",
       "\n",
       "                                    new_reviews  \n",
       "125445  super local eatery small charming place  \n",
       "125448             waste time go somewhere else  \n",
       "125450                                           \n",
       "125452                                           \n",
       "125453                                           "
      ]
     },
     "execution_count": 127,
     "metadata": {},
     "output_type": "execute_result"
    }
   ],
   "source": [
    "restaurant_df.tail()"
   ]
  },
  {
   "cell_type": "code",
   "execution_count": 128,
   "metadata": {},
   "outputs": [
    {
     "data": {
      "text/plain": [
       "name                    0\n",
       "city                    0\n",
       "cuisines                0\n",
       "ranking                14\n",
       "rate                    0\n",
       "price_range             0\n",
       "number_of_reviews    1204\n",
       "reviews                 0\n",
       "new_reviews             0\n",
       "dtype: int64"
      ]
     },
     "execution_count": 128,
     "metadata": {},
     "output_type": "execute_result"
    }
   ],
   "source": [
    "restaurant_df.isna().sum()"
   ]
  },
  {
   "cell_type": "code",
   "execution_count": 129,
   "metadata": {},
   "outputs": [
    {
     "data": {
      "text/plain": [
       "''"
      ]
     },
     "execution_count": 129,
     "metadata": {},
     "output_type": "execute_result"
    }
   ],
   "source": [
    "restaurant_df.new_reviews[125452]"
   ]
  },
  {
   "cell_type": "code",
   "execution_count": 130,
   "metadata": {},
   "outputs": [],
   "source": [
    "# # to replace each empty string in a pandas DataFrame with NaN \n",
    "# restaurant_df.new_reviews = restaurant_df.new_reviews.replace(r'^\\s*$', np.NaN, regex=True)"
   ]
  },
  {
   "cell_type": "code",
   "execution_count": 131,
   "metadata": {},
   "outputs": [
    {
     "data": {
      "text/html": [
       "<div>\n",
       "<style scoped>\n",
       "    .dataframe tbody tr th:only-of-type {\n",
       "        vertical-align: middle;\n",
       "    }\n",
       "\n",
       "    .dataframe tbody tr th {\n",
       "        vertical-align: top;\n",
       "    }\n",
       "\n",
       "    .dataframe thead th {\n",
       "        text-align: right;\n",
       "    }\n",
       "</style>\n",
       "<table border=\"1\" class=\"dataframe\">\n",
       "  <thead>\n",
       "    <tr style=\"text-align: right;\">\n",
       "      <th></th>\n",
       "      <th>name</th>\n",
       "      <th>city</th>\n",
       "      <th>cuisines</th>\n",
       "      <th>ranking</th>\n",
       "      <th>rate</th>\n",
       "      <th>price_range</th>\n",
       "      <th>number_of_reviews</th>\n",
       "      <th>reviews</th>\n",
       "      <th>new_reviews</th>\n",
       "    </tr>\n",
       "  </thead>\n",
       "  <tbody>\n",
       "    <tr>\n",
       "      <th>125438</th>\n",
       "      <td>jade</td>\n",
       "      <td>zurich</td>\n",
       "      <td>chinese,swiss,mediterranean,european</td>\n",
       "      <td>1584</td>\n",
       "      <td>3.0</td>\n",
       "      <td>high</td>\n",
       "      <td>21</td>\n",
       "      <td>[['Horrible!', 'It was really horrible, I woul...</td>\n",
       "      <td>horrible really horrible</td>\n",
       "    </tr>\n",
       "    <tr>\n",
       "      <th>125440</th>\n",
       "      <td>pizza-blitz zurich-oerlikon</td>\n",
       "      <td>zurich</td>\n",
       "      <td>italian,pizza</td>\n",
       "      <td>1586</td>\n",
       "      <td>2.5</td>\n",
       "      <td>U</td>\n",
       "      <td>16</td>\n",
       "      <td>[['Good service', '38 USD for a pizza!! HORRIB...</td>\n",
       "      <td>good service usd pizza horrible pricing</td>\n",
       "    </tr>\n",
       "    <tr>\n",
       "      <th>125441</th>\n",
       "      <td>restaurant wehrlischloss</td>\n",
       "      <td>zurich</td>\n",
       "      <td>steakhouse,swiss,european</td>\n",
       "      <td>1587</td>\n",
       "      <td>2.0</td>\n",
       "      <td>U</td>\n",
       "      <td>8</td>\n",
       "      <td>[['Very basic'], ['05/11/2016']]</td>\n",
       "      <td>basic</td>\n",
       "    </tr>\n",
       "    <tr>\n",
       "      <th>125443</th>\n",
       "      <td>swiss food delivery</td>\n",
       "      <td>zurich</td>\n",
       "      <td>italian,chinese,american,indian,thai</td>\n",
       "      <td>1589</td>\n",
       "      <td>2.5</td>\n",
       "      <td>U</td>\n",
       "      <td>3</td>\n",
       "      <td>[['Good Service'], ['12/15/2015']]</td>\n",
       "      <td>good service</td>\n",
       "    </tr>\n",
       "    <tr>\n",
       "      <th>125444</th>\n",
       "      <td>restaurant moringa teff</td>\n",
       "      <td>zurich</td>\n",
       "      <td>italian,african,ethiopian</td>\n",
       "      <td>1590</td>\n",
       "      <td>5.0</td>\n",
       "      <td>low</td>\n",
       "      <td>NaN</td>\n",
       "      <td>[[], []]</td>\n",
       "      <td></td>\n",
       "    </tr>\n",
       "    <tr>\n",
       "      <th>125445</th>\n",
       "      <td>ristorante la taverna</td>\n",
       "      <td>zurich</td>\n",
       "      <td>italian,vegetarianfriendly</td>\n",
       "      <td>1591</td>\n",
       "      <td>4.5</td>\n",
       "      <td>low</td>\n",
       "      <td>16</td>\n",
       "      <td>[['Super local eatery', 'Small and charming pl...</td>\n",
       "      <td>super local eatery small charming place</td>\n",
       "    </tr>\n",
       "    <tr>\n",
       "      <th>125448</th>\n",
       "      <td>pizza blitz zurich</td>\n",
       "      <td>zurich</td>\n",
       "      <td>pizza</td>\n",
       "      <td>1594</td>\n",
       "      <td>2.0</td>\n",
       "      <td>U</td>\n",
       "      <td>5</td>\n",
       "      <td>[[\"Don't waste your time, go somewhere else!\",...</td>\n",
       "      <td>waste time go somewhere else</td>\n",
       "    </tr>\n",
       "    <tr>\n",
       "      <th>125450</th>\n",
       "      <td>not guilty bellevue</td>\n",
       "      <td>zurich</td>\n",
       "      <td>international,european,contemporary,healthy</td>\n",
       "      <td>1596</td>\n",
       "      <td>1.0</td>\n",
       "      <td>low</td>\n",
       "      <td>NaN</td>\n",
       "      <td>[[], []]</td>\n",
       "      <td></td>\n",
       "    </tr>\n",
       "    <tr>\n",
       "      <th>125452</th>\n",
       "      <td>restaurant gasthof hirschen</td>\n",
       "      <td>zurich</td>\n",
       "      <td>german,swiss,european,centraleuropean</td>\n",
       "      <td>1598</td>\n",
       "      <td>1.0</td>\n",
       "      <td>U</td>\n",
       "      <td>2</td>\n",
       "      <td>[[], []]</td>\n",
       "      <td></td>\n",
       "    </tr>\n",
       "    <tr>\n",
       "      <th>125453</th>\n",
       "      <td>hukka restaurant &amp; hookah lounge</td>\n",
       "      <td>zurich</td>\n",
       "      <td>german,belgian,mediterranean,european</td>\n",
       "      <td>1601</td>\n",
       "      <td>1.0</td>\n",
       "      <td>high</td>\n",
       "      <td>NaN</td>\n",
       "      <td>[[], []]</td>\n",
       "      <td></td>\n",
       "    </tr>\n",
       "  </tbody>\n",
       "</table>\n",
       "</div>"
      ],
      "text/plain": [
       "                                    name    city  \\\n",
       "125438                              jade  zurich   \n",
       "125440       pizza-blitz zurich-oerlikon  zurich   \n",
       "125441          restaurant wehrlischloss  zurich   \n",
       "125443               swiss food delivery  zurich   \n",
       "125444           restaurant moringa teff  zurich   \n",
       "125445             ristorante la taverna  zurich   \n",
       "125448                pizza blitz zurich  zurich   \n",
       "125450               not guilty bellevue  zurich   \n",
       "125452       restaurant gasthof hirschen  zurich   \n",
       "125453  hukka restaurant & hookah lounge  zurich   \n",
       "\n",
       "                                           cuisines  ranking  rate  \\\n",
       "125438         chinese,swiss,mediterranean,european     1584   3.0   \n",
       "125440                                italian,pizza     1586   2.5   \n",
       "125441                    steakhouse,swiss,european     1587   2.0   \n",
       "125443         italian,chinese,american,indian,thai     1589   2.5   \n",
       "125444                    italian,african,ethiopian     1590   5.0   \n",
       "125445                   italian,vegetarianfriendly     1591   4.5   \n",
       "125448                                        pizza     1594   2.0   \n",
       "125450  international,european,contemporary,healthy     1596   1.0   \n",
       "125452        german,swiss,european,centraleuropean     1598   1.0   \n",
       "125453        german,belgian,mediterranean,european     1601   1.0   \n",
       "\n",
       "       price_range  number_of_reviews  \\\n",
       "125438        high                 21   \n",
       "125440           U                 16   \n",
       "125441           U                  8   \n",
       "125443           U                  3   \n",
       "125444         low                NaN   \n",
       "125445         low                 16   \n",
       "125448           U                  5   \n",
       "125450         low                NaN   \n",
       "125452           U                  2   \n",
       "125453        high                NaN   \n",
       "\n",
       "                                                  reviews  \\\n",
       "125438  [['Horrible!', 'It was really horrible, I woul...   \n",
       "125440  [['Good service', '38 USD for a pizza!! HORRIB...   \n",
       "125441                   [['Very basic'], ['05/11/2016']]   \n",
       "125443                 [['Good Service'], ['12/15/2015']]   \n",
       "125444                                           [[], []]   \n",
       "125445  [['Super local eatery', 'Small and charming pl...   \n",
       "125448  [[\"Don't waste your time, go somewhere else!\",...   \n",
       "125450                                           [[], []]   \n",
       "125452                                           [[], []]   \n",
       "125453                                           [[], []]   \n",
       "\n",
       "                                    new_reviews  \n",
       "125438                 horrible really horrible  \n",
       "125440  good service usd pizza horrible pricing  \n",
       "125441                                    basic  \n",
       "125443                             good service  \n",
       "125444                                           \n",
       "125445  super local eatery small charming place  \n",
       "125448             waste time go somewhere else  \n",
       "125450                                           \n",
       "125452                                           \n",
       "125453                                           "
      ]
     },
     "execution_count": 131,
     "metadata": {},
     "output_type": "execute_result"
    }
   ],
   "source": [
    "restaurant_df.tail(10)"
   ]
  },
  {
   "cell_type": "code",
   "execution_count": 132,
   "metadata": {},
   "outputs": [],
   "source": [
    "# drop unnecessary column reviews\n",
    "restaurant_df.drop(columns=[\"reviews\"], inplace  =True)"
   ]
  },
  {
   "cell_type": "code",
   "execution_count": 133,
   "metadata": {},
   "outputs": [
    {
     "data": {
      "text/plain": [
       "name                    0\n",
       "city                    0\n",
       "cuisines                0\n",
       "ranking                14\n",
       "rate                    0\n",
       "price_range             0\n",
       "number_of_reviews    1204\n",
       "new_reviews             0\n",
       "dtype: int64"
      ]
     },
     "execution_count": 133,
     "metadata": {},
     "output_type": "execute_result"
    }
   ],
   "source": [
    "restaurant_df.isna().sum()"
   ]
  },
  {
   "cell_type": "code",
   "execution_count": 134,
   "metadata": {},
   "outputs": [
    {
     "data": {
      "text/plain": [
       "(86704, 8)"
      ]
     },
     "execution_count": 134,
     "metadata": {},
     "output_type": "execute_result"
    }
   ],
   "source": [
    "restaurant_df.shape"
   ]
  },
  {
   "cell_type": "code",
   "execution_count": 135,
   "metadata": {},
   "outputs": [
    {
     "data": {
      "text/html": [
       "<div>\n",
       "<style scoped>\n",
       "    .dataframe tbody tr th:only-of-type {\n",
       "        vertical-align: middle;\n",
       "    }\n",
       "\n",
       "    .dataframe tbody tr th {\n",
       "        vertical-align: top;\n",
       "    }\n",
       "\n",
       "    .dataframe thead th {\n",
       "        text-align: right;\n",
       "    }\n",
       "</style>\n",
       "<table border=\"1\" class=\"dataframe\">\n",
       "  <thead>\n",
       "    <tr style=\"text-align: right;\">\n",
       "      <th></th>\n",
       "      <th>name</th>\n",
       "      <th>city</th>\n",
       "      <th>cuisines</th>\n",
       "      <th>ranking</th>\n",
       "      <th>rate</th>\n",
       "      <th>price_range</th>\n",
       "      <th>number_of_reviews</th>\n",
       "      <th>new_reviews</th>\n",
       "    </tr>\n",
       "  </thead>\n",
       "  <tbody>\n",
       "    <tr>\n",
       "      <th>125445</th>\n",
       "      <td>ristorante la taverna</td>\n",
       "      <td>zurich</td>\n",
       "      <td>italian,vegetarianfriendly</td>\n",
       "      <td>1591</td>\n",
       "      <td>4.5</td>\n",
       "      <td>low</td>\n",
       "      <td>16</td>\n",
       "      <td>super local eatery small charming place</td>\n",
       "    </tr>\n",
       "    <tr>\n",
       "      <th>125448</th>\n",
       "      <td>pizza blitz zurich</td>\n",
       "      <td>zurich</td>\n",
       "      <td>pizza</td>\n",
       "      <td>1594</td>\n",
       "      <td>2.0</td>\n",
       "      <td>U</td>\n",
       "      <td>5</td>\n",
       "      <td>waste time go somewhere else</td>\n",
       "    </tr>\n",
       "    <tr>\n",
       "      <th>125450</th>\n",
       "      <td>not guilty bellevue</td>\n",
       "      <td>zurich</td>\n",
       "      <td>international,european,contemporary,healthy</td>\n",
       "      <td>1596</td>\n",
       "      <td>1.0</td>\n",
       "      <td>low</td>\n",
       "      <td>NaN</td>\n",
       "      <td></td>\n",
       "    </tr>\n",
       "    <tr>\n",
       "      <th>125452</th>\n",
       "      <td>restaurant gasthof hirschen</td>\n",
       "      <td>zurich</td>\n",
       "      <td>german,swiss,european,centraleuropean</td>\n",
       "      <td>1598</td>\n",
       "      <td>1.0</td>\n",
       "      <td>U</td>\n",
       "      <td>2</td>\n",
       "      <td></td>\n",
       "    </tr>\n",
       "    <tr>\n",
       "      <th>125453</th>\n",
       "      <td>hukka restaurant &amp; hookah lounge</td>\n",
       "      <td>zurich</td>\n",
       "      <td>german,belgian,mediterranean,european</td>\n",
       "      <td>1601</td>\n",
       "      <td>1.0</td>\n",
       "      <td>high</td>\n",
       "      <td>NaN</td>\n",
       "      <td></td>\n",
       "    </tr>\n",
       "  </tbody>\n",
       "</table>\n",
       "</div>"
      ],
      "text/plain": [
       "                                    name    city  \\\n",
       "125445             ristorante la taverna  zurich   \n",
       "125448                pizza blitz zurich  zurich   \n",
       "125450               not guilty bellevue  zurich   \n",
       "125452       restaurant gasthof hirschen  zurich   \n",
       "125453  hukka restaurant & hookah lounge  zurich   \n",
       "\n",
       "                                           cuisines  ranking  rate  \\\n",
       "125445                   italian,vegetarianfriendly     1591   4.5   \n",
       "125448                                        pizza     1594   2.0   \n",
       "125450  international,european,contemporary,healthy     1596   1.0   \n",
       "125452        german,swiss,european,centraleuropean     1598   1.0   \n",
       "125453        german,belgian,mediterranean,european     1601   1.0   \n",
       "\n",
       "       price_range  number_of_reviews                              new_reviews  \n",
       "125445         low                 16  super local eatery small charming place  \n",
       "125448           U                  5             waste time go somewhere else  \n",
       "125450         low                NaN                                           \n",
       "125452           U                  2                                           \n",
       "125453        high                NaN                                           "
      ]
     },
     "execution_count": 135,
     "metadata": {},
     "output_type": "execute_result"
    }
   ],
   "source": [
    "restaurant_df.tail()"
   ]
  },
  {
   "cell_type": "code",
   "execution_count": 137,
   "metadata": {},
   "outputs": [
    {
     "data": {
      "text/plain": [
       "75869"
      ]
     },
     "execution_count": 137,
     "metadata": {},
     "output_type": "execute_result"
    }
   ],
   "source": [
    "restaurant_df.new_reviews.nunique()"
   ]
  },
  {
   "cell_type": "markdown",
   "metadata": {},
   "source": [
    "# 3.7 Encode the input Variables"
   ]
  },
  {
   "cell_type": "code",
   "execution_count": 136,
   "metadata": {},
   "outputs": [
    {
     "data": {
      "text/html": [
       "<div>\n",
       "<style scoped>\n",
       "    .dataframe tbody tr th:only-of-type {\n",
       "        vertical-align: middle;\n",
       "    }\n",
       "\n",
       "    .dataframe tbody tr th {\n",
       "        vertical-align: top;\n",
       "    }\n",
       "\n",
       "    .dataframe thead th {\n",
       "        text-align: right;\n",
       "    }\n",
       "</style>\n",
       "<table border=\"1\" class=\"dataframe\">\n",
       "  <thead>\n",
       "    <tr style=\"text-align: right;\">\n",
       "      <th></th>\n",
       "      <th>name</th>\n",
       "      <th>city</th>\n",
       "      <th>cuisines</th>\n",
       "      <th>ranking</th>\n",
       "      <th>rate</th>\n",
       "      <th>price_range</th>\n",
       "      <th>number_of_reviews</th>\n",
       "      <th>new_reviews</th>\n",
       "    </tr>\n",
       "  </thead>\n",
       "  <tbody>\n",
       "    <tr>\n",
       "      <th>0</th>\n",
       "      <td>0</td>\n",
       "      <td>0</td>\n",
       "      <td>0</td>\n",
       "      <td>1</td>\n",
       "      <td>5.0</td>\n",
       "      <td>0</td>\n",
       "      <td>136</td>\n",
       "      <td>0</td>\n",
       "    </tr>\n",
       "    <tr>\n",
       "      <th>1</th>\n",
       "      <td>1</td>\n",
       "      <td>0</td>\n",
       "      <td>1</td>\n",
       "      <td>2</td>\n",
       "      <td>4.5</td>\n",
       "      <td>1</td>\n",
       "      <td>812</td>\n",
       "      <td>1</td>\n",
       "    </tr>\n",
       "    <tr>\n",
       "      <th>2</th>\n",
       "      <td>2</td>\n",
       "      <td>0</td>\n",
       "      <td>2</td>\n",
       "      <td>3</td>\n",
       "      <td>4.5</td>\n",
       "      <td>1</td>\n",
       "      <td>567</td>\n",
       "      <td>2</td>\n",
       "    </tr>\n",
       "    <tr>\n",
       "      <th>3</th>\n",
       "      <td>3</td>\n",
       "      <td>0</td>\n",
       "      <td>3</td>\n",
       "      <td>4</td>\n",
       "      <td>5.0</td>\n",
       "      <td>1</td>\n",
       "      <td>564</td>\n",
       "      <td>3</td>\n",
       "    </tr>\n",
       "    <tr>\n",
       "      <th>4</th>\n",
       "      <td>4</td>\n",
       "      <td>0</td>\n",
       "      <td>4</td>\n",
       "      <td>5</td>\n",
       "      <td>4.5</td>\n",
       "      <td>1</td>\n",
       "      <td>316</td>\n",
       "      <td>4</td>\n",
       "    </tr>\n",
       "  </tbody>\n",
       "</table>\n",
       "</div>"
      ],
      "text/plain": [
       "   name  city  cuisines  ranking  rate  price_range  number_of_reviews  \\\n",
       "0     0     0         0        1   5.0            0                136   \n",
       "1     1     0         1        2   4.5            1                812   \n",
       "2     2     0         2        3   4.5            1                567   \n",
       "3     3     0         3        4   5.0            1                564   \n",
       "4     4     0         4        5   4.5            1                316   \n",
       "\n",
       "   new_reviews  \n",
       "0            0  \n",
       "1            1  \n",
       "2            2  \n",
       "3            3  \n",
       "4            4  "
      ]
     },
     "execution_count": 136,
     "metadata": {},
     "output_type": "execute_result"
    }
   ],
   "source": [
    "\n",
    "def Encode(df):\n",
    "    for column in df.columns[~df.columns.isin(['ranking', 'rate', 'number_of_reviews'])]:\n",
    "        df[column] = df[column].factorize()[0]\n",
    "    return df\n",
    "\n",
    "restaurant_df_en = Encode(restaurant_df.copy())\n",
    "restaurant_df_en.head() # looking at the dataset after transformation"
   ]
  },
  {
   "cell_type": "markdown",
   "metadata": {},
   "source": [
    "## 3.7.1 Get Correlation between different variables"
   ]
  },
  {
   "cell_type": "code",
   "execution_count": 138,
   "metadata": {},
   "outputs": [
    {
     "data": {
      "text/plain": [
       "Index(['name', 'city', 'cuisines', 'ranking', 'rate', 'price_range',\n",
       "       'number_of_reviews', 'new_reviews'],\n",
       "      dtype='object')"
      ]
     },
     "execution_count": 138,
     "metadata": {},
     "output_type": "execute_result"
    },
    {
     "data": {
      "image/png": "[encoded data removed]",
      "text/plain": [
       "<Figure size 1080x576 with 2 Axes>"
      ]
     },
     "metadata": {
      "needs_background": "light"
     },
     "output_type": "display_data"
    }
   ],
   "source": [
    "\n",
    "corr = restaurant_df_en.corr(method='kendall')\n",
    "# plt.figure(figsize=(15,8))\n",
    "sns.heatmap(corr, annot=True)\n",
    "restaurant_df_en.columns"
   ]
  },
  {
   "cell_type": "markdown",
   "metadata": {},
   "source": [
    "#### The highest correlation is between name and new_reviews which is 0.73 which is not of very much concern "
   ]
  },
  {
   "cell_type": "markdown",
   "metadata": {},
   "source": [
    "# 4 Regression Analysis"
   ]
  },
  {
   "cell_type": "markdown",
   "metadata": {},
   "source": [
    "<a id='impfea'></a>\n",
    "## 4.1 imputing and Feature Scaling"
   ]
  },
  {
   "cell_type": "code",
   "execution_count": 255,
   "metadata": {},
   "outputs": [],
   "source": [
    "dataAfter = restaurant_df_en.copy()"
   ]
  },
  {
   "cell_type": "code",
   "execution_count": null,
   "metadata": {},
   "outputs": [],
   "source": []
  },
  {
   "cell_type": "code",
   "execution_count": 256,
   "metadata": {},
   "outputs": [],
   "source": [
    "#Defining the independent variables and dependent variables\n",
    "target = dataAfter[['rate']]\n",
    "\n",
    "features = dataAfter.drop(columns = ['rate', 'new_reviews', 'name'],axis = 1)"
   ]
  },
  {
   "cell_type": "markdown",
   "metadata": {},
   "source": [
    "- name - most of the names have their short address with their names. The number of words can not be used to analyse the data"
   ]
  },
  {
   "cell_type": "code",
   "execution_count": 257,
   "metadata": {},
   "outputs": [],
   "source": [
    "imp_median = SimpleImputer(missing_values=np.NaN, strategy='median')"
   ]
  },
  {
   "cell_type": "code",
   "execution_count": 258,
   "metadata": {},
   "outputs": [],
   "source": [
    "restaurant_df_imp = pd.DataFrame(imp_median.fit_transform(features))"
   ]
  },
  {
   "cell_type": "code",
   "execution_count": 259,
   "metadata": {},
   "outputs": [
    {
     "data": {
      "text/plain": [
       "0"
      ]
     },
     "execution_count": 259,
     "metadata": {},
     "output_type": "execute_result"
    }
   ],
   "source": [
    "restaurant_df_imp.isnull().sum().sum()"
   ]
  },
  {
   "cell_type": "code",
   "execution_count": 260,
   "metadata": {},
   "outputs": [],
   "source": [
    "restaurant_df_imp.columns = features.columns"
   ]
  },
  {
   "cell_type": "code",
   "execution_count": 261,
   "metadata": {},
   "outputs": [
    {
     "data": {
      "text/html": [
       "<div>\n",
       "<style scoped>\n",
       "    .dataframe tbody tr th:only-of-type {\n",
       "        vertical-align: middle;\n",
       "    }\n",
       "\n",
       "    .dataframe tbody tr th {\n",
       "        vertical-align: top;\n",
       "    }\n",
       "\n",
       "    .dataframe thead th {\n",
       "        text-align: right;\n",
       "    }\n",
       "</style>\n",
       "<table border=\"1\" class=\"dataframe\">\n",
       "  <thead>\n",
       "    <tr style=\"text-align: right;\">\n",
       "      <th></th>\n",
       "      <th>city</th>\n",
       "      <th>cuisines</th>\n",
       "      <th>ranking</th>\n",
       "      <th>price_range</th>\n",
       "      <th>number_of_reviews</th>\n",
       "    </tr>\n",
       "  </thead>\n",
       "  <tbody>\n",
       "    <tr>\n",
       "      <th>0</th>\n",
       "      <td>0.0</td>\n",
       "      <td>0.0</td>\n",
       "      <td>1.0</td>\n",
       "      <td>0.0</td>\n",
       "      <td>136.0</td>\n",
       "    </tr>\n",
       "    <tr>\n",
       "      <th>1</th>\n",
       "      <td>0.0</td>\n",
       "      <td>1.0</td>\n",
       "      <td>2.0</td>\n",
       "      <td>1.0</td>\n",
       "      <td>812.0</td>\n",
       "    </tr>\n",
       "    <tr>\n",
       "      <th>2</th>\n",
       "      <td>0.0</td>\n",
       "      <td>2.0</td>\n",
       "      <td>3.0</td>\n",
       "      <td>1.0</td>\n",
       "      <td>567.0</td>\n",
       "    </tr>\n",
       "    <tr>\n",
       "      <th>3</th>\n",
       "      <td>0.0</td>\n",
       "      <td>3.0</td>\n",
       "      <td>4.0</td>\n",
       "      <td>1.0</td>\n",
       "      <td>564.0</td>\n",
       "    </tr>\n",
       "    <tr>\n",
       "      <th>4</th>\n",
       "      <td>0.0</td>\n",
       "      <td>4.0</td>\n",
       "      <td>5.0</td>\n",
       "      <td>1.0</td>\n",
       "      <td>316.0</td>\n",
       "    </tr>\n",
       "  </tbody>\n",
       "</table>\n",
       "</div>"
      ],
      "text/plain": [
       "   city  cuisines  ranking  price_range  number_of_reviews\n",
       "0   0.0       0.0      1.0          0.0              136.0\n",
       "1   0.0       1.0      2.0          1.0              812.0\n",
       "2   0.0       2.0      3.0          1.0              567.0\n",
       "3   0.0       3.0      4.0          1.0              564.0\n",
       "4   0.0       4.0      5.0          1.0              316.0"
      ]
     },
     "execution_count": 261,
     "metadata": {},
     "output_type": "execute_result"
    }
   ],
   "source": [
    "restaurant_df_imp.head()"
   ]
  },
  {
   "cell_type": "markdown",
   "metadata": {},
   "source": [
    "## 4.2 Scaling the data"
   ]
  },
  {
   "cell_type": "markdown",
   "metadata": {},
   "source": [
    "> We scale the data because it helps to normalise the data within a particular range and every feature transforms to a common scale"
   ]
  },
  {
   "cell_type": "markdown",
   "metadata": {},
   "source": [
    "- Z-score of the input data, relative to the sample mean and standard deviation.\n",
    "- It allows us to calculate the probability of a score occurring within our normal distribution and enables us to compare two scores that are from different normal distributions.\n",
    "- A Z-score is the number of standard deviations from the mean a data point is.\n",
    "- A Z-score is also known as a standard score and it can be placed on a normal distribution curve.\n",
    "- The Z-score is a test of statistical significance that helps you decide whether or not to reject the null hypothesis. The p-value is the probability that you have falsely rejected the null hypothesis.\n",
    "- Z-scores are measures of standard deviation."
   ]
  },
  {
   "cell_type": "code",
   "execution_count": 262,
   "metadata": {},
   "outputs": [
    {
     "data": {
      "text/html": [
       "<div>\n",
       "<style scoped>\n",
       "    .dataframe tbody tr th:only-of-type {\n",
       "        vertical-align: middle;\n",
       "    }\n",
       "\n",
       "    .dataframe tbody tr th {\n",
       "        vertical-align: top;\n",
       "    }\n",
       "\n",
       "    .dataframe thead th {\n",
       "        text-align: right;\n",
       "    }\n",
       "</style>\n",
       "<table border=\"1\" class=\"dataframe\">\n",
       "  <thead>\n",
       "    <tr style=\"text-align: right;\">\n",
       "      <th></th>\n",
       "      <th>city</th>\n",
       "      <th>cuisines</th>\n",
       "      <th>ranking</th>\n",
       "      <th>price_range</th>\n",
       "      <th>number_of_reviews</th>\n",
       "    </tr>\n",
       "  </thead>\n",
       "  <tbody>\n",
       "    <tr>\n",
       "      <th>0</th>\n",
       "      <td>-1.833984</td>\n",
       "      <td>-0.831255</td>\n",
       "      <td>-0.922911</td>\n",
       "      <td>-0.744400</td>\n",
       "      <td>-0.050956</td>\n",
       "    </tr>\n",
       "    <tr>\n",
       "      <th>1</th>\n",
       "      <td>-1.833984</td>\n",
       "      <td>-0.831068</td>\n",
       "      <td>-0.922631</td>\n",
       "      <td>0.125702</td>\n",
       "      <td>1.930327</td>\n",
       "    </tr>\n",
       "    <tr>\n",
       "      <th>2</th>\n",
       "      <td>-1.833984</td>\n",
       "      <td>-0.830880</td>\n",
       "      <td>-0.922350</td>\n",
       "      <td>0.125702</td>\n",
       "      <td>1.212258</td>\n",
       "    </tr>\n",
       "    <tr>\n",
       "      <th>3</th>\n",
       "      <td>-1.833984</td>\n",
       "      <td>-0.830692</td>\n",
       "      <td>-0.922070</td>\n",
       "      <td>0.125702</td>\n",
       "      <td>1.203466</td>\n",
       "    </tr>\n",
       "    <tr>\n",
       "      <th>4</th>\n",
       "      <td>-1.833984</td>\n",
       "      <td>-0.830505</td>\n",
       "      <td>-0.921790</td>\n",
       "      <td>0.125702</td>\n",
       "      <td>0.476604</td>\n",
       "    </tr>\n",
       "  </tbody>\n",
       "</table>\n",
       "</div>"
      ],
      "text/plain": [
       "       city  cuisines   ranking  price_range  number_of_reviews\n",
       "0 -1.833984 -0.831255 -0.922911    -0.744400          -0.050956\n",
       "1 -1.833984 -0.831068 -0.922631     0.125702           1.930327\n",
       "2 -1.833984 -0.830880 -0.922350     0.125702           1.212258\n",
       "3 -1.833984 -0.830692 -0.922070     0.125702           1.203466\n",
       "4 -1.833984 -0.830505 -0.921790     0.125702           0.476604"
      ]
     },
     "execution_count": 262,
     "metadata": {},
     "output_type": "execute_result"
    }
   ],
   "source": [
    "data_scaled=restaurant_df_imp.apply(zscore)\n",
    "data_scaled.head()"
   ]
  },
  {
   "cell_type": "markdown",
   "metadata": {},
   "source": [
    "## 4.2 Splitting the Dataset"
   ]
  },
  {
   "cell_type": "code",
   "execution_count": 266,
   "metadata": {},
   "outputs": [
    {
     "data": {
      "text/html": [
       "<div>\n",
       "<style scoped>\n",
       "    .dataframe tbody tr th:only-of-type {\n",
       "        vertical-align: middle;\n",
       "    }\n",
       "\n",
       "    .dataframe tbody tr th {\n",
       "        vertical-align: top;\n",
       "    }\n",
       "\n",
       "    .dataframe thead th {\n",
       "        text-align: right;\n",
       "    }\n",
       "</style>\n",
       "<table border=\"1\" class=\"dataframe\">\n",
       "  <thead>\n",
       "    <tr style=\"text-align: right;\">\n",
       "      <th></th>\n",
       "      <th>city</th>\n",
       "      <th>cuisines</th>\n",
       "      <th>ranking</th>\n",
       "      <th>price_range</th>\n",
       "      <th>number_of_reviews</th>\n",
       "    </tr>\n",
       "  </thead>\n",
       "  <tbody>\n",
       "    <tr>\n",
       "      <th>64041</th>\n",
       "      <td>24.0</td>\n",
       "      <td>67.0</td>\n",
       "      <td>3344.0</td>\n",
       "      <td>0.0</td>\n",
       "      <td>277.0</td>\n",
       "    </tr>\n",
       "    <tr>\n",
       "      <th>1224</th>\n",
       "      <td>0.0</td>\n",
       "      <td>332.0</td>\n",
       "      <td>1236.0</td>\n",
       "      <td>2.0</td>\n",
       "      <td>87.0</td>\n",
       "    </tr>\n",
       "    <tr>\n",
       "      <th>14681</th>\n",
       "      <td>5.0</td>\n",
       "      <td>4904.0</td>\n",
       "      <td>10.0</td>\n",
       "      <td>0.0</td>\n",
       "      <td>956.0</td>\n",
       "    </tr>\n",
       "    <tr>\n",
       "      <th>7963</th>\n",
       "      <td>2.0</td>\n",
       "      <td>2687.0</td>\n",
       "      <td>4489.0</td>\n",
       "      <td>0.0</td>\n",
       "      <td>62.0</td>\n",
       "    </tr>\n",
       "    <tr>\n",
       "      <th>58575</th>\n",
       "      <td>21.0</td>\n",
       "      <td>855.0</td>\n",
       "      <td>2355.0</td>\n",
       "      <td>2.0</td>\n",
       "      <td>8.0</td>\n",
       "    </tr>\n",
       "  </tbody>\n",
       "</table>\n",
       "</div>"
      ],
      "text/plain": [
       "       city  cuisines  ranking  price_range  number_of_reviews\n",
       "64041  24.0      67.0   3344.0          0.0              277.0\n",
       "1224    0.0     332.0   1236.0          2.0               87.0\n",
       "14681   5.0    4904.0     10.0          0.0              956.0\n",
       "7963    2.0    2687.0   4489.0          0.0               62.0\n",
       "58575  21.0     855.0   2355.0          2.0                8.0"
      ]
     },
     "execution_count": 266,
     "metadata": {},
     "output_type": "execute_result"
    }
   ],
   "source": [
    "#Getting Test and Training Set\n",
    "x_train,x_test,y_train,y_test=train_test_split(restaurant_df_imp, target, test_size=.1,random_state=353)\n",
    "x_train.head()"
   ]
  },
  {
   "cell_type": "code",
   "execution_count": 267,
   "metadata": {},
   "outputs": [
    {
     "data": {
      "text/html": [
       "<div>\n",
       "<style scoped>\n",
       "    .dataframe tbody tr th:only-of-type {\n",
       "        vertical-align: middle;\n",
       "    }\n",
       "\n",
       "    .dataframe tbody tr th {\n",
       "        vertical-align: top;\n",
       "    }\n",
       "\n",
       "    .dataframe thead th {\n",
       "        text-align: right;\n",
       "    }\n",
       "</style>\n",
       "<table border=\"1\" class=\"dataframe\">\n",
       "  <thead>\n",
       "    <tr style=\"text-align: right;\">\n",
       "      <th></th>\n",
       "      <th>rate</th>\n",
       "    </tr>\n",
       "  </thead>\n",
       "  <tbody>\n",
       "    <tr>\n",
       "      <th>92740</th>\n",
       "      <td>4.0</td>\n",
       "    </tr>\n",
       "    <tr>\n",
       "      <th>1233</th>\n",
       "      <td>4.0</td>\n",
       "    </tr>\n",
       "    <tr>\n",
       "      <th>21951</th>\n",
       "      <td>4.5</td>\n",
       "    </tr>\n",
       "    <tr>\n",
       "      <th>9860</th>\n",
       "      <td>3.5</td>\n",
       "    </tr>\n",
       "    <tr>\n",
       "      <th>85948</th>\n",
       "      <td>3.5</td>\n",
       "    </tr>\n",
       "  </tbody>\n",
       "</table>\n",
       "</div>"
      ],
      "text/plain": [
       "       rate\n",
       "92740   4.0\n",
       "1233    4.0\n",
       "21951   4.5\n",
       "9860    3.5\n",
       "85948   3.5"
      ]
     },
     "execution_count": 267,
     "metadata": {},
     "output_type": "execute_result"
    }
   ],
   "source": [
    "y_train.head()"
   ]
  },
  {
   "cell_type": "code",
   "execution_count": 268,
   "metadata": {},
   "outputs": [
    {
     "data": {
      "text/plain": [
       "(78033, 5)"
      ]
     },
     "execution_count": 268,
     "metadata": {},
     "output_type": "execute_result"
    }
   ],
   "source": [
    "x_train.shape"
   ]
  },
  {
   "cell_type": "code",
   "execution_count": 269,
   "metadata": {},
   "outputs": [
    {
     "data": {
      "text/plain": [
       "(8671, 5)"
      ]
     },
     "execution_count": 269,
     "metadata": {},
     "output_type": "execute_result"
    }
   ],
   "source": [
    "x_test.shape"
   ]
  },
  {
   "cell_type": "code",
   "execution_count": 270,
   "metadata": {},
   "outputs": [
    {
     "data": {
      "text/plain": [
       "(78033, 1)"
      ]
     },
     "execution_count": 270,
     "metadata": {},
     "output_type": "execute_result"
    }
   ],
   "source": [
    "y_train.shape"
   ]
  },
  {
   "cell_type": "code",
   "execution_count": null,
   "metadata": {},
   "outputs": [],
   "source": []
  },
  {
   "cell_type": "code",
   "execution_count": 271,
   "metadata": {},
   "outputs": [],
   "source": [
    "### Linear Regression"
   ]
  },
  {
   "cell_type": "code",
   "execution_count": 272,
   "metadata": {},
   "outputs": [
    {
     "data": {
      "text/plain": [
       "0.1504748663547366"
      ]
     },
     "execution_count": 272,
     "metadata": {},
     "output_type": "execute_result"
    }
   ],
   "source": [
    "#Prepare a Linear Regression Model\n",
    "reg=LinearRegression()\n",
    "reg.fit(x_train,y_train)\n",
    "y_pred=reg.predict(x_test)\n",
    "\n",
    "r2_score(y_test,y_pred)"
   ]
  },
  {
   "cell_type": "code",
   "execution_count": 273,
   "metadata": {},
   "outputs": [
    {
     "data": {
      "text/plain": [
       "0.6965013258399277"
      ]
     },
     "execution_count": 273,
     "metadata": {},
     "output_type": "execute_result"
    }
   ],
   "source": [
    "#Prepairng a Decision Tree Regression\n",
    "from sklearn.tree import DecisionTreeRegressor\n",
    "# x_train,x_test,y_train,y_test=train_test_split(x,y,test_size=.1,random_state=105)\n",
    "DTree=DecisionTreeRegressor(min_samples_leaf=.0001)\n",
    "DTree.fit(x_train,y_train)\n",
    "y_predict=DTree.predict(x_test)\n",
    "\n",
    "r2_score(y_test,y_predict)"
   ]
  },
  {
   "cell_type": "code",
   "execution_count": 274,
   "metadata": {},
   "outputs": [],
   "source": [
    "#Preparing Random Forest REgression\n",
    "from sklearn.ensemble import RandomForestRegressor"
   ]
  },
  {
   "cell_type": "code",
   "execution_count": 275,
   "metadata": {},
   "outputs": [
    {
     "data": {
      "text/plain": [
       "0.7508135963441009"
      ]
     },
     "execution_count": 275,
     "metadata": {},
     "output_type": "execute_result"
    }
   ],
   "source": [
    "RForest=RandomForestRegressor(n_estimators=500,random_state=329,min_samples_leaf=.0001)\n",
    "RForest.fit(x_train,y_train)\n",
    "y_predict=RForest.predict(x_test)\n",
    "\n",
    "r2_score(y_test,y_predict)"
   ]
  },
  {
   "cell_type": "code",
   "execution_count": 276,
   "metadata": {},
   "outputs": [
    {
     "data": {
      "text/plain": [
       "0.7152760818112625"
      ]
     },
     "execution_count": 276,
     "metadata": {},
     "output_type": "execute_result"
    }
   ],
   "source": [
    "#Preparing Extra Tree Regression\n",
    "from sklearn.ensemble import  ExtraTreesRegressor\n",
    "ETree=ExtraTreesRegressor(n_estimators = 100)\n",
    "ETree.fit(x_train,y_train)\n",
    "y_predict=ETree.predict(x_test)\n",
    "\n",
    "\n",
    "from sklearn.metrics import r2_score\n",
    "r2_score(y_test,y_predict)"
   ]
  },
  {
   "cell_type": "code",
   "execution_count": 277,
   "metadata": {},
   "outputs": [],
   "source": [
    "xgb = XGBClassifier()\n",
    "xgb = xgb.fit(x_train,y_train)"
   ]
  },
  {
   "cell_type": "code",
   "execution_count": 278,
   "metadata": {},
   "outputs": [
    {
     "data": {
      "text/plain": [
       "0.6459483376391028"
      ]
     },
     "execution_count": 278,
     "metadata": {},
     "output_type": "execute_result"
    }
   ],
   "source": [
    "y_predict=xgb.predict(x_test)\n",
    "\n",
    "r2_score(y_test,y_predict)"
   ]
  },
  {
   "cell_type": "code",
   "execution_count": null,
   "metadata": {},
   "outputs": [],
   "source": []
  },
  {
   "cell_type": "markdown",
   "metadata": {},
   "source": [
    "## Limitation and  Conclusion"
   ]
  },
  {
   "cell_type": "markdown",
   "metadata": {},
   "source": [
    "**Limitaions:**<br>\n",
    "- The model can predict scores only for the REstaurants provided in csv \n",
    "- Assuming that missing numbers as unique U i.e no Price Range provided for restaurant\n",
    "- restaurants have 1204 Number of Reviews and 14  Ranking missing which is replaced by median\n",
    "- The model is only limited to predict Bengaluru Data\n",
    "- Due to computation time and prediction for single data didn't go with one hot encoding and i go with encode the variabe \n",
    "\n",
    "**conclusion**\n",
    "- The model is able to predict with 75% of accuracy \n",
    "- only 12.7% of restaurants have book table options in Bengaluru\n",
    "- Only 65.71% of restaurants have ratings between including 4-5.\n",
    "\n",
    "\n",
    "**Improvement**\n",
    "- User interface can be made which takes inputs for a new restuaunts\n",
    "- creating columns for cuisine types to separate the comma separated cuisines rather than encoding. use get dummy method then take top 10 most frequest cuisines as in columns\n",
    "- XGBoost and other algorithms can be used to check if it performs better than Random forest\n",
    "\n"
   ]
  },
  {
   "cell_type": "markdown",
   "metadata": {},
   "source": [
    "## References"
   ]
  },
  {
   "cell_type": "markdown",
   "metadata": {},
   "source": [
    "https://docs.scipy.org/doc/numpy-1.14.0/reference/\n",
    "https://pandas.pydata.org/\n",
    "https://docs.scipy.org/doc/scipy/reference/generated/scipy.io.arff.loadarff.html\n",
    "https://github.com/iskandr/fancyimpute\n",
    "https://pypi.org/project/impyute/\n",
    "http://scikit-learn.org/stable/modules/preprocessing.html\n",
    "http://scikit-learn.org/stable/modules/generated/sklearn.model_selection.train_test_split.html\n",
    "https://docs.python.org/3/library/collections.html\n",
    "http://xgboost.readthedocs.io/en/latest/python/python_api.html\n",
    "http://scikit-learn.org/stable/modules/svm.html\n",
    "http://scikit-learn.org/stable/modules/generated/sklearn.ensemble.RandomForestClassifier.html\n",
    "http://scikit-learn.org/stable/modules/generated/sklearn.linear_model.LogisticRegression.html\n",
    "http://contrib.scikit-learn.org/imbalanced-learn/stable/generated/imblearn.ensemble.BalancedBaggingClassifier.html\n",
    "http://scikit-learn.org/stable/modules/generated/sklearn.tree.DecisionTreeClassifier.html\n",
    "http://scikit-learn.org/stable/modules/generated/sklearn.naive_bayes.GaussianNB.html\n",
    "https://docs.python.org/2/library/random.html\n",
    "http://scikit-learn.org/stable/modules/classes.html"
   ]
  },
  {
   "cell_type": "markdown",
   "metadata": {},
   "source": [
    "## End of Project"
   ]
  },
  {
   "cell_type": "code",
   "execution_count": null,
   "metadata": {},
   "outputs": [],
   "source": []
  }
 ],
 "metadata": {
  "kernelspec": {
   "display_name": "Python 3",
   "language": "python",
   "name": "python3"
  },
  "language_info": {
   "codemirror_mode": {
    "name": "ipython",
    "version": 3
   },
   "file_extension": ".py",
   "mimetype": "text/x-python",
   "name": "python",
   "nbconvert_exporter": "python",
   "pygments_lexer": "ipython3",
   "version": "3.7.6"
  }
 },
 "nbformat": 4,
 "nbformat_minor": 4
}
